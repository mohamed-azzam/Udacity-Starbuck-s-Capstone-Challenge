{
 "cells": [
  {
   "cell_type": "markdown",
   "metadata": {
    "deletable": false,
    "editable": false
   },
   "source": [
    "# Starbucks Capstone Challenge"
   ]
  },
  {
   "cell_type": "markdown",
   "metadata": {},
   "source": [
    "## Introduction\n",
    "\n",
    "- This data set contains simulated data that mimics customer behavior on the Starbucks rewards mobile app. Once every few days, Starbucks sends out an offer to users of the mobile app. An offer can be merely an advertisement for a drink or an actual offer such as a discount or BOGO (buy one get one free). Some users might not receive any offer during certain weeks.\n",
    "\n",
    "- Not all users receive the same offer, and that is the challenge to solve with this data set.\n",
    "\n",
    "- Your task is to combine transaction, demographic and offer data to determine which demographic groups respond best to which offer type. This data set is a simplified version of the real Starbucks app because the underlying simulator only has one product whereas Starbucks actually sells dozens of products.\n",
    "\n",
    "- Every offer has a validity period before the offer expires. As an example, a BOGO offer might be valid for only $5$ days. You'll see in the data set that informational offers have a validity period even though these ads are merely providing information about a product; for example, if an informational offer has 7 days of validity, you can assume the customer is feeling the influence of the offer for 7 days after receiving the advertisement.\n",
    "\n",
    "- You'll be given transactional data showing user purchases made on the app including the timestamp of purchase and the amount of money spent on a purchase. This transactional data also has a record for each offer that a user receives as well as a record for when a user actually views the offer. There are also records for when a user completes an offer.\n",
    "\n",
    "- Keep in mind as well that someone using the app might make a purchase through the app without having received an offer or seen an offer.\n",
    "\n",
    "\n",
    "## Data Sets\n",
    "\n",
    "The data is contained in three files:\n",
    "\n",
    "* portfolio.json - containing offer ids and meta data about each offer (duration, type, etc.)\n",
    "* profile.json - demographic data for each customer\n",
    "* transcript.json - records for transactions, offers received, offers viewed, and offers completed\n",
    "\n",
    "Here is the schema and explanation of each variable in the files:\n",
    "\n",
    "### profile.json\n",
    "\n",
    "* `age` (int) - age of the customer \n",
    "* `became_member_on` (int) - date when customer created an app account\n",
    "* `gender` (str) - gender of the customer (note some entries contain '`O`' for other rather than M or F)\n",
    "* `id` (str) - customer id\n",
    "* `income` (float) - customer's income\n",
    "\n",
    "### portfolio.json\n",
    "\n",
    "* `id` (string) - offer id\n",
    "* `offer_type` (string) - type of offer ie BOGO, discount, informational\n",
    "* `difficulty` (int) - minimum required spend to complete an offer\n",
    "* `reward` (int) - reward given for completing an offer\n",
    "* `duration` (int) - time for offer to be open, in days\n",
    "* `channels` (list of strings)\n",
    "\n",
    "\n",
    "\n",
    "### transcript.json\n",
    "\n",
    "* `event` (`str`) - record description (ie transaction, offer received, offer viewed, etc.)\n",
    "* `person` (`str`) - customer id\n",
    "* `time` (`int`) - time in hours since start of test. The data begins at time `t=0`\n",
    "* `value` - (`dict of strings`) - either an offer id or transaction amount depending on the record"
   ]
  },
  {
   "cell_type": "markdown",
   "metadata": {},
   "source": [
    "# Load Lib"
   ]
  },
  {
   "cell_type": "code",
   "execution_count": 1,
   "metadata": {
    "ExecuteTime": {
     "end_time": "2021-08-19T13:57:00.719839Z",
     "start_time": "2021-08-19T13:57:00.715253Z"
    }
   },
   "outputs": [],
   "source": [
    "from imp import reload \n",
    "from tabulate import tabulate"
   ]
  },
  {
   "cell_type": "code",
   "execution_count": 2,
   "metadata": {
    "ExecuteTime": {
     "end_time": "2021-08-19T13:57:01.425347Z",
     "start_time": "2021-08-19T13:57:00.722422Z"
    }
   },
   "outputs": [],
   "source": [
    "import pandas as pd\n",
    "import numpy as np\n",
    "import math\n",
    "import json\n",
    "\n",
    "import matplotlib.pyplot as plt\n",
    "import seaborn as sns\n",
    "\n",
    "%matplotlib inline"
   ]
  },
  {
   "cell_type": "code",
   "execution_count": 3,
   "metadata": {
    "ExecuteTime": {
     "end_time": "2021-08-19T13:57:01.576428Z",
     "start_time": "2021-08-19T13:57:01.426341Z"
    }
   },
   "outputs": [],
   "source": [
    "from sklearn.preprocessing import OneHotEncoder\n",
    "\n",
    "from sklearn.compose import ColumnTransformer\n",
    "from sklearn.preprocessing import MinMaxScaler\n",
    "from sklearn.pipeline import Pipeline,make_pipeline\n",
    "from sklearn.model_selection import train_test_split\n",
    "from sklearn.model_selection import GridSearchCV\n",
    "from sklearn.model_selection import cross_val_score\n",
    "from sklearn.model_selection import cross_validate\n",
    "\n",
    "from sklearn.linear_model import LogisticRegression\n",
    "\n",
    "from sklearn.metrics import confusion_matrix\n"
   ]
  },
  {
   "cell_type": "code",
   "execution_count": 4,
   "metadata": {
    "ExecuteTime": {
     "end_time": "2021-08-19T13:57:01.582184Z",
     "start_time": "2021-08-19T13:57:01.577606Z"
    }
   },
   "outputs": [
    {
     "data": {
      "text/html": [
       "<svg  width=\"550\" height=\"55\"><rect x=\"0\" y=\"0\" width=\"55\" height=\"55\" style=\"fill:#1f77b4;stroke-width:2;stroke:rgb(255,255,255)\"/><rect x=\"55\" y=\"0\" width=\"55\" height=\"55\" style=\"fill:#ff7f0e;stroke-width:2;stroke:rgb(255,255,255)\"/><rect x=\"110\" y=\"0\" width=\"55\" height=\"55\" style=\"fill:#2ca02c;stroke-width:2;stroke:rgb(255,255,255)\"/><rect x=\"165\" y=\"0\" width=\"55\" height=\"55\" style=\"fill:#d62728;stroke-width:2;stroke:rgb(255,255,255)\"/><rect x=\"220\" y=\"0\" width=\"55\" height=\"55\" style=\"fill:#9467bd;stroke-width:2;stroke:rgb(255,255,255)\"/><rect x=\"275\" y=\"0\" width=\"55\" height=\"55\" style=\"fill:#8c564b;stroke-width:2;stroke:rgb(255,255,255)\"/><rect x=\"330\" y=\"0\" width=\"55\" height=\"55\" style=\"fill:#e377c2;stroke-width:2;stroke:rgb(255,255,255)\"/><rect x=\"385\" y=\"0\" width=\"55\" height=\"55\" style=\"fill:#7f7f7f;stroke-width:2;stroke:rgb(255,255,255)\"/><rect x=\"440\" y=\"0\" width=\"55\" height=\"55\" style=\"fill:#bcbd22;stroke-width:2;stroke:rgb(255,255,255)\"/><rect x=\"495\" y=\"0\" width=\"55\" height=\"55\" style=\"fill:#17becf;stroke-width:2;stroke:rgb(255,255,255)\"/></svg>"
      ],
      "text/plain": [
       "[(0.12156862745098039, 0.4666666666666667, 0.7058823529411765),\n",
       " (1.0, 0.4980392156862745, 0.054901960784313725),\n",
       " (0.17254901960784313, 0.6274509803921569, 0.17254901960784313),\n",
       " (0.8392156862745098, 0.15294117647058825, 0.1568627450980392),\n",
       " (0.5803921568627451, 0.403921568627451, 0.7411764705882353),\n",
       " (0.5490196078431373, 0.33725490196078434, 0.29411764705882354),\n",
       " (0.8901960784313725, 0.4666666666666667, 0.7607843137254902),\n",
       " (0.4980392156862745, 0.4980392156862745, 0.4980392156862745),\n",
       " (0.7372549019607844, 0.7411764705882353, 0.13333333333333333),\n",
       " (0.09019607843137255, 0.7450980392156863, 0.8117647058823529)]"
      ]
     },
     "execution_count": 4,
     "metadata": {},
     "output_type": "execute_result"
    }
   ],
   "source": [
    "sns.color_palette()"
   ]
  },
  {
   "cell_type": "code",
   "execution_count": 5,
   "metadata": {
    "ExecuteTime": {
     "end_time": "2021-08-19T13:57:01.653787Z",
     "start_time": "2021-08-19T13:57:01.583541Z"
    }
   },
   "outputs": [],
   "source": [
    "plt.style.use('seaborn')\n",
    "plt.rcParams['figure.figsize'] = (10,5)\n",
    "plt.rcParams['lines.linewidth'] = 2\n",
    "\n",
    "\n",
    "font = {'family': 'serif',\n",
    "        'color':  '#2E86C1',\n",
    "        'weight': 'normal',\n",
    "        'size': 20,\n",
    "        }\n",
    "\n",
    "base_color = sns.color_palette()[0]"
   ]
  },
  {
   "cell_type": "code",
   "execution_count": 6,
   "metadata": {
    "ExecuteTime": {
     "end_time": "2021-08-19T13:57:01.728635Z",
     "start_time": "2021-08-19T13:57:01.654874Z"
    }
   },
   "outputs": [],
   "source": [
    "import helper.print as p\n",
    "from helper.confusion_matrix import make_confusion_matrix"
   ]
  },
  {
   "cell_type": "code",
   "execution_count": 7,
   "metadata": {
    "ExecuteTime": {
     "end_time": "2021-08-19T13:57:01.803104Z",
     "start_time": "2021-08-19T13:57:01.730288Z"
    }
   },
   "outputs": [
    {
     "data": {
      "text/plain": [
       "<module 'helper.print' from '/home/mazzam/Projects/Starbucks Capstone/helper/print.py'>"
      ]
     },
     "execution_count": 7,
     "metadata": {},
     "output_type": "execute_result"
    }
   ],
   "source": [
    "reload(p)"
   ]
  },
  {
   "cell_type": "markdown",
   "metadata": {},
   "source": [
    "# Import Datasets"
   ]
  },
  {
   "cell_type": "code",
   "execution_count": 8,
   "metadata": {
    "ExecuteTime": {
     "end_time": "2021-08-19T13:57:03.126714Z",
     "start_time": "2021-08-19T13:57:01.804116Z"
    }
   },
   "outputs": [],
   "source": [
    "# read in the json files\n",
    "portfolio = pd.read_json('data/portfolio.json', orient='records', lines=True)\n",
    "profile = pd.read_json('data/profile.json', orient='records', lines=True)\n",
    "transcript = pd.read_json('data/transcript.json', orient='records', lines=True)"
   ]
  },
  {
   "cell_type": "code",
   "execution_count": 9,
   "metadata": {
    "ExecuteTime": {
     "end_time": "2021-08-19T13:57:03.134221Z",
     "start_time": "2021-08-19T13:57:03.128370Z"
    }
   },
   "outputs": [
    {
     "data": {
      "text/html": [
       "<div>\n",
       "<style scoped>\n",
       "    .dataframe tbody tr th:only-of-type {\n",
       "        vertical-align: middle;\n",
       "    }\n",
       "\n",
       "    .dataframe tbody tr th {\n",
       "        vertical-align: top;\n",
       "    }\n",
       "\n",
       "    .dataframe thead th {\n",
       "        text-align: right;\n",
       "    }\n",
       "</style>\n",
       "<table border=\"1\" class=\"dataframe\">\n",
       "  <thead>\n",
       "    <tr style=\"text-align: right;\">\n",
       "      <th></th>\n",
       "      <th>gender</th>\n",
       "      <th>age</th>\n",
       "      <th>id</th>\n",
       "      <th>became_member_on</th>\n",
       "      <th>income</th>\n",
       "    </tr>\n",
       "  </thead>\n",
       "  <tbody>\n",
       "    <tr>\n",
       "      <th>0</th>\n",
       "      <td>None</td>\n",
       "      <td>118</td>\n",
       "      <td>68be06ca386d4c31939f3a4f0e3dd783</td>\n",
       "      <td>20170212</td>\n",
       "      <td>NaN</td>\n",
       "    </tr>\n",
       "    <tr>\n",
       "      <th>1</th>\n",
       "      <td>F</td>\n",
       "      <td>55</td>\n",
       "      <td>0610b486422d4921ae7d2bf64640c50b</td>\n",
       "      <td>20170715</td>\n",
       "      <td>112000.0</td>\n",
       "    </tr>\n",
       "  </tbody>\n",
       "</table>\n",
       "</div>"
      ],
      "text/plain": [
       "  gender  age                                id  became_member_on    income\n",
       "0   None  118  68be06ca386d4c31939f3a4f0e3dd783          20170212       NaN\n",
       "1      F   55  0610b486422d4921ae7d2bf64640c50b          20170715  112000.0"
      ]
     },
     "execution_count": 9,
     "metadata": {},
     "output_type": "execute_result"
    }
   ],
   "source": [
    "profile.head(2)"
   ]
  },
  {
   "cell_type": "code",
   "execution_count": 10,
   "metadata": {
    "ExecuteTime": {
     "end_time": "2021-08-19T13:57:03.240439Z",
     "start_time": "2021-08-19T13:57:03.135708Z"
    }
   },
   "outputs": [
    {
     "data": {
      "text/html": [
       "<div>\n",
       "<style scoped>\n",
       "    .dataframe tbody tr th:only-of-type {\n",
       "        vertical-align: middle;\n",
       "    }\n",
       "\n",
       "    .dataframe tbody tr th {\n",
       "        vertical-align: top;\n",
       "    }\n",
       "\n",
       "    .dataframe thead th {\n",
       "        text-align: right;\n",
       "    }\n",
       "</style>\n",
       "<table border=\"1\" class=\"dataframe\">\n",
       "  <thead>\n",
       "    <tr style=\"text-align: right;\">\n",
       "      <th></th>\n",
       "      <th>reward</th>\n",
       "      <th>channels</th>\n",
       "      <th>difficulty</th>\n",
       "      <th>duration</th>\n",
       "      <th>offer_type</th>\n",
       "      <th>id</th>\n",
       "    </tr>\n",
       "  </thead>\n",
       "  <tbody>\n",
       "    <tr>\n",
       "      <th>0</th>\n",
       "      <td>10</td>\n",
       "      <td>[email, mobile, social]</td>\n",
       "      <td>10</td>\n",
       "      <td>7</td>\n",
       "      <td>bogo</td>\n",
       "      <td>ae264e3637204a6fb9bb56bc8210ddfd</td>\n",
       "    </tr>\n",
       "    <tr>\n",
       "      <th>1</th>\n",
       "      <td>10</td>\n",
       "      <td>[web, email, mobile, social]</td>\n",
       "      <td>10</td>\n",
       "      <td>5</td>\n",
       "      <td>bogo</td>\n",
       "      <td>4d5c57ea9a6940dd891ad53e9dbe8da0</td>\n",
       "    </tr>\n",
       "  </tbody>\n",
       "</table>\n",
       "</div>"
      ],
      "text/plain": [
       "   reward                      channels  difficulty  duration offer_type  \\\n",
       "0      10       [email, mobile, social]          10         7       bogo   \n",
       "1      10  [web, email, mobile, social]          10         5       bogo   \n",
       "\n",
       "                                 id  \n",
       "0  ae264e3637204a6fb9bb56bc8210ddfd  \n",
       "1  4d5c57ea9a6940dd891ad53e9dbe8da0  "
      ]
     },
     "execution_count": 10,
     "metadata": {},
     "output_type": "execute_result"
    }
   ],
   "source": [
    "portfolio.head(2)"
   ]
  },
  {
   "cell_type": "code",
   "execution_count": 11,
   "metadata": {
    "ExecuteTime": {
     "end_time": "2021-08-19T13:57:03.314938Z",
     "start_time": "2021-08-19T13:57:03.241527Z"
    }
   },
   "outputs": [
    {
     "data": {
      "text/html": [
       "<div>\n",
       "<style scoped>\n",
       "    .dataframe tbody tr th:only-of-type {\n",
       "        vertical-align: middle;\n",
       "    }\n",
       "\n",
       "    .dataframe tbody tr th {\n",
       "        vertical-align: top;\n",
       "    }\n",
       "\n",
       "    .dataframe thead th {\n",
       "        text-align: right;\n",
       "    }\n",
       "</style>\n",
       "<table border=\"1\" class=\"dataframe\">\n",
       "  <thead>\n",
       "    <tr style=\"text-align: right;\">\n",
       "      <th></th>\n",
       "      <th>person</th>\n",
       "      <th>event</th>\n",
       "      <th>value</th>\n",
       "      <th>time</th>\n",
       "    </tr>\n",
       "  </thead>\n",
       "  <tbody>\n",
       "    <tr>\n",
       "      <th>0</th>\n",
       "      <td>78afa995795e4d85b5d9ceeca43f5fef</td>\n",
       "      <td>offer received</td>\n",
       "      <td>{'offer id': '9b98b8c7a33c4b65b9aebfe6a799e6d9'}</td>\n",
       "      <td>0</td>\n",
       "    </tr>\n",
       "    <tr>\n",
       "      <th>1</th>\n",
       "      <td>a03223e636434f42ac4c3df47e8bac43</td>\n",
       "      <td>offer received</td>\n",
       "      <td>{'offer id': '0b1e1539f2cc45b7b9fa7c272da2e1d7'}</td>\n",
       "      <td>0</td>\n",
       "    </tr>\n",
       "  </tbody>\n",
       "</table>\n",
       "</div>"
      ],
      "text/plain": [
       "                             person           event  \\\n",
       "0  78afa995795e4d85b5d9ceeca43f5fef  offer received   \n",
       "1  a03223e636434f42ac4c3df47e8bac43  offer received   \n",
       "\n",
       "                                              value  time  \n",
       "0  {'offer id': '9b98b8c7a33c4b65b9aebfe6a799e6d9'}     0  \n",
       "1  {'offer id': '0b1e1539f2cc45b7b9fa7c272da2e1d7'}     0  "
      ]
     },
     "execution_count": 11,
     "metadata": {},
     "output_type": "execute_result"
    }
   ],
   "source": [
    "transcript.head(2)"
   ]
  },
  {
   "cell_type": "markdown",
   "metadata": {},
   "source": [
    "# Assessing"
   ]
  },
  {
   "cell_type": "markdown",
   "metadata": {},
   "source": [
    "## profile"
   ]
  },
  {
   "cell_type": "code",
   "execution_count": 12,
   "metadata": {
    "ExecuteTime": {
     "end_time": "2021-08-19T13:57:03.455021Z",
     "start_time": "2021-08-19T13:57:03.315884Z"
    }
   },
   "outputs": [
    {
     "name": "stdout",
     "output_type": "stream",
     "text": [
      "▬▬▬▬▬▬▬▬▬▬▬▬▬▬▬▬▬▬▬▬▬▬▬▬▬ Check the type on columns ▬▬▬▬▬▬▬▬▬▬▬▬▬▬▬▬▬▬▬▬ \n",
      "\n",
      "<class 'pandas.core.frame.DataFrame'>\n",
      "RangeIndex: 17000 entries, 0 to 16999\n",
      "Data columns (total 5 columns):\n",
      " #   Column            Non-Null Count  Dtype  \n",
      "---  ------            --------------  -----  \n",
      " 0   gender            14825 non-null  object \n",
      " 1   age               17000 non-null  int64  \n",
      " 2   id                17000 non-null  object \n",
      " 3   became_member_on  17000 non-null  int64  \n",
      " 4   income            14825 non-null  float64\n",
      "dtypes: float64(1), int64(2), object(2)\n",
      "memory usage: 664.2+ KB\n"
     ]
    }
   ],
   "source": [
    "# check the type on columns\n",
    "p.print_comment('check the type on columns')\n",
    "\n",
    "profile.info()"
   ]
  },
  {
   "cell_type": "code",
   "execution_count": 13,
   "metadata": {
    "ExecuteTime": {
     "end_time": "2021-08-19T13:57:03.521992Z",
     "start_time": "2021-08-19T13:57:03.456017Z"
    }
   },
   "outputs": [
    {
     "name": "stdout",
     "output_type": "stream",
     "text": [
      "▬▬▬▬▬▬▬▬▬▬▬▬▬▬▬▬▬▬▬▬▬▬▬▬▬ Check the null values ▬▬▬▬▬▬▬▬▬▬▬▬▬▬▬▬▬▬▬▬ \n",
      "\n"
     ]
    },
    {
     "data": {
      "text/plain": [
       "gender              2175\n",
       "age                    0\n",
       "id                     0\n",
       "became_member_on       0\n",
       "income              2175\n",
       "dtype: int64"
      ]
     },
     "execution_count": 13,
     "metadata": {},
     "output_type": "execute_result"
    }
   ],
   "source": [
    "# check the null values\n",
    "p.print_comment('check the null values')\n",
    "\n",
    "profile.isnull().sum()"
   ]
  },
  {
   "cell_type": "code",
   "execution_count": 14,
   "metadata": {
    "ExecuteTime": {
     "end_time": "2021-08-19T13:57:03.624208Z",
     "start_time": "2021-08-19T13:57:03.523603Z"
    }
   },
   "outputs": [
    {
     "name": "stdout",
     "output_type": "stream",
     "text": [
      "▬▬▬▬▬▬▬▬▬▬▬▬▬▬▬▬▬▬▬▬▬▬▬▬▬ Check the age column ▬▬▬▬▬▬▬▬▬▬▬▬▬▬▬▬▬▬▬▬ \n",
      "\n",
      "118    2175\n",
      "58      408\n",
      "53      372\n",
      "51      363\n",
      "54      359\n",
      "       ... \n",
      "100      12\n",
      "96        8\n",
      "98        5\n",
      "101       5\n",
      "99        5\n",
      "Name: age, Length: 85, dtype: int64 \n",
      "\n",
      "▬▬▬▬▬▬▬▬▬▬▬▬▬▬▬▬▬▬▬▬▬▬▬▬▬ Describe of age column ▬▬▬▬▬▬▬▬▬▬▬▬▬▬▬▬▬▬▬▬ \n",
      "\n",
      "count    17000.000000\n",
      "mean        62.531412\n",
      "std         26.738580\n",
      "min         18.000000\n",
      "25%         45.000000\n",
      "50%         58.000000\n",
      "75%         73.000000\n",
      "max        118.000000\n",
      "Name: age, dtype: float64 \n",
      "\n",
      "▬▬▬▬▬▬▬▬▬▬▬▬▬▬▬▬▬▬▬▬▬▬▬▬▬ Check the age 118 ▬▬▬▬▬▬▬▬▬▬▬▬▬▬▬▬▬▬▬▬ \n",
      "\n",
      "  gender  age                                id  became_member_on  income\n",
      "0   None  118  68be06ca386d4c31939f3a4f0e3dd783          20170212     NaN\n",
      "2   None  118  38fe809add3b4fcf9315a9694bb96ff5          20180712     NaN\n"
     ]
    },
    {
     "data": {
      "text/plain": [
       "118    2175\n",
       "Name: age, dtype: int64"
      ]
     },
     "execution_count": 14,
     "metadata": {},
     "output_type": "execute_result"
    }
   ],
   "source": [
    "p.print_comment('check the age column')\n",
    "\n",
    "# check the age column\n",
    "print(profile.age.value_counts(), '\\n')\n",
    "\n",
    "p.print_comment('describe of age column')\n",
    "\n",
    "# check the describe of age column\n",
    "print(profile.age.describe(), '\\n')\n",
    "\n",
    "p.print_comment('check the age 118')\n",
    "\n",
    "# check the age 118\n",
    "x = profile[profile.age == 118]\n",
    "print(x[:2])\n",
    "x.age.value_counts()"
   ]
  },
  {
   "cell_type": "code",
   "execution_count": 15,
   "metadata": {
    "ExecuteTime": {
     "end_time": "2021-08-19T13:57:03.690000Z",
     "start_time": "2021-08-19T13:57:03.625530Z"
    }
   },
   "outputs": [
    {
     "name": "stdout",
     "output_type": "stream",
     "text": [
      "▬▬▬▬▬▬▬▬▬▬▬▬▬▬▬▬▬▬▬▬▬▬▬▬▬ Describe of income column ▬▬▬▬▬▬▬▬▬▬▬▬▬▬▬▬▬▬▬▬ \n",
      "\n"
     ]
    },
    {
     "data": {
      "text/plain": [
       "count     14825.000000\n",
       "mean      65404.991568\n",
       "std       21598.299410\n",
       "min       30000.000000\n",
       "25%       49000.000000\n",
       "50%       64000.000000\n",
       "75%       80000.000000\n",
       "max      120000.000000\n",
       "Name: income, dtype: float64"
      ]
     },
     "execution_count": 15,
     "metadata": {},
     "output_type": "execute_result"
    }
   ],
   "source": [
    "# check income column\n",
    "p.print_comment('describe of income column')\n",
    "profile.income.describe()"
   ]
  },
  {
   "cell_type": "code",
   "execution_count": 16,
   "metadata": {
    "ExecuteTime": {
     "end_time": "2021-08-19T13:57:03.826530Z",
     "start_time": "2021-08-19T13:57:03.690835Z"
    }
   },
   "outputs": [
    {
     "name": "stdout",
     "output_type": "stream",
     "text": [
      "▬▬▬▬▬▬▬▬▬▬▬▬▬▬▬▬▬▬▬▬▬▬▬▬▬ Check duplicate ▬▬▬▬▬▬▬▬▬▬▬▬▬▬▬▬▬▬▬▬ \n",
      "\n"
     ]
    },
    {
     "data": {
      "text/html": [
       "<div>\n",
       "<style scoped>\n",
       "    .dataframe tbody tr th:only-of-type {\n",
       "        vertical-align: middle;\n",
       "    }\n",
       "\n",
       "    .dataframe tbody tr th {\n",
       "        vertical-align: top;\n",
       "    }\n",
       "\n",
       "    .dataframe thead th {\n",
       "        text-align: right;\n",
       "    }\n",
       "</style>\n",
       "<table border=\"1\" class=\"dataframe\">\n",
       "  <thead>\n",
       "    <tr style=\"text-align: right;\">\n",
       "      <th></th>\n",
       "      <th>gender</th>\n",
       "      <th>age</th>\n",
       "      <th>id</th>\n",
       "      <th>became_member_on</th>\n",
       "      <th>income</th>\n",
       "    </tr>\n",
       "  </thead>\n",
       "  <tbody>\n",
       "  </tbody>\n",
       "</table>\n",
       "</div>"
      ],
      "text/plain": [
       "Empty DataFrame\n",
       "Columns: [gender, age, id, became_member_on, income]\n",
       "Index: []"
      ]
     },
     "execution_count": 16,
     "metadata": {},
     "output_type": "execute_result"
    }
   ],
   "source": [
    "# check duplicate\n",
    "p.print_comment('check duplicate')\n",
    "profile[profile.duplicated()]"
   ]
  },
  {
   "cell_type": "markdown",
   "metadata": {},
   "source": [
    "## portfolio"
   ]
  },
  {
   "cell_type": "code",
   "execution_count": 17,
   "metadata": {
    "ExecuteTime": {
     "end_time": "2021-08-19T13:57:03.876766Z",
     "start_time": "2021-08-19T13:57:03.827400Z"
    }
   },
   "outputs": [
    {
     "data": {
      "text/html": [
       "<div>\n",
       "<style scoped>\n",
       "    .dataframe tbody tr th:only-of-type {\n",
       "        vertical-align: middle;\n",
       "    }\n",
       "\n",
       "    .dataframe tbody tr th {\n",
       "        vertical-align: top;\n",
       "    }\n",
       "\n",
       "    .dataframe thead th {\n",
       "        text-align: right;\n",
       "    }\n",
       "</style>\n",
       "<table border=\"1\" class=\"dataframe\">\n",
       "  <thead>\n",
       "    <tr style=\"text-align: right;\">\n",
       "      <th></th>\n",
       "      <th>reward</th>\n",
       "      <th>channels</th>\n",
       "      <th>difficulty</th>\n",
       "      <th>duration</th>\n",
       "      <th>offer_type</th>\n",
       "      <th>id</th>\n",
       "    </tr>\n",
       "  </thead>\n",
       "  <tbody>\n",
       "    <tr>\n",
       "      <th>0</th>\n",
       "      <td>10</td>\n",
       "      <td>[email, mobile, social]</td>\n",
       "      <td>10</td>\n",
       "      <td>7</td>\n",
       "      <td>bogo</td>\n",
       "      <td>ae264e3637204a6fb9bb56bc8210ddfd</td>\n",
       "    </tr>\n",
       "    <tr>\n",
       "      <th>1</th>\n",
       "      <td>10</td>\n",
       "      <td>[web, email, mobile, social]</td>\n",
       "      <td>10</td>\n",
       "      <td>5</td>\n",
       "      <td>bogo</td>\n",
       "      <td>4d5c57ea9a6940dd891ad53e9dbe8da0</td>\n",
       "    </tr>\n",
       "  </tbody>\n",
       "</table>\n",
       "</div>"
      ],
      "text/plain": [
       "   reward                      channels  difficulty  duration offer_type  \\\n",
       "0      10       [email, mobile, social]          10         7       bogo   \n",
       "1      10  [web, email, mobile, social]          10         5       bogo   \n",
       "\n",
       "                                 id  \n",
       "0  ae264e3637204a6fb9bb56bc8210ddfd  \n",
       "1  4d5c57ea9a6940dd891ad53e9dbe8da0  "
      ]
     },
     "execution_count": 17,
     "metadata": {},
     "output_type": "execute_result"
    }
   ],
   "source": [
    "portfolio.head(2)"
   ]
  },
  {
   "cell_type": "code",
   "execution_count": 18,
   "metadata": {
    "ExecuteTime": {
     "end_time": "2021-08-19T13:57:03.957643Z",
     "start_time": "2021-08-19T13:57:03.878040Z"
    }
   },
   "outputs": [
    {
     "name": "stdout",
     "output_type": "stream",
     "text": [
      "▬▬▬▬▬▬▬▬▬▬▬▬▬▬▬▬▬▬▬▬▬▬▬▬▬ Check columns type ▬▬▬▬▬▬▬▬▬▬▬▬▬▬▬▬▬▬▬▬ \n",
      "\n",
      "<class 'pandas.core.frame.DataFrame'>\n",
      "RangeIndex: 10 entries, 0 to 9\n",
      "Data columns (total 6 columns):\n",
      " #   Column      Non-Null Count  Dtype \n",
      "---  ------      --------------  ----- \n",
      " 0   reward      10 non-null     int64 \n",
      " 1   channels    10 non-null     object\n",
      " 2   difficulty  10 non-null     int64 \n",
      " 3   duration    10 non-null     int64 \n",
      " 4   offer_type  10 non-null     object\n",
      " 5   id          10 non-null     object\n",
      "dtypes: int64(3), object(3)\n",
      "memory usage: 608.0+ bytes\n"
     ]
    }
   ],
   "source": [
    "# check columns type\n",
    "p.print_comment('check columns type')\n",
    "\n",
    "portfolio.info()"
   ]
  },
  {
   "cell_type": "code",
   "execution_count": 19,
   "metadata": {
    "ExecuteTime": {
     "end_time": "2021-08-19T13:57:04.044376Z",
     "start_time": "2021-08-19T13:57:03.958508Z"
    }
   },
   "outputs": [
    {
     "name": "stdout",
     "output_type": "stream",
     "text": [
      "▬▬▬▬▬▬▬▬▬▬▬▬▬▬▬▬▬▬▬▬▬▬▬▬▬ Check offer_type column ▬▬▬▬▬▬▬▬▬▬▬▬▬▬▬▬▬▬▬▬ \n",
      "\n"
     ]
    },
    {
     "data": {
      "text/plain": [
       "bogo             4\n",
       "discount         4\n",
       "informational    2\n",
       "Name: offer_type, dtype: int64"
      ]
     },
     "execution_count": 19,
     "metadata": {},
     "output_type": "execute_result"
    }
   ],
   "source": [
    "# check offer_type column\n",
    "\n",
    "p.print_comment('check offer_type column')\n",
    "portfolio.offer_type.value_counts()"
   ]
  },
  {
   "cell_type": "markdown",
   "metadata": {},
   "source": [
    "## transcript"
   ]
  },
  {
   "cell_type": "code",
   "execution_count": 20,
   "metadata": {
    "ExecuteTime": {
     "end_time": "2021-08-19T13:57:04.129045Z",
     "start_time": "2021-08-19T13:57:04.045392Z"
    }
   },
   "outputs": [
    {
     "data": {
      "text/html": [
       "<div>\n",
       "<style scoped>\n",
       "    .dataframe tbody tr th:only-of-type {\n",
       "        vertical-align: middle;\n",
       "    }\n",
       "\n",
       "    .dataframe tbody tr th {\n",
       "        vertical-align: top;\n",
       "    }\n",
       "\n",
       "    .dataframe thead th {\n",
       "        text-align: right;\n",
       "    }\n",
       "</style>\n",
       "<table border=\"1\" class=\"dataframe\">\n",
       "  <thead>\n",
       "    <tr style=\"text-align: right;\">\n",
       "      <th></th>\n",
       "      <th>person</th>\n",
       "      <th>event</th>\n",
       "      <th>value</th>\n",
       "      <th>time</th>\n",
       "    </tr>\n",
       "  </thead>\n",
       "  <tbody>\n",
       "    <tr>\n",
       "      <th>0</th>\n",
       "      <td>78afa995795e4d85b5d9ceeca43f5fef</td>\n",
       "      <td>offer received</td>\n",
       "      <td>{'offer id': '9b98b8c7a33c4b65b9aebfe6a799e6d9'}</td>\n",
       "      <td>0</td>\n",
       "    </tr>\n",
       "    <tr>\n",
       "      <th>1</th>\n",
       "      <td>a03223e636434f42ac4c3df47e8bac43</td>\n",
       "      <td>offer received</td>\n",
       "      <td>{'offer id': '0b1e1539f2cc45b7b9fa7c272da2e1d7'}</td>\n",
       "      <td>0</td>\n",
       "    </tr>\n",
       "  </tbody>\n",
       "</table>\n",
       "</div>"
      ],
      "text/plain": [
       "                             person           event  \\\n",
       "0  78afa995795e4d85b5d9ceeca43f5fef  offer received   \n",
       "1  a03223e636434f42ac4c3df47e8bac43  offer received   \n",
       "\n",
       "                                              value  time  \n",
       "0  {'offer id': '9b98b8c7a33c4b65b9aebfe6a799e6d9'}     0  \n",
       "1  {'offer id': '0b1e1539f2cc45b7b9fa7c272da2e1d7'}     0  "
      ]
     },
     "execution_count": 20,
     "metadata": {},
     "output_type": "execute_result"
    }
   ],
   "source": [
    "transcript.head(2)"
   ]
  },
  {
   "cell_type": "code",
   "execution_count": 21,
   "metadata": {
    "ExecuteTime": {
     "end_time": "2021-08-19T13:57:04.270373Z",
     "start_time": "2021-08-19T13:57:04.130066Z"
    }
   },
   "outputs": [
    {
     "name": "stdout",
     "output_type": "stream",
     "text": [
      "▬▬▬▬▬▬▬▬▬▬▬▬▬▬▬▬▬▬▬▬▬▬▬▬▬ Check column type ▬▬▬▬▬▬▬▬▬▬▬▬▬▬▬▬▬▬▬▬ \n",
      "\n",
      "<class 'pandas.core.frame.DataFrame'>\n",
      "RangeIndex: 306534 entries, 0 to 306533\n",
      "Data columns (total 4 columns):\n",
      " #   Column  Non-Null Count   Dtype \n",
      "---  ------  --------------   ----- \n",
      " 0   person  306534 non-null  object\n",
      " 1   event   306534 non-null  object\n",
      " 2   value   306534 non-null  object\n",
      " 3   time    306534 non-null  int64 \n",
      "dtypes: int64(1), object(3)\n",
      "memory usage: 9.4+ MB\n"
     ]
    }
   ],
   "source": [
    "# check column type\n",
    "p.print_comment('check column type')\n",
    "transcript.info()"
   ]
  },
  {
   "cell_type": "code",
   "execution_count": 22,
   "metadata": {
    "ExecuteTime": {
     "end_time": "2021-08-19T13:57:04.378498Z",
     "start_time": "2021-08-19T13:57:04.271314Z"
    }
   },
   "outputs": [
    {
     "name": "stdout",
     "output_type": "stream",
     "text": [
      "▬▬▬▬▬▬▬▬▬▬▬▬▬▬▬▬▬▬▬▬▬▬▬▬▬ Check event column ▬▬▬▬▬▬▬▬▬▬▬▬▬▬▬▬▬▬▬▬ \n",
      "\n"
     ]
    },
    {
     "data": {
      "text/plain": [
       "transaction        138953\n",
       "offer received      76277\n",
       "offer viewed        57725\n",
       "offer completed     33579\n",
       "Name: event, dtype: int64"
      ]
     },
     "execution_count": 22,
     "metadata": {},
     "output_type": "execute_result"
    }
   ],
   "source": [
    "# check event column\n",
    "p.print_comment('check event column')\n",
    "transcript.event.value_counts()"
   ]
  },
  {
   "cell_type": "code",
   "execution_count": 23,
   "metadata": {
    "ExecuteTime": {
     "end_time": "2021-08-19T13:57:04.456601Z",
     "start_time": "2021-08-19T13:57:04.379366Z"
    }
   },
   "outputs": [
    {
     "name": "stdout",
     "output_type": "stream",
     "text": [
      "▬▬▬▬▬▬▬▬▬▬▬▬▬▬▬▬▬▬▬▬▬▬▬▬▬ Check time column ▬▬▬▬▬▬▬▬▬▬▬▬▬▬▬▬▬▬▬▬ \n",
      "\n"
     ]
    },
    {
     "data": {
      "text/plain": [
       "408    17030\n",
       "576    17015\n",
       "504    16822\n",
       "336    16302\n",
       "168    16150\n",
       "       ...  \n",
       "318      940\n",
       "330      938\n",
       "156      914\n",
       "162      910\n",
       "150      894\n",
       "Name: time, Length: 120, dtype: int64"
      ]
     },
     "execution_count": 23,
     "metadata": {},
     "output_type": "execute_result"
    }
   ],
   "source": [
    "# check time column\n",
    "p.print_comment('check time column')\n",
    "transcript.time.value_counts()"
   ]
  },
  {
   "cell_type": "code",
   "execution_count": 24,
   "metadata": {
    "ExecuteTime": {
     "end_time": "2021-08-19T13:57:04.531205Z",
     "start_time": "2021-08-19T13:57:04.459265Z"
    }
   },
   "outputs": [
    {
     "name": "stdout",
     "output_type": "stream",
     "text": [
      "▬▬▬▬▬▬▬▬▬▬▬▬▬▬▬▬▬▬▬▬▬▬▬▬▬ Check value column ▬▬▬▬▬▬▬▬▬▬▬▬▬▬▬▬▬▬▬▬ \n",
      "\n"
     ]
    },
    {
     "data": {
      "text/plain": [
       "0         {'offer id': '9b98b8c7a33c4b65b9aebfe6a799e6d9'}\n",
       "1         {'offer id': '0b1e1539f2cc45b7b9fa7c272da2e1d7'}\n",
       "2         {'offer id': '2906b810c7d4411798c6938adc9daaa5'}\n",
       "3         {'offer id': 'fafdcd668e3743c1bb461111dcafc2a4'}\n",
       "4         {'offer id': '4d5c57ea9a6940dd891ad53e9dbe8da0'}\n",
       "                                ...                       \n",
       "306529                      {'amount': 1.5899999999999999}\n",
       "306530                                    {'amount': 9.53}\n",
       "306531                                    {'amount': 3.61}\n",
       "306532                      {'amount': 3.5300000000000002}\n",
       "306533                                    {'amount': 4.05}\n",
       "Name: value, Length: 306534, dtype: object"
      ]
     },
     "execution_count": 24,
     "metadata": {},
     "output_type": "execute_result"
    }
   ],
   "source": [
    "# check value column\n",
    "p.print_comment('check value column')\n",
    "transcript.value"
   ]
  },
  {
   "cell_type": "markdown",
   "metadata": {},
   "source": [
    "## Observation\n",
    "\n",
    "**Profile Dataset**\n",
    "- [x] `became_member_on` not date\n",
    "- [x] `gender`there are $2175$ Missing value\n",
    "- [x] `income`there are $2175$ Missing value\n",
    "- [x] `age` there are $2175$ persons have 118 years it seem to be outlier. we can also notice that is located in same row with `gender` and `income` that have `NaN` value\n",
    "- [x] `id` change his name to `customer_id`\n",
    "- [x] `gender` need to encode\n",
    "- [x] `become_member_on` need to encode\n",
    "\n",
    "---\n",
    "\n",
    "**Portfolio Dataset**\n",
    "- [x] `id` change his name to `offer_id`\n",
    "- [x] `channels` need to encode\n",
    "- [x] `offer_type` need to encode\n",
    "- [x] `offer_id` create column has offer name like `offer_1`\n",
    "\n",
    "---\n",
    "\n",
    "**Transcript Dataset**\n",
    "- [x] `time` convert to days\n",
    "- [x] `person` change his name to `customer_id`\n",
    "- [x] `value` extract `offer_id` and `amount`\n",
    "- [x] `event` need to encode"
   ]
  },
  {
   "cell_type": "markdown",
   "metadata": {},
   "source": [
    "# Data Wrangling & Feature Enginnering"
   ]
  },
  {
   "cell_type": "markdown",
   "metadata": {},
   "source": [
    "## profile"
   ]
  },
  {
   "cell_type": "markdown",
   "metadata": {},
   "source": [
    "### \n",
    "**Define**: `became_member_on` not date"
   ]
  },
  {
   "cell_type": "code",
   "execution_count": 25,
   "metadata": {
    "ExecuteTime": {
     "end_time": "2021-08-19T13:57:04.622189Z",
     "start_time": "2021-08-19T13:57:04.533308Z"
    },
    "code_folding": []
   },
   "outputs": [
    {
     "name": "stdout",
     "output_type": "stream",
     "text": [
      "▬▬▬▬▬▬▬▬▬▬▬▬▬▬▬▬▬▬▬▬▬▬▬▬▬ Check became_member_on column ▬▬▬▬▬▬▬▬▬▬▬▬▬▬▬▬▬▬▬▬ \n",
      "\n",
      "20171207    43\n",
      "20170819    42\n",
      "20171007    40\n",
      "20171113    39\n",
      "20170928    38\n",
      "            ..\n",
      "20141212     1\n",
      "20140412     1\n",
      "20140621     1\n",
      "20141023     1\n",
      "20130922     1\n",
      "Name: became_member_on, Length: 1716, dtype: int64\n",
      "▬▬▬▬▬▬▬▬▬▬▬▬▬▬▬▬▬▬▬▬▬▬▬▬▬ Code:convert date string to date ▬▬▬▬▬▬▬▬▬▬▬▬▬▬▬▬▬▬▬▬ \n",
      "\n",
      "done\n",
      "▬▬▬▬▬▬▬▬▬▬▬▬▬▬▬▬▬▬▬▬▬▬▬▬▬ Test:convert date string to date ▬▬▬▬▬▬▬▬▬▬▬▬▬▬▬▬▬▬▬▬ \n",
      "\n",
      "0       2017-02-12\n",
      "1       2017-07-15\n",
      "2       2018-07-12\n",
      "3       2017-05-09\n",
      "4       2017-08-04\n",
      "           ...    \n",
      "16995   2018-06-04\n",
      "16996   2018-07-13\n",
      "16997   2017-01-26\n",
      "16998   2016-03-07\n",
      "16999   2017-07-22\n",
      "Name: became_member_on, Length: 17000, dtype: datetime64[ns]\n"
     ]
    }
   ],
   "source": [
    "# check became_member_on column\n",
    "p.print_comment('check became_member_on column')\n",
    "\n",
    "print(profile.became_member_on.value_counts())\n",
    "\n",
    "# Code: convert date string to date\n",
    "p.print_comment('Code:convert date string to date')\n",
    "\n",
    "profile['became_member_on'] =\\\n",
    "    pd.to_datetime(profile.became_member_on, format=\"%Y%m%d\")\n",
    "print('done')\n",
    "\n",
    "\n",
    "# test : convert date string to date\n",
    "p.print_comment('test:convert date string to date')\n",
    "print(profile.became_member_on)"
   ]
  },
  {
   "cell_type": "markdown",
   "metadata": {},
   "source": [
    "### \n",
    "**Define**: `age` there are $2175$ persons have 118 years it seem to be outlier. we can also notice that is located in same row with `gender` and `income` that have `NaN` value\n",
    "\n",
    "**Define**: `gender`there are $2175$ Missing value\n",
    "\n",
    "**Define**: `income`there are $2175$ Missing value"
   ]
  },
  {
   "cell_type": "code",
   "execution_count": 26,
   "metadata": {
    "ExecuteTime": {
     "end_time": "2021-08-19T13:57:04.781129Z",
     "start_time": "2021-08-19T13:57:04.623208Z"
    }
   },
   "outputs": [
    {
     "name": "stdout",
     "output_type": "stream",
     "text": [
      "▬▬▬▬▬▬▬▬▬▬▬▬▬▬▬▬▬▬▬▬▬▬▬▬▬ Code: drop nan value rows ▬▬▬▬▬▬▬▬▬▬▬▬▬▬▬▬▬▬▬▬ \n",
      "\n",
      "Celebration: your job completed 🎉🎉🎉🎉🎉🎉🎉🎉🎉🎉🎉🎉🎉🎉🎉🎉🎉🎉🎉🎉🎉🎉🎉🎉🎉 \n",
      "\n",
      "▬▬▬▬▬▬▬▬▬▬▬▬▬▬▬▬▬▬▬▬▬▬▬▬▬ Test: ▬▬▬▬▬▬▬▬▬▬▬▬▬▬▬▬▬▬▬▬ \n",
      "\n"
     ]
    },
    {
     "data": {
      "text/plain": [
       "gender              0\n",
       "age                 0\n",
       "id                  0\n",
       "became_member_on    0\n",
       "income              0\n",
       "dtype: int64"
      ]
     },
     "execution_count": 26,
     "metadata": {},
     "output_type": "execute_result"
    }
   ],
   "source": [
    "# code: drop nan value rows\n",
    "p.print_comment('code: drop nan value rows')\n",
    "profile.dropna(inplace=True)\n",
    "profile.reset_index(drop=True, inplace=True)\n",
    "p.print_done()\n",
    "\n",
    "# test: \n",
    "p.print_comment('test:')\n",
    "profile.isnull().sum()"
   ]
  },
  {
   "cell_type": "markdown",
   "metadata": {},
   "source": [
    "### \n",
    "**Define**: id change his name to customer_id"
   ]
  },
  {
   "cell_type": "code",
   "execution_count": 27,
   "metadata": {
    "ExecuteTime": {
     "end_time": "2021-08-19T13:57:04.838737Z",
     "start_time": "2021-08-19T13:57:04.782068Z"
    }
   },
   "outputs": [
    {
     "name": "stdout",
     "output_type": "stream",
     "text": [
      "▬▬▬▬▬▬▬▬▬▬▬▬▬▬▬▬▬▬▬▬▬▬▬▬▬ Check columns name ▬▬▬▬▬▬▬▬▬▬▬▬▬▬▬▬▬▬▬▬ \n",
      "\n",
      "Index(['gender', 'age', 'id', 'became_member_on', 'income'], dtype='object')\n",
      "▬▬▬▬▬▬▬▬▬▬▬▬▬▬▬▬▬▬▬▬▬▬▬▬▬ Code: change id name ▬▬▬▬▬▬▬▬▬▬▬▬▬▬▬▬▬▬▬▬ \n",
      "\n",
      "Celebration: your job completed 🎉🎉🎉🎉🎉🎉🎉🎉🎉🎉🎉🎉🎉🎉🎉🎉🎉🎉🎉🎉🎉🎉🎉🎉🎉 \n",
      "\n",
      "▬▬▬▬▬▬▬▬▬▬▬▬▬▬▬▬▬▬▬▬▬▬▬▬▬ Test: columns name ▬▬▬▬▬▬▬▬▬▬▬▬▬▬▬▬▬▬▬▬ \n",
      "\n",
      "Index(['gender', 'age', 'customer_id', 'became_member_on', 'income'], dtype='object')\n"
     ]
    }
   ],
   "source": [
    "# check columns name\n",
    "p.print_comment('check columns name')\n",
    "print(profile.columns)\n",
    "\n",
    "\n",
    "# code: change id name\n",
    "try:\n",
    "    p.print_comment('code: change id name')\n",
    "    profile.rename(columns={\"id\": \"customer_id\"}, inplace=True)\n",
    "except Exception as e: print(e)\n",
    "else:\n",
    "    p.print_done()\n",
    "\n",
    "\n",
    "# test:\n",
    "p.print_comment('test: columns name')\n",
    "print(profile.columns)"
   ]
  },
  {
   "cell_type": "markdown",
   "metadata": {},
   "source": [
    "### \n",
    "**Define**: `gender` need to encode"
   ]
  },
  {
   "cell_type": "code",
   "execution_count": 28,
   "metadata": {
    "ExecuteTime": {
     "end_time": "2021-08-19T13:57:04.923497Z",
     "start_time": "2021-08-19T13:57:04.839813Z"
    }
   },
   "outputs": [
    {
     "data": {
      "text/plain": [
       "M    8484\n",
       "F    6129\n",
       "O     212\n",
       "Name: gender, dtype: int64"
      ]
     },
     "execution_count": 28,
     "metadata": {},
     "output_type": "execute_result"
    }
   ],
   "source": [
    "profile.gender.value_counts()"
   ]
  },
  {
   "cell_type": "code",
   "execution_count": 29,
   "metadata": {
    "ExecuteTime": {
     "end_time": "2021-08-19T13:57:05.018523Z",
     "start_time": "2021-08-19T13:57:04.924671Z"
    },
    "code_folding": [],
    "scrolled": false
   },
   "outputs": [
    {
     "name": "stdout",
     "output_type": "stream",
     "text": [
      "▬▬▬▬▬▬▬▬▬▬▬▬▬▬▬▬▬▬▬▬▬▬▬▬▬ Code: encode gender column ▬▬▬▬▬▬▬▬▬▬▬▬▬▬▬▬▬▬▬▬ \n",
      "\n",
      "Celebration: your job completed 🎉🎉🎉🎉🎉🎉🎉🎉🎉🎉🎉🎉🎉🎉🎉🎉🎉🎉🎉🎉🎉🎉🎉🎉🎉 \n",
      "\n"
     ]
    }
   ],
   "source": [
    "encoder = OneHotEncoder(sparse=False)\n",
    "\n",
    "\n",
    "try:\n",
    "    # code: encode gender column\n",
    "    p.print_comment('code: encode gender column')\n",
    "    onehot = encoder.fit_transform(profile[['gender']])\n",
    "    # print(onehot)\n",
    "\n",
    "    profile[['Female', 'Male', 'other']] = onehot\n",
    "    \n",
    "except Exception as e: print(e)\n",
    "else: p.print_done()"
   ]
  },
  {
   "cell_type": "code",
   "execution_count": 30,
   "metadata": {
    "ExecuteTime": {
     "end_time": "2021-08-19T13:57:05.106406Z",
     "start_time": "2021-08-19T13:57:05.019455Z"
    }
   },
   "outputs": [
    {
     "data": {
      "text/html": [
       "<div>\n",
       "<style scoped>\n",
       "    .dataframe tbody tr th:only-of-type {\n",
       "        vertical-align: middle;\n",
       "    }\n",
       "\n",
       "    .dataframe tbody tr th {\n",
       "        vertical-align: top;\n",
       "    }\n",
       "\n",
       "    .dataframe thead th {\n",
       "        text-align: right;\n",
       "    }\n",
       "</style>\n",
       "<table border=\"1\" class=\"dataframe\">\n",
       "  <thead>\n",
       "    <tr style=\"text-align: right;\">\n",
       "      <th></th>\n",
       "      <th>gender</th>\n",
       "      <th>age</th>\n",
       "      <th>customer_id</th>\n",
       "      <th>became_member_on</th>\n",
       "      <th>income</th>\n",
       "      <th>Female</th>\n",
       "      <th>Male</th>\n",
       "      <th>other</th>\n",
       "    </tr>\n",
       "  </thead>\n",
       "  <tbody>\n",
       "    <tr>\n",
       "      <th>0</th>\n",
       "      <td>F</td>\n",
       "      <td>55</td>\n",
       "      <td>0610b486422d4921ae7d2bf64640c50b</td>\n",
       "      <td>2017-07-15</td>\n",
       "      <td>112000.0</td>\n",
       "      <td>1.0</td>\n",
       "      <td>0.0</td>\n",
       "      <td>0.0</td>\n",
       "    </tr>\n",
       "    <tr>\n",
       "      <th>1</th>\n",
       "      <td>F</td>\n",
       "      <td>75</td>\n",
       "      <td>78afa995795e4d85b5d9ceeca43f5fef</td>\n",
       "      <td>2017-05-09</td>\n",
       "      <td>100000.0</td>\n",
       "      <td>1.0</td>\n",
       "      <td>0.0</td>\n",
       "      <td>0.0</td>\n",
       "    </tr>\n",
       "  </tbody>\n",
       "</table>\n",
       "</div>"
      ],
      "text/plain": [
       "  gender  age                       customer_id became_member_on    income  \\\n",
       "0      F   55  0610b486422d4921ae7d2bf64640c50b       2017-07-15  112000.0   \n",
       "1      F   75  78afa995795e4d85b5d9ceeca43f5fef       2017-05-09  100000.0   \n",
       "\n",
       "   Female  Male  other  \n",
       "0     1.0   0.0    0.0  \n",
       "1     1.0   0.0    0.0  "
      ]
     },
     "execution_count": 30,
     "metadata": {},
     "output_type": "execute_result"
    }
   ],
   "source": [
    "profile.head(2)"
   ]
  },
  {
   "cell_type": "markdown",
   "metadata": {},
   "source": [
    "### \n",
    "**Define**`become_member_on` need to encode"
   ]
  },
  {
   "cell_type": "code",
   "execution_count": 31,
   "metadata": {
    "ExecuteTime": {
     "end_time": "2021-08-19T13:57:05.210495Z",
     "start_time": "2021-08-19T13:57:05.107420Z"
    }
   },
   "outputs": [
    {
     "name": "stdout",
     "output_type": "stream",
     "text": [
      "▬▬▬▬▬▬▬▬▬▬▬▬▬▬▬▬▬▬▬▬▬▬▬▬▬ Code: encode become_member_on ▬▬▬▬▬▬▬▬▬▬▬▬▬▬▬▬▬▬▬▬ \n",
      "\n",
      "Celebration: your job completed 🎉🎉🎉🎉🎉🎉🎉🎉🎉🎉🎉🎉🎉🎉🎉🎉🎉🎉🎉🎉🎉🎉🎉🎉🎉 \n",
      "\n"
     ]
    }
   ],
   "source": [
    "# code: encode become_member_on\n",
    "p.print_comment('code: encode become_member_on')\n",
    "try:\n",
    "    profile['become_member_on_year'] = profile.became_member_on.dt.year.astype(str)\n",
    "    profile['become_member_on_month'] = profile.became_member_on.dt.month.astype(str)\n",
    "    profile['become_member_on_day'] = profile.became_member_on.dt.day.astype(str)\n",
    "except Exception as e: print(e)\n",
    "else: p.print_done()"
   ]
  },
  {
   "cell_type": "code",
   "execution_count": 32,
   "metadata": {
    "ExecuteTime": {
     "end_time": "2021-08-19T13:57:05.275209Z",
     "start_time": "2021-08-19T13:57:05.211335Z"
    }
   },
   "outputs": [
    {
     "data": {
      "text/html": [
       "<div>\n",
       "<style scoped>\n",
       "    .dataframe tbody tr th:only-of-type {\n",
       "        vertical-align: middle;\n",
       "    }\n",
       "\n",
       "    .dataframe tbody tr th {\n",
       "        vertical-align: top;\n",
       "    }\n",
       "\n",
       "    .dataframe thead th {\n",
       "        text-align: right;\n",
       "    }\n",
       "</style>\n",
       "<table border=\"1\" class=\"dataframe\">\n",
       "  <thead>\n",
       "    <tr style=\"text-align: right;\">\n",
       "      <th></th>\n",
       "      <th>gender</th>\n",
       "      <th>age</th>\n",
       "      <th>customer_id</th>\n",
       "      <th>became_member_on</th>\n",
       "      <th>income</th>\n",
       "      <th>Female</th>\n",
       "      <th>Male</th>\n",
       "      <th>other</th>\n",
       "      <th>become_member_on_year</th>\n",
       "      <th>become_member_on_month</th>\n",
       "      <th>become_member_on_day</th>\n",
       "    </tr>\n",
       "  </thead>\n",
       "  <tbody>\n",
       "    <tr>\n",
       "      <th>0</th>\n",
       "      <td>F</td>\n",
       "      <td>55</td>\n",
       "      <td>0610b486422d4921ae7d2bf64640c50b</td>\n",
       "      <td>2017-07-15</td>\n",
       "      <td>112000.0</td>\n",
       "      <td>1.0</td>\n",
       "      <td>0.0</td>\n",
       "      <td>0.0</td>\n",
       "      <td>2017</td>\n",
       "      <td>7</td>\n",
       "      <td>15</td>\n",
       "    </tr>\n",
       "    <tr>\n",
       "      <th>1</th>\n",
       "      <td>F</td>\n",
       "      <td>75</td>\n",
       "      <td>78afa995795e4d85b5d9ceeca43f5fef</td>\n",
       "      <td>2017-05-09</td>\n",
       "      <td>100000.0</td>\n",
       "      <td>1.0</td>\n",
       "      <td>0.0</td>\n",
       "      <td>0.0</td>\n",
       "      <td>2017</td>\n",
       "      <td>5</td>\n",
       "      <td>9</td>\n",
       "    </tr>\n",
       "    <tr>\n",
       "      <th>2</th>\n",
       "      <td>M</td>\n",
       "      <td>68</td>\n",
       "      <td>e2127556f4f64592b11af22de27a7932</td>\n",
       "      <td>2018-04-26</td>\n",
       "      <td>70000.0</td>\n",
       "      <td>0.0</td>\n",
       "      <td>1.0</td>\n",
       "      <td>0.0</td>\n",
       "      <td>2018</td>\n",
       "      <td>4</td>\n",
       "      <td>26</td>\n",
       "    </tr>\n",
       "    <tr>\n",
       "      <th>3</th>\n",
       "      <td>M</td>\n",
       "      <td>65</td>\n",
       "      <td>389bc3fa690240e798340f5a15918d5c</td>\n",
       "      <td>2018-02-09</td>\n",
       "      <td>53000.0</td>\n",
       "      <td>0.0</td>\n",
       "      <td>1.0</td>\n",
       "      <td>0.0</td>\n",
       "      <td>2018</td>\n",
       "      <td>2</td>\n",
       "      <td>9</td>\n",
       "    </tr>\n",
       "    <tr>\n",
       "      <th>4</th>\n",
       "      <td>M</td>\n",
       "      <td>58</td>\n",
       "      <td>2eeac8d8feae4a8cad5a6af0499a211d</td>\n",
       "      <td>2017-11-11</td>\n",
       "      <td>51000.0</td>\n",
       "      <td>0.0</td>\n",
       "      <td>1.0</td>\n",
       "      <td>0.0</td>\n",
       "      <td>2017</td>\n",
       "      <td>11</td>\n",
       "      <td>11</td>\n",
       "    </tr>\n",
       "    <tr>\n",
       "      <th>...</th>\n",
       "      <td>...</td>\n",
       "      <td>...</td>\n",
       "      <td>...</td>\n",
       "      <td>...</td>\n",
       "      <td>...</td>\n",
       "      <td>...</td>\n",
       "      <td>...</td>\n",
       "      <td>...</td>\n",
       "      <td>...</td>\n",
       "      <td>...</td>\n",
       "      <td>...</td>\n",
       "    </tr>\n",
       "    <tr>\n",
       "      <th>14820</th>\n",
       "      <td>F</td>\n",
       "      <td>45</td>\n",
       "      <td>6d5f3a774f3d4714ab0c092238f3a1d7</td>\n",
       "      <td>2018-06-04</td>\n",
       "      <td>54000.0</td>\n",
       "      <td>1.0</td>\n",
       "      <td>0.0</td>\n",
       "      <td>0.0</td>\n",
       "      <td>2018</td>\n",
       "      <td>6</td>\n",
       "      <td>4</td>\n",
       "    </tr>\n",
       "    <tr>\n",
       "      <th>14821</th>\n",
       "      <td>M</td>\n",
       "      <td>61</td>\n",
       "      <td>2cb4f97358b841b9a9773a7aa05a9d77</td>\n",
       "      <td>2018-07-13</td>\n",
       "      <td>72000.0</td>\n",
       "      <td>0.0</td>\n",
       "      <td>1.0</td>\n",
       "      <td>0.0</td>\n",
       "      <td>2018</td>\n",
       "      <td>7</td>\n",
       "      <td>13</td>\n",
       "    </tr>\n",
       "    <tr>\n",
       "      <th>14822</th>\n",
       "      <td>M</td>\n",
       "      <td>49</td>\n",
       "      <td>01d26f638c274aa0b965d24cefe3183f</td>\n",
       "      <td>2017-01-26</td>\n",
       "      <td>73000.0</td>\n",
       "      <td>0.0</td>\n",
       "      <td>1.0</td>\n",
       "      <td>0.0</td>\n",
       "      <td>2017</td>\n",
       "      <td>1</td>\n",
       "      <td>26</td>\n",
       "    </tr>\n",
       "    <tr>\n",
       "      <th>14823</th>\n",
       "      <td>F</td>\n",
       "      <td>83</td>\n",
       "      <td>9dc1421481194dcd9400aec7c9ae6366</td>\n",
       "      <td>2016-03-07</td>\n",
       "      <td>50000.0</td>\n",
       "      <td>1.0</td>\n",
       "      <td>0.0</td>\n",
       "      <td>0.0</td>\n",
       "      <td>2016</td>\n",
       "      <td>3</td>\n",
       "      <td>7</td>\n",
       "    </tr>\n",
       "    <tr>\n",
       "      <th>14824</th>\n",
       "      <td>F</td>\n",
       "      <td>62</td>\n",
       "      <td>e4052622e5ba45a8b96b59aba68cf068</td>\n",
       "      <td>2017-07-22</td>\n",
       "      <td>82000.0</td>\n",
       "      <td>1.0</td>\n",
       "      <td>0.0</td>\n",
       "      <td>0.0</td>\n",
       "      <td>2017</td>\n",
       "      <td>7</td>\n",
       "      <td>22</td>\n",
       "    </tr>\n",
       "  </tbody>\n",
       "</table>\n",
       "<p>14825 rows × 11 columns</p>\n",
       "</div>"
      ],
      "text/plain": [
       "      gender  age                       customer_id became_member_on  \\\n",
       "0          F   55  0610b486422d4921ae7d2bf64640c50b       2017-07-15   \n",
       "1          F   75  78afa995795e4d85b5d9ceeca43f5fef       2017-05-09   \n",
       "2          M   68  e2127556f4f64592b11af22de27a7932       2018-04-26   \n",
       "3          M   65  389bc3fa690240e798340f5a15918d5c       2018-02-09   \n",
       "4          M   58  2eeac8d8feae4a8cad5a6af0499a211d       2017-11-11   \n",
       "...      ...  ...                               ...              ...   \n",
       "14820      F   45  6d5f3a774f3d4714ab0c092238f3a1d7       2018-06-04   \n",
       "14821      M   61  2cb4f97358b841b9a9773a7aa05a9d77       2018-07-13   \n",
       "14822      M   49  01d26f638c274aa0b965d24cefe3183f       2017-01-26   \n",
       "14823      F   83  9dc1421481194dcd9400aec7c9ae6366       2016-03-07   \n",
       "14824      F   62  e4052622e5ba45a8b96b59aba68cf068       2017-07-22   \n",
       "\n",
       "         income  Female  Male  other become_member_on_year  \\\n",
       "0      112000.0     1.0   0.0    0.0                  2017   \n",
       "1      100000.0     1.0   0.0    0.0                  2017   \n",
       "2       70000.0     0.0   1.0    0.0                  2018   \n",
       "3       53000.0     0.0   1.0    0.0                  2018   \n",
       "4       51000.0     0.0   1.0    0.0                  2017   \n",
       "...         ...     ...   ...    ...                   ...   \n",
       "14820   54000.0     1.0   0.0    0.0                  2018   \n",
       "14821   72000.0     0.0   1.0    0.0                  2018   \n",
       "14822   73000.0     0.0   1.0    0.0                  2017   \n",
       "14823   50000.0     1.0   0.0    0.0                  2016   \n",
       "14824   82000.0     1.0   0.0    0.0                  2017   \n",
       "\n",
       "      become_member_on_month become_member_on_day  \n",
       "0                          7                   15  \n",
       "1                          5                    9  \n",
       "2                          4                   26  \n",
       "3                          2                    9  \n",
       "4                         11                   11  \n",
       "...                      ...                  ...  \n",
       "14820                      6                    4  \n",
       "14821                      7                   13  \n",
       "14822                      1                   26  \n",
       "14823                      3                    7  \n",
       "14824                      7                   22  \n",
       "\n",
       "[14825 rows x 11 columns]"
      ]
     },
     "execution_count": 32,
     "metadata": {},
     "output_type": "execute_result"
    }
   ],
   "source": [
    "profile"
   ]
  },
  {
   "cell_type": "code",
   "execution_count": 33,
   "metadata": {
    "ExecuteTime": {
     "end_time": "2021-08-19T13:57:05.359884Z",
     "start_time": "2021-08-19T13:57:05.276896Z"
    }
   },
   "outputs": [
    {
     "name": "stdout",
     "output_type": "stream",
     "text": [
      "▬▬▬▬▬▬▬▬▬▬▬▬▬▬▬▬▬▬▬▬▬▬▬▬▬ Drop become_member_on column ▬▬▬▬▬▬▬▬▬▬▬▬▬▬▬▬▬▬▬▬ \n",
      "\n"
     ]
    }
   ],
   "source": [
    "# drop become_member_on column\n",
    "p.print_comment('drop become_member_on column')\n",
    "\n",
    "profile.drop('became_member_on', axis=1, inplace=True)"
   ]
  },
  {
   "cell_type": "markdown",
   "metadata": {},
   "source": [
    "## portfolio "
   ]
  },
  {
   "cell_type": "markdown",
   "metadata": {},
   "source": [
    "### \n",
    "**Define**: `id` change his name to `offer_id`"
   ]
  },
  {
   "cell_type": "code",
   "execution_count": 34,
   "metadata": {
    "ExecuteTime": {
     "end_time": "2021-08-19T13:57:05.430626Z",
     "start_time": "2021-08-19T13:57:05.360923Z"
    }
   },
   "outputs": [
    {
     "name": "stdout",
     "output_type": "stream",
     "text": [
      "▬▬▬▬▬▬▬▬▬▬▬▬▬▬▬▬▬▬▬▬▬▬▬▬▬ Check columns name ▬▬▬▬▬▬▬▬▬▬▬▬▬▬▬▬▬▬▬▬ \n",
      "\n",
      "Index(['reward', 'channels', 'difficulty', 'duration', 'offer_type', 'id'], dtype='object')\n",
      "▬▬▬▬▬▬▬▬▬▬▬▬▬▬▬▬▬▬▬▬▬▬▬▬▬ Code: change id name ▬▬▬▬▬▬▬▬▬▬▬▬▬▬▬▬▬▬▬▬ \n",
      "\n",
      "Celebration: your job completed 🎉🎉🎉🎉🎉🎉🎉🎉🎉🎉🎉🎉🎉🎉🎉🎉🎉🎉🎉🎉🎉🎉🎉🎉🎉 \n",
      "\n",
      "▬▬▬▬▬▬▬▬▬▬▬▬▬▬▬▬▬▬▬▬▬▬▬▬▬ Test: columns name ▬▬▬▬▬▬▬▬▬▬▬▬▬▬▬▬▬▬▬▬ \n",
      "\n",
      "Index(['reward', 'channels', 'difficulty', 'duration', 'offer_type',\n",
      "       'offer_id'],\n",
      "      dtype='object')\n"
     ]
    }
   ],
   "source": [
    "# check columns name\n",
    "p.print_comment('check columns name')\n",
    "print(portfolio.columns)\n",
    "\n",
    "\n",
    "# code: change id name\n",
    "try:\n",
    "    p.print_comment('code: change id name')\n",
    "    portfolio.rename(columns={\"id\": \"offer_id\"}, inplace=True)\n",
    "except Exception as e: print(e)\n",
    "else:\n",
    "    p.print_done()\n",
    "\n",
    "\n",
    "# test:\n",
    "p.print_comment('test: columns name')\n",
    "print(portfolio.columns)"
   ]
  },
  {
   "cell_type": "markdown",
   "metadata": {},
   "source": [
    "### \n",
    "**Define**: `channels` need to encode"
   ]
  },
  {
   "cell_type": "code",
   "execution_count": 35,
   "metadata": {
    "ExecuteTime": {
     "end_time": "2021-08-19T13:57:05.562527Z",
     "start_time": "2021-08-19T13:57:05.431542Z"
    }
   },
   "outputs": [
    {
     "name": "stdout",
     "output_type": "stream",
     "text": [
      "▬▬▬▬▬▬▬▬▬▬▬▬▬▬▬▬▬▬▬▬▬▬▬▬▬ Check the type ▬▬▬▬▬▬▬▬▬▬▬▬▬▬▬▬▬▬▬▬ \n",
      "\n"
     ]
    },
    {
     "data": {
      "text/plain": [
       "list"
      ]
     },
     "execution_count": 35,
     "metadata": {},
     "output_type": "execute_result"
    }
   ],
   "source": [
    "# check the type\n",
    "p.print_comment('check the type')\n",
    "type(portfolio.channels[0])"
   ]
  },
  {
   "cell_type": "code",
   "execution_count": 36,
   "metadata": {
    "ExecuteTime": {
     "end_time": "2021-08-19T13:57:05.638671Z",
     "start_time": "2021-08-19T13:57:05.563483Z"
    }
   },
   "outputs": [
    {
     "name": "stdout",
     "output_type": "stream",
     "text": [
      "▬▬▬▬▬▬▬▬▬▬▬▬▬▬▬▬▬▬▬▬▬▬▬▬▬ Return all channels ▬▬▬▬▬▬▬▬▬▬▬▬▬▬▬▬▬▬▬▬ \n",
      "\n",
      "[web, email, mobile, social]    4\n",
      "[web, email, mobile]            3\n",
      "[email, mobile, social]         2\n",
      "[web, email]                    1\n",
      "Name: channels, dtype: int64\n"
     ]
    }
   ],
   "source": [
    "# return all channels\n",
    "p.print_comment('return all channels')\n",
    "try:\n",
    "    print(portfolio.channels.value_counts())\n",
    "except: pass"
   ]
  },
  {
   "cell_type": "code",
   "execution_count": 37,
   "metadata": {
    "ExecuteTime": {
     "end_time": "2021-08-19T13:57:05.724103Z",
     "start_time": "2021-08-19T13:57:05.639725Z"
    }
   },
   "outputs": [
    {
     "data": {
      "text/html": [
       "<div>\n",
       "<style scoped>\n",
       "    .dataframe tbody tr th:only-of-type {\n",
       "        vertical-align: middle;\n",
       "    }\n",
       "\n",
       "    .dataframe tbody tr th {\n",
       "        vertical-align: top;\n",
       "    }\n",
       "\n",
       "    .dataframe thead th {\n",
       "        text-align: right;\n",
       "    }\n",
       "</style>\n",
       "<table border=\"1\" class=\"dataframe\">\n",
       "  <thead>\n",
       "    <tr style=\"text-align: right;\">\n",
       "      <th></th>\n",
       "      <th>reward</th>\n",
       "      <th>channels</th>\n",
       "      <th>difficulty</th>\n",
       "      <th>duration</th>\n",
       "      <th>offer_type</th>\n",
       "      <th>offer_id</th>\n",
       "    </tr>\n",
       "  </thead>\n",
       "  <tbody>\n",
       "    <tr>\n",
       "      <th>0</th>\n",
       "      <td>10</td>\n",
       "      <td>[email, mobile, social]</td>\n",
       "      <td>10</td>\n",
       "      <td>7</td>\n",
       "      <td>bogo</td>\n",
       "      <td>ae264e3637204a6fb9bb56bc8210ddfd</td>\n",
       "    </tr>\n",
       "    <tr>\n",
       "      <th>1</th>\n",
       "      <td>10</td>\n",
       "      <td>[web, email, mobile, social]</td>\n",
       "      <td>10</td>\n",
       "      <td>5</td>\n",
       "      <td>bogo</td>\n",
       "      <td>4d5c57ea9a6940dd891ad53e9dbe8da0</td>\n",
       "    </tr>\n",
       "  </tbody>\n",
       "</table>\n",
       "</div>"
      ],
      "text/plain": [
       "   reward                      channels  difficulty  duration offer_type  \\\n",
       "0      10       [email, mobile, social]          10         7       bogo   \n",
       "1      10  [web, email, mobile, social]          10         5       bogo   \n",
       "\n",
       "                           offer_id  \n",
       "0  ae264e3637204a6fb9bb56bc8210ddfd  \n",
       "1  4d5c57ea9a6940dd891ad53e9dbe8da0  "
      ]
     },
     "execution_count": 37,
     "metadata": {},
     "output_type": "execute_result"
    }
   ],
   "source": [
    "portfolio.head(2)"
   ]
  },
  {
   "cell_type": "code",
   "execution_count": 38,
   "metadata": {
    "ExecuteTime": {
     "end_time": "2021-08-19T13:57:05.812520Z",
     "start_time": "2021-08-19T13:57:05.724956Z"
    },
    "code_folding": []
   },
   "outputs": [
    {
     "name": "stdout",
     "output_type": "stream",
     "text": [
      "▬▬▬▬▬▬▬▬▬▬▬▬▬▬▬▬▬▬▬▬▬▬▬▬▬ Code: split channels column ▬▬▬▬▬▬▬▬▬▬▬▬▬▬▬▬▬▬▬▬ \n",
      "\n",
      "Celebration: your job completed 🎉🎉🎉🎉🎉🎉🎉🎉🎉🎉🎉🎉🎉🎉🎉🎉🎉🎉🎉🎉🎉🎉🎉🎉🎉 \n",
      "\n",
      "▬▬▬▬▬▬▬▬▬▬▬▬▬▬▬▬▬▬▬▬▬▬▬▬▬ Test: split channels column ▬▬▬▬▬▬▬▬▬▬▬▬▬▬▬▬▬▬▬▬ \n",
      "\n"
     ]
    },
    {
     "data": {
      "text/html": [
       "<div>\n",
       "<style scoped>\n",
       "    .dataframe tbody tr th:only-of-type {\n",
       "        vertical-align: middle;\n",
       "    }\n",
       "\n",
       "    .dataframe tbody tr th {\n",
       "        vertical-align: top;\n",
       "    }\n",
       "\n",
       "    .dataframe thead th {\n",
       "        text-align: right;\n",
       "    }\n",
       "</style>\n",
       "<table border=\"1\" class=\"dataframe\">\n",
       "  <thead>\n",
       "    <tr style=\"text-align: right;\">\n",
       "      <th></th>\n",
       "      <th>reward</th>\n",
       "      <th>channels</th>\n",
       "      <th>difficulty</th>\n",
       "      <th>duration</th>\n",
       "      <th>offer_type</th>\n",
       "      <th>offer_id</th>\n",
       "      <th>web</th>\n",
       "      <th>email</th>\n",
       "      <th>mobile</th>\n",
       "      <th>social</th>\n",
       "    </tr>\n",
       "  </thead>\n",
       "  <tbody>\n",
       "    <tr>\n",
       "      <th>0</th>\n",
       "      <td>10</td>\n",
       "      <td>[email, mobile, social]</td>\n",
       "      <td>10</td>\n",
       "      <td>7</td>\n",
       "      <td>bogo</td>\n",
       "      <td>ae264e3637204a6fb9bb56bc8210ddfd</td>\n",
       "      <td>0</td>\n",
       "      <td>1</td>\n",
       "      <td>1</td>\n",
       "      <td>1</td>\n",
       "    </tr>\n",
       "    <tr>\n",
       "      <th>1</th>\n",
       "      <td>10</td>\n",
       "      <td>[web, email, mobile, social]</td>\n",
       "      <td>10</td>\n",
       "      <td>5</td>\n",
       "      <td>bogo</td>\n",
       "      <td>4d5c57ea9a6940dd891ad53e9dbe8da0</td>\n",
       "      <td>1</td>\n",
       "      <td>1</td>\n",
       "      <td>1</td>\n",
       "      <td>1</td>\n",
       "    </tr>\n",
       "  </tbody>\n",
       "</table>\n",
       "</div>"
      ],
      "text/plain": [
       "   reward                      channels  difficulty  duration offer_type  \\\n",
       "0      10       [email, mobile, social]          10         7       bogo   \n",
       "1      10  [web, email, mobile, social]          10         5       bogo   \n",
       "\n",
       "                           offer_id  web  email  mobile  social  \n",
       "0  ae264e3637204a6fb9bb56bc8210ddfd    0      1       1       1  \n",
       "1  4d5c57ea9a6940dd891ad53e9dbe8da0    1      1       1       1  "
      ]
     },
     "execution_count": 38,
     "metadata": {},
     "output_type": "execute_result"
    }
   ],
   "source": [
    "# code: split channels column\n",
    "p.print_comment('code: split channels column')\n",
    "\n",
    "def split_channels(channels_list):\n",
    "    \"\"\"split channels to columns\"\"\"\n",
    "    if channel in channels_list:\n",
    "        return 1\n",
    "    else:\n",
    "        return 0\n",
    "try:\n",
    "    all_channels = ['web', 'email', 'mobile', 'social']\n",
    "    for channel in all_channels:\n",
    "        portfolio.loc[:, channel] = portfolio.channels.apply(split_channels)\n",
    "    \n",
    "    \n",
    "except: pass\n",
    "\n",
    "else: p.print_done()\n",
    "\n",
    "\n",
    "# test\n",
    "p.print_comment('test: split channels column')\n",
    "\n",
    "portfolio.head(2)"
   ]
  },
  {
   "cell_type": "code",
   "execution_count": 39,
   "metadata": {
    "ExecuteTime": {
     "end_time": "2021-08-19T13:57:05.889549Z",
     "start_time": "2021-08-19T13:57:05.813542Z"
    }
   },
   "outputs": [
    {
     "name": "stdout",
     "output_type": "stream",
     "text": [
      "▬▬▬▬▬▬▬▬▬▬▬▬▬▬▬▬▬▬▬▬▬▬▬▬▬ Drop channels column ▬▬▬▬▬▬▬▬▬▬▬▬▬▬▬▬▬▬▬▬ \n",
      "\n",
      "Celebration: your job completed 🎉🎉🎉🎉🎉🎉🎉🎉🎉🎉🎉🎉🎉🎉🎉🎉🎉🎉🎉🎉🎉🎉🎉🎉🎉 \n",
      "\n"
     ]
    }
   ],
   "source": [
    "try:\n",
    "    p.print_comment('Drop channels column')\n",
    "    portfolio.drop('channels', axis=1, inplace=True)\n",
    "except: pass\n",
    "else: p.print_done()"
   ]
  },
  {
   "cell_type": "markdown",
   "metadata": {},
   "source": [
    "### \n",
    "**Define**: `offer_type` need to encode\n"
   ]
  },
  {
   "cell_type": "code",
   "execution_count": 40,
   "metadata": {
    "ExecuteTime": {
     "end_time": "2021-08-19T13:57:05.978052Z",
     "start_time": "2021-08-19T13:57:05.890463Z"
    }
   },
   "outputs": [
    {
     "name": "stdout",
     "output_type": "stream",
     "text": [
      "▬▬▬▬▬▬▬▬▬▬▬▬▬▬▬▬▬▬▬▬▬▬▬▬▬ Return all offer_type ▬▬▬▬▬▬▬▬▬▬▬▬▬▬▬▬▬▬▬▬ \n",
      "\n"
     ]
    },
    {
     "data": {
      "text/plain": [
       "array(['bogo', 'informational', 'discount'], dtype=object)"
      ]
     },
     "execution_count": 40,
     "metadata": {},
     "output_type": "execute_result"
    }
   ],
   "source": [
    "# return all offer_type\n",
    "\n",
    "p.print_comment('return all offer_type')\n",
    "offer_type = portfolio.offer_type.unique()\n",
    "offer_type"
   ]
  },
  {
   "cell_type": "code",
   "execution_count": 41,
   "metadata": {
    "ExecuteTime": {
     "end_time": "2021-08-19T13:57:06.116137Z",
     "start_time": "2021-08-19T13:57:05.978966Z"
    }
   },
   "outputs": [
    {
     "data": {
      "text/html": [
       "<div>\n",
       "<style scoped>\n",
       "    .dataframe tbody tr th:only-of-type {\n",
       "        vertical-align: middle;\n",
       "    }\n",
       "\n",
       "    .dataframe tbody tr th {\n",
       "        vertical-align: top;\n",
       "    }\n",
       "\n",
       "    .dataframe thead th {\n",
       "        text-align: right;\n",
       "    }\n",
       "</style>\n",
       "<table border=\"1\" class=\"dataframe\">\n",
       "  <thead>\n",
       "    <tr style=\"text-align: right;\">\n",
       "      <th></th>\n",
       "      <th>reward</th>\n",
       "      <th>difficulty</th>\n",
       "      <th>duration</th>\n",
       "      <th>offer_type</th>\n",
       "      <th>offer_id</th>\n",
       "      <th>web</th>\n",
       "      <th>email</th>\n",
       "      <th>mobile</th>\n",
       "      <th>social</th>\n",
       "    </tr>\n",
       "  </thead>\n",
       "  <tbody>\n",
       "    <tr>\n",
       "      <th>0</th>\n",
       "      <td>10</td>\n",
       "      <td>10</td>\n",
       "      <td>7</td>\n",
       "      <td>bogo</td>\n",
       "      <td>ae264e3637204a6fb9bb56bc8210ddfd</td>\n",
       "      <td>0</td>\n",
       "      <td>1</td>\n",
       "      <td>1</td>\n",
       "      <td>1</td>\n",
       "    </tr>\n",
       "    <tr>\n",
       "      <th>1</th>\n",
       "      <td>10</td>\n",
       "      <td>10</td>\n",
       "      <td>5</td>\n",
       "      <td>bogo</td>\n",
       "      <td>4d5c57ea9a6940dd891ad53e9dbe8da0</td>\n",
       "      <td>1</td>\n",
       "      <td>1</td>\n",
       "      <td>1</td>\n",
       "      <td>1</td>\n",
       "    </tr>\n",
       "  </tbody>\n",
       "</table>\n",
       "</div>"
      ],
      "text/plain": [
       "   reward  difficulty  duration offer_type                          offer_id  \\\n",
       "0      10          10         7       bogo  ae264e3637204a6fb9bb56bc8210ddfd   \n",
       "1      10          10         5       bogo  4d5c57ea9a6940dd891ad53e9dbe8da0   \n",
       "\n",
       "   web  email  mobile  social  \n",
       "0    0      1       1       1  \n",
       "1    1      1       1       1  "
      ]
     },
     "execution_count": 41,
     "metadata": {},
     "output_type": "execute_result"
    }
   ],
   "source": [
    "portfolio.head(2)"
   ]
  },
  {
   "cell_type": "code",
   "execution_count": 42,
   "metadata": {
    "ExecuteTime": {
     "end_time": "2021-08-19T13:57:06.194352Z",
     "start_time": "2021-08-19T13:57:06.117122Z"
    }
   },
   "outputs": [
    {
     "name": "stdout",
     "output_type": "stream",
     "text": [
      "▬▬▬▬▬▬▬▬▬▬▬▬▬▬▬▬▬▬▬▬▬▬▬▬▬ Code: split offer_type column ▬▬▬▬▬▬▬▬▬▬▬▬▬▬▬▬▬▬▬▬ \n",
      "\n",
      "Celebration: your job completed 🎉🎉🎉🎉🎉🎉🎉🎉🎉🎉🎉🎉🎉🎉🎉🎉🎉🎉🎉🎉🎉🎉🎉🎉🎉 \n",
      "\n",
      "▬▬▬▬▬▬▬▬▬▬▬▬▬▬▬▬▬▬▬▬▬▬▬▬▬ Test: split offer_type column ▬▬▬▬▬▬▬▬▬▬▬▬▬▬▬▬▬▬▬▬ \n",
      "\n"
     ]
    },
    {
     "data": {
      "text/html": [
       "<div>\n",
       "<style scoped>\n",
       "    .dataframe tbody tr th:only-of-type {\n",
       "        vertical-align: middle;\n",
       "    }\n",
       "\n",
       "    .dataframe tbody tr th {\n",
       "        vertical-align: top;\n",
       "    }\n",
       "\n",
       "    .dataframe thead th {\n",
       "        text-align: right;\n",
       "    }\n",
       "</style>\n",
       "<table border=\"1\" class=\"dataframe\">\n",
       "  <thead>\n",
       "    <tr style=\"text-align: right;\">\n",
       "      <th></th>\n",
       "      <th>reward</th>\n",
       "      <th>difficulty</th>\n",
       "      <th>duration</th>\n",
       "      <th>offer_type</th>\n",
       "      <th>offer_id</th>\n",
       "      <th>web</th>\n",
       "      <th>email</th>\n",
       "      <th>mobile</th>\n",
       "      <th>social</th>\n",
       "      <th>bogo</th>\n",
       "      <th>informational</th>\n",
       "      <th>discount</th>\n",
       "    </tr>\n",
       "  </thead>\n",
       "  <tbody>\n",
       "    <tr>\n",
       "      <th>0</th>\n",
       "      <td>10</td>\n",
       "      <td>10</td>\n",
       "      <td>7</td>\n",
       "      <td>bogo</td>\n",
       "      <td>ae264e3637204a6fb9bb56bc8210ddfd</td>\n",
       "      <td>0</td>\n",
       "      <td>1</td>\n",
       "      <td>1</td>\n",
       "      <td>1</td>\n",
       "      <td>1</td>\n",
       "      <td>0</td>\n",
       "      <td>0</td>\n",
       "    </tr>\n",
       "    <tr>\n",
       "      <th>1</th>\n",
       "      <td>10</td>\n",
       "      <td>10</td>\n",
       "      <td>5</td>\n",
       "      <td>bogo</td>\n",
       "      <td>4d5c57ea9a6940dd891ad53e9dbe8da0</td>\n",
       "      <td>1</td>\n",
       "      <td>1</td>\n",
       "      <td>1</td>\n",
       "      <td>1</td>\n",
       "      <td>1</td>\n",
       "      <td>0</td>\n",
       "      <td>0</td>\n",
       "    </tr>\n",
       "  </tbody>\n",
       "</table>\n",
       "</div>"
      ],
      "text/plain": [
       "   reward  difficulty  duration offer_type                          offer_id  \\\n",
       "0      10          10         7       bogo  ae264e3637204a6fb9bb56bc8210ddfd   \n",
       "1      10          10         5       bogo  4d5c57ea9a6940dd891ad53e9dbe8da0   \n",
       "\n",
       "   web  email  mobile  social  bogo  informational  discount  \n",
       "0    0      1       1       1     1              0         0  \n",
       "1    1      1       1       1     1              0         0  "
      ]
     },
     "execution_count": 42,
     "metadata": {},
     "output_type": "execute_result"
    }
   ],
   "source": [
    "# code: split offer_type column\n",
    "p.print_comment('code: split offer_type column')\n",
    "\n",
    "def split_offer_type(val):\n",
    "    \"\"\"split offer_type column\"\"\"\n",
    "    if val == offer:\n",
    "        return 1\n",
    "    else:\n",
    "        return 0\n",
    "\n",
    "try:\n",
    "    for offer in offer_type:\n",
    "        portfolio[offer] = portfolio.offer_type.apply(split_offer_type)\n",
    "    \n",
    "except: pass\n",
    "else: p.print_done()\n",
    "    \n",
    "\n",
    "# test\n",
    "p.print_comment('test: split offer_type column')\n",
    "portfolio.head(2)"
   ]
  },
  {
   "cell_type": "markdown",
   "metadata": {},
   "source": [
    "### \n",
    "**Define** `offer_id` create column has offer name like offer_1"
   ]
  },
  {
   "cell_type": "code",
   "execution_count": 43,
   "metadata": {
    "ExecuteTime": {
     "end_time": "2021-08-19T13:57:06.292134Z",
     "start_time": "2021-08-19T13:57:06.195331Z"
    }
   },
   "outputs": [
    {
     "data": {
      "text/html": [
       "<div>\n",
       "<style scoped>\n",
       "    .dataframe tbody tr th:only-of-type {\n",
       "        vertical-align: middle;\n",
       "    }\n",
       "\n",
       "    .dataframe tbody tr th {\n",
       "        vertical-align: top;\n",
       "    }\n",
       "\n",
       "    .dataframe thead th {\n",
       "        text-align: right;\n",
       "    }\n",
       "</style>\n",
       "<table border=\"1\" class=\"dataframe\">\n",
       "  <thead>\n",
       "    <tr style=\"text-align: right;\">\n",
       "      <th></th>\n",
       "      <th>reward</th>\n",
       "      <th>difficulty</th>\n",
       "      <th>duration</th>\n",
       "      <th>offer_type</th>\n",
       "      <th>offer_id</th>\n",
       "      <th>web</th>\n",
       "      <th>email</th>\n",
       "      <th>mobile</th>\n",
       "      <th>social</th>\n",
       "      <th>bogo</th>\n",
       "      <th>informational</th>\n",
       "      <th>discount</th>\n",
       "    </tr>\n",
       "  </thead>\n",
       "  <tbody>\n",
       "    <tr>\n",
       "      <th>0</th>\n",
       "      <td>10</td>\n",
       "      <td>10</td>\n",
       "      <td>7</td>\n",
       "      <td>bogo</td>\n",
       "      <td>ae264e3637204a6fb9bb56bc8210ddfd</td>\n",
       "      <td>0</td>\n",
       "      <td>1</td>\n",
       "      <td>1</td>\n",
       "      <td>1</td>\n",
       "      <td>1</td>\n",
       "      <td>0</td>\n",
       "      <td>0</td>\n",
       "    </tr>\n",
       "    <tr>\n",
       "      <th>1</th>\n",
       "      <td>10</td>\n",
       "      <td>10</td>\n",
       "      <td>5</td>\n",
       "      <td>bogo</td>\n",
       "      <td>4d5c57ea9a6940dd891ad53e9dbe8da0</td>\n",
       "      <td>1</td>\n",
       "      <td>1</td>\n",
       "      <td>1</td>\n",
       "      <td>1</td>\n",
       "      <td>1</td>\n",
       "      <td>0</td>\n",
       "      <td>0</td>\n",
       "    </tr>\n",
       "    <tr>\n",
       "      <th>2</th>\n",
       "      <td>0</td>\n",
       "      <td>0</td>\n",
       "      <td>4</td>\n",
       "      <td>informational</td>\n",
       "      <td>3f207df678b143eea3cee63160fa8bed</td>\n",
       "      <td>1</td>\n",
       "      <td>1</td>\n",
       "      <td>1</td>\n",
       "      <td>0</td>\n",
       "      <td>0</td>\n",
       "      <td>1</td>\n",
       "      <td>0</td>\n",
       "    </tr>\n",
       "    <tr>\n",
       "      <th>3</th>\n",
       "      <td>5</td>\n",
       "      <td>5</td>\n",
       "      <td>7</td>\n",
       "      <td>bogo</td>\n",
       "      <td>9b98b8c7a33c4b65b9aebfe6a799e6d9</td>\n",
       "      <td>1</td>\n",
       "      <td>1</td>\n",
       "      <td>1</td>\n",
       "      <td>0</td>\n",
       "      <td>1</td>\n",
       "      <td>0</td>\n",
       "      <td>0</td>\n",
       "    </tr>\n",
       "    <tr>\n",
       "      <th>4</th>\n",
       "      <td>5</td>\n",
       "      <td>20</td>\n",
       "      <td>10</td>\n",
       "      <td>discount</td>\n",
       "      <td>0b1e1539f2cc45b7b9fa7c272da2e1d7</td>\n",
       "      <td>1</td>\n",
       "      <td>1</td>\n",
       "      <td>0</td>\n",
       "      <td>0</td>\n",
       "      <td>0</td>\n",
       "      <td>0</td>\n",
       "      <td>1</td>\n",
       "    </tr>\n",
       "    <tr>\n",
       "      <th>5</th>\n",
       "      <td>3</td>\n",
       "      <td>7</td>\n",
       "      <td>7</td>\n",
       "      <td>discount</td>\n",
       "      <td>2298d6c36e964ae4a3e7e9706d1fb8c2</td>\n",
       "      <td>1</td>\n",
       "      <td>1</td>\n",
       "      <td>1</td>\n",
       "      <td>1</td>\n",
       "      <td>0</td>\n",
       "      <td>0</td>\n",
       "      <td>1</td>\n",
       "    </tr>\n",
       "    <tr>\n",
       "      <th>6</th>\n",
       "      <td>2</td>\n",
       "      <td>10</td>\n",
       "      <td>10</td>\n",
       "      <td>discount</td>\n",
       "      <td>fafdcd668e3743c1bb461111dcafc2a4</td>\n",
       "      <td>1</td>\n",
       "      <td>1</td>\n",
       "      <td>1</td>\n",
       "      <td>1</td>\n",
       "      <td>0</td>\n",
       "      <td>0</td>\n",
       "      <td>1</td>\n",
       "    </tr>\n",
       "    <tr>\n",
       "      <th>7</th>\n",
       "      <td>0</td>\n",
       "      <td>0</td>\n",
       "      <td>3</td>\n",
       "      <td>informational</td>\n",
       "      <td>5a8bc65990b245e5a138643cd4eb9837</td>\n",
       "      <td>0</td>\n",
       "      <td>1</td>\n",
       "      <td>1</td>\n",
       "      <td>1</td>\n",
       "      <td>0</td>\n",
       "      <td>1</td>\n",
       "      <td>0</td>\n",
       "    </tr>\n",
       "    <tr>\n",
       "      <th>8</th>\n",
       "      <td>5</td>\n",
       "      <td>5</td>\n",
       "      <td>5</td>\n",
       "      <td>bogo</td>\n",
       "      <td>f19421c1d4aa40978ebb69ca19b0e20d</td>\n",
       "      <td>1</td>\n",
       "      <td>1</td>\n",
       "      <td>1</td>\n",
       "      <td>1</td>\n",
       "      <td>1</td>\n",
       "      <td>0</td>\n",
       "      <td>0</td>\n",
       "    </tr>\n",
       "    <tr>\n",
       "      <th>9</th>\n",
       "      <td>2</td>\n",
       "      <td>10</td>\n",
       "      <td>7</td>\n",
       "      <td>discount</td>\n",
       "      <td>2906b810c7d4411798c6938adc9daaa5</td>\n",
       "      <td>1</td>\n",
       "      <td>1</td>\n",
       "      <td>1</td>\n",
       "      <td>0</td>\n",
       "      <td>0</td>\n",
       "      <td>0</td>\n",
       "      <td>1</td>\n",
       "    </tr>\n",
       "  </tbody>\n",
       "</table>\n",
       "</div>"
      ],
      "text/plain": [
       "   reward  difficulty  duration     offer_type  \\\n",
       "0      10          10         7           bogo   \n",
       "1      10          10         5           bogo   \n",
       "2       0           0         4  informational   \n",
       "3       5           5         7           bogo   \n",
       "4       5          20        10       discount   \n",
       "5       3           7         7       discount   \n",
       "6       2          10        10       discount   \n",
       "7       0           0         3  informational   \n",
       "8       5           5         5           bogo   \n",
       "9       2          10         7       discount   \n",
       "\n",
       "                           offer_id  web  email  mobile  social  bogo  \\\n",
       "0  ae264e3637204a6fb9bb56bc8210ddfd    0      1       1       1     1   \n",
       "1  4d5c57ea9a6940dd891ad53e9dbe8da0    1      1       1       1     1   \n",
       "2  3f207df678b143eea3cee63160fa8bed    1      1       1       0     0   \n",
       "3  9b98b8c7a33c4b65b9aebfe6a799e6d9    1      1       1       0     1   \n",
       "4  0b1e1539f2cc45b7b9fa7c272da2e1d7    1      1       0       0     0   \n",
       "5  2298d6c36e964ae4a3e7e9706d1fb8c2    1      1       1       1     0   \n",
       "6  fafdcd668e3743c1bb461111dcafc2a4    1      1       1       1     0   \n",
       "7  5a8bc65990b245e5a138643cd4eb9837    0      1       1       1     0   \n",
       "8  f19421c1d4aa40978ebb69ca19b0e20d    1      1       1       1     1   \n",
       "9  2906b810c7d4411798c6938adc9daaa5    1      1       1       0     0   \n",
       "\n",
       "   informational  discount  \n",
       "0              0         0  \n",
       "1              0         0  \n",
       "2              1         0  \n",
       "3              0         0  \n",
       "4              0         1  \n",
       "5              0         1  \n",
       "6              0         1  \n",
       "7              1         0  \n",
       "8              0         0  \n",
       "9              0         1  "
      ]
     },
     "execution_count": 43,
     "metadata": {},
     "output_type": "execute_result"
    }
   ],
   "source": [
    "portfolio"
   ]
  },
  {
   "cell_type": "code",
   "execution_count": 44,
   "metadata": {
    "ExecuteTime": {
     "end_time": "2021-08-19T13:57:06.404346Z",
     "start_time": "2021-08-19T13:57:06.293003Z"
    }
   },
   "outputs": [
    {
     "name": "stdout",
     "output_type": "stream",
     "text": [
      "▬▬▬▬▬▬▬▬▬▬▬▬▬▬▬▬▬▬▬▬▬▬▬▬▬ Code: create offer_name column ▬▬▬▬▬▬▬▬▬▬▬▬▬▬▬▬▬▬▬▬ \n",
      "\n",
      "Celebration: your job completed 🎉🎉🎉🎉🎉🎉🎉🎉🎉🎉🎉🎉🎉🎉🎉🎉🎉🎉🎉🎉🎉🎉🎉🎉🎉 \n",
      "\n",
      "                           offer_id offer_name\n",
      "0  ae264e3637204a6fb9bb56bc8210ddfd    offer_1\n",
      "1  4d5c57ea9a6940dd891ad53e9dbe8da0    offer_2\n",
      "2  3f207df678b143eea3cee63160fa8bed    offer_3\n",
      "3  9b98b8c7a33c4b65b9aebfe6a799e6d9    offer_4\n",
      "4  0b1e1539f2cc45b7b9fa7c272da2e1d7    offer_5\n",
      "5  2298d6c36e964ae4a3e7e9706d1fb8c2    offer_6\n",
      "6  fafdcd668e3743c1bb461111dcafc2a4    offer_7\n",
      "7  5a8bc65990b245e5a138643cd4eb9837    offer_8\n",
      "8  f19421c1d4aa40978ebb69ca19b0e20d    offer_9\n",
      "9  2906b810c7d4411798c6938adc9daaa5   offer_10\n"
     ]
    }
   ],
   "source": [
    "# code: create offer_name column\n",
    "p.print_comment('code: create offer_name column')\n",
    "\n",
    "try: \n",
    "    lst = range(1,portfolio.shape[0]+1)\n",
    "    x = [f\"offer_{x}\" for x in lst]\n",
    "    portfolio['offer_name'] = x\n",
    "\n",
    "except: pass\n",
    "\n",
    "else: \n",
    "    p.print_done()\n",
    "    print(portfolio[['offer_id','offer_name']])\n"
   ]
  },
  {
   "cell_type": "markdown",
   "metadata": {},
   "source": [
    "## transcript"
   ]
  },
  {
   "cell_type": "markdown",
   "metadata": {},
   "source": [
    "### \n",
    "**Define**: `time` convert to days"
   ]
  },
  {
   "cell_type": "code",
   "execution_count": 45,
   "metadata": {
    "ExecuteTime": {
     "end_time": "2021-08-19T13:57:06.542101Z",
     "start_time": "2021-08-19T13:57:06.405364Z"
    }
   },
   "outputs": [
    {
     "data": {
      "text/html": [
       "<div>\n",
       "<style scoped>\n",
       "    .dataframe tbody tr th:only-of-type {\n",
       "        vertical-align: middle;\n",
       "    }\n",
       "\n",
       "    .dataframe tbody tr th {\n",
       "        vertical-align: top;\n",
       "    }\n",
       "\n",
       "    .dataframe thead th {\n",
       "        text-align: right;\n",
       "    }\n",
       "</style>\n",
       "<table border=\"1\" class=\"dataframe\">\n",
       "  <thead>\n",
       "    <tr style=\"text-align: right;\">\n",
       "      <th></th>\n",
       "      <th>person</th>\n",
       "      <th>event</th>\n",
       "      <th>value</th>\n",
       "      <th>time</th>\n",
       "    </tr>\n",
       "  </thead>\n",
       "  <tbody>\n",
       "    <tr>\n",
       "      <th>0</th>\n",
       "      <td>78afa995795e4d85b5d9ceeca43f5fef</td>\n",
       "      <td>offer received</td>\n",
       "      <td>{'offer id': '9b98b8c7a33c4b65b9aebfe6a799e6d9'}</td>\n",
       "      <td>0</td>\n",
       "    </tr>\n",
       "    <tr>\n",
       "      <th>1</th>\n",
       "      <td>a03223e636434f42ac4c3df47e8bac43</td>\n",
       "      <td>offer received</td>\n",
       "      <td>{'offer id': '0b1e1539f2cc45b7b9fa7c272da2e1d7'}</td>\n",
       "      <td>0</td>\n",
       "    </tr>\n",
       "    <tr>\n",
       "      <th>2</th>\n",
       "      <td>e2127556f4f64592b11af22de27a7932</td>\n",
       "      <td>offer received</td>\n",
       "      <td>{'offer id': '2906b810c7d4411798c6938adc9daaa5'}</td>\n",
       "      <td>0</td>\n",
       "    </tr>\n",
       "    <tr>\n",
       "      <th>3</th>\n",
       "      <td>8ec6ce2a7e7949b1bf142def7d0e0586</td>\n",
       "      <td>offer received</td>\n",
       "      <td>{'offer id': 'fafdcd668e3743c1bb461111dcafc2a4'}</td>\n",
       "      <td>0</td>\n",
       "    </tr>\n",
       "    <tr>\n",
       "      <th>4</th>\n",
       "      <td>68617ca6246f4fbc85e91a2a49552598</td>\n",
       "      <td>offer received</td>\n",
       "      <td>{'offer id': '4d5c57ea9a6940dd891ad53e9dbe8da0'}</td>\n",
       "      <td>0</td>\n",
       "    </tr>\n",
       "  </tbody>\n",
       "</table>\n",
       "</div>"
      ],
      "text/plain": [
       "                             person           event  \\\n",
       "0  78afa995795e4d85b5d9ceeca43f5fef  offer received   \n",
       "1  a03223e636434f42ac4c3df47e8bac43  offer received   \n",
       "2  e2127556f4f64592b11af22de27a7932  offer received   \n",
       "3  8ec6ce2a7e7949b1bf142def7d0e0586  offer received   \n",
       "4  68617ca6246f4fbc85e91a2a49552598  offer received   \n",
       "\n",
       "                                              value  time  \n",
       "0  {'offer id': '9b98b8c7a33c4b65b9aebfe6a799e6d9'}     0  \n",
       "1  {'offer id': '0b1e1539f2cc45b7b9fa7c272da2e1d7'}     0  \n",
       "2  {'offer id': '2906b810c7d4411798c6938adc9daaa5'}     0  \n",
       "3  {'offer id': 'fafdcd668e3743c1bb461111dcafc2a4'}     0  \n",
       "4  {'offer id': '4d5c57ea9a6940dd891ad53e9dbe8da0'}     0  "
      ]
     },
     "execution_count": 45,
     "metadata": {},
     "output_type": "execute_result"
    }
   ],
   "source": [
    "transcript.head(5)"
   ]
  },
  {
   "cell_type": "code",
   "execution_count": 46,
   "metadata": {
    "ExecuteTime": {
     "end_time": "2021-08-19T13:57:06.625333Z",
     "start_time": "2021-08-19T13:57:06.546147Z"
    }
   },
   "outputs": [
    {
     "name": "stdout",
     "output_type": "stream",
     "text": [
      "▬▬▬▬▬▬▬▬▬▬▬▬▬▬▬▬▬▬▬▬▬▬▬▬▬ Check time column ▬▬▬▬▬▬▬▬▬▬▬▬▬▬▬▬▬▬▬▬ \n",
      "\n",
      "0     15561\n",
      "6      2506\n",
      "12     2215\n",
      "18     2015\n",
      "24     1921\n",
      "Name: time, dtype: int64\n",
      "▬▬▬▬▬▬▬▬▬▬▬▬▬▬▬▬▬▬▬▬▬▬▬▬▬ Check the type ▬▬▬▬▬▬▬▬▬▬▬▬▬▬▬▬▬▬▬▬ \n",
      "\n",
      "<class 'numpy.int64'>\n"
     ]
    }
   ],
   "source": [
    "# check time column\n",
    "p.print_comment('check time column')\n",
    "print(transcript.time.value_counts().sort_index()[:5])\n",
    "\n",
    "# check the type\n",
    "p.print_comment('check the type')\n",
    "print(type(transcript.time[0]))"
   ]
  },
  {
   "cell_type": "code",
   "execution_count": 47,
   "metadata": {
    "ExecuteTime": {
     "end_time": "2021-08-19T13:57:06.781196Z",
     "start_time": "2021-08-19T13:57:06.626458Z"
    }
   },
   "outputs": [
    {
     "name": "stdout",
     "output_type": "stream",
     "text": [
      "▬▬▬▬▬▬▬▬▬▬▬▬▬▬▬▬▬▬▬▬▬▬▬▬▬ Code: convert time to days ▬▬▬▬▬▬▬▬▬▬▬▬▬▬▬▬▬▬▬▬ \n",
      "\n",
      "Celebration: your job completed 🎉🎉🎉🎉🎉🎉🎉🎉🎉🎉🎉🎉🎉🎉🎉🎉🎉🎉🎉🎉🎉🎉🎉🎉🎉 \n",
      "\n"
     ]
    }
   ],
   "source": [
    "def convert_time_day(val):\n",
    "    \"\"\"convert from time to days\"\"\"\n",
    "    return val / 24\n",
    "\n",
    "try:\n",
    "    # code: convert time to days\n",
    "    p.print_comment('code: convert time to days')\n",
    "\n",
    "    transcript['days'] = transcript.time.apply(convert_time_day)\n",
    "\n",
    "except Exception as e: print(e)\n",
    "\n",
    "else: p.print_done()"
   ]
  },
  {
   "cell_type": "code",
   "execution_count": 48,
   "metadata": {
    "ExecuteTime": {
     "end_time": "2021-08-19T13:57:06.848533Z",
     "start_time": "2021-08-19T13:57:06.782299Z"
    }
   },
   "outputs": [
    {
     "name": "stdout",
     "output_type": "stream",
     "text": [
      "▬▬▬▬▬▬▬▬▬▬▬▬▬▬▬▬▬▬▬▬▬▬▬▬▬ Test: convert time to days ▬▬▬▬▬▬▬▬▬▬▬▬▬▬▬▬▬▬▬▬ \n",
      "\n"
     ]
    },
    {
     "data": {
      "text/plain": [
       "306524    29.75\n",
       "306525    29.75\n",
       "306526    29.75\n",
       "306527    29.75\n",
       "306528    29.75\n",
       "306529    29.75\n",
       "306530    29.75\n",
       "306531    29.75\n",
       "306532    29.75\n",
       "306533    29.75\n",
       "Name: days, dtype: float64"
      ]
     },
     "execution_count": 48,
     "metadata": {},
     "output_type": "execute_result"
    }
   ],
   "source": [
    "# test: convert time to days\n",
    "p.print_comment('test: convert time to days')\n",
    "\n",
    "transcript.days[-10:]"
   ]
  },
  {
   "cell_type": "markdown",
   "metadata": {},
   "source": [
    "### \n",
    "**Define**: `person` change his name to `customer_id`"
   ]
  },
  {
   "cell_type": "code",
   "execution_count": 49,
   "metadata": {
    "ExecuteTime": {
     "end_time": "2021-08-19T13:57:06.931379Z",
     "start_time": "2021-08-19T13:57:06.849650Z"
    }
   },
   "outputs": [
    {
     "name": "stdout",
     "output_type": "stream",
     "text": [
      "▬▬▬▬▬▬▬▬▬▬▬▬▬▬▬▬▬▬▬▬▬▬▬▬▬ Return columns name ▬▬▬▬▬▬▬▬▬▬▬▬▬▬▬▬▬▬▬▬ \n",
      "\n",
      "Index(['person', 'event', 'value', 'time', 'days'], dtype='object')\n",
      "▬▬▬▬▬▬▬▬▬▬▬▬▬▬▬▬▬▬▬▬▬▬▬▬▬ Code: change column name ▬▬▬▬▬▬▬▬▬▬▬▬▬▬▬▬▬▬▬▬ \n",
      "\n",
      "Celebration: your job completed 🎉🎉🎉🎉🎉🎉🎉🎉🎉🎉🎉🎉🎉🎉🎉🎉🎉🎉🎉🎉🎉🎉🎉🎉🎉 \n",
      "\n",
      "▬▬▬▬▬▬▬▬▬▬▬▬▬▬▬▬▬▬▬▬▬▬▬▬▬ Return columns name ▬▬▬▬▬▬▬▬▬▬▬▬▬▬▬▬▬▬▬▬ \n",
      "\n",
      "Index(['customer_id', 'event', 'value', 'time', 'days'], dtype='object')\n"
     ]
    }
   ],
   "source": [
    "# return columns name\n",
    "\n",
    "p.print_comment('return columns name')\n",
    "print(transcript.columns)\n",
    "\n",
    "# code: change column name\n",
    "try:\n",
    "    p.print_comment('code: change column name')\n",
    "    transcript.rename(columns={\"person\": \"customer_id\"}, inplace=True)\n",
    "except: pass\n",
    "else: p.print_done()\n",
    "    \n",
    "# test: change column name\n",
    "p.print_comment('return columns name')\n",
    "print(transcript.columns)"
   ]
  },
  {
   "cell_type": "markdown",
   "metadata": {},
   "source": [
    "### \n",
    "**Define**: `value` extract `offer_id` and `amount`"
   ]
  },
  {
   "cell_type": "code",
   "execution_count": 50,
   "metadata": {
    "ExecuteTime": {
     "end_time": "2021-08-19T13:57:07.008579Z",
     "start_time": "2021-08-19T13:57:06.932392Z"
    }
   },
   "outputs": [
    {
     "name": "stdout",
     "output_type": "stream",
     "text": [
      "▬▬▬▬▬▬▬▬▬▬▬▬▬▬▬▬▬▬▬▬▬▬▬▬▬ Check value column ▬▬▬▬▬▬▬▬▬▬▬▬▬▬▬▬▬▬▬▬ \n",
      "\n"
     ]
    },
    {
     "data": {
      "text/plain": [
       "0         {'offer id': '9b98b8c7a33c4b65b9aebfe6a799e6d9'}\n",
       "1         {'offer id': '0b1e1539f2cc45b7b9fa7c272da2e1d7'}\n",
       "2         {'offer id': '2906b810c7d4411798c6938adc9daaa5'}\n",
       "3         {'offer id': 'fafdcd668e3743c1bb461111dcafc2a4'}\n",
       "4         {'offer id': '4d5c57ea9a6940dd891ad53e9dbe8da0'}\n",
       "                                ...                       \n",
       "306529                      {'amount': 1.5899999999999999}\n",
       "306530                                    {'amount': 9.53}\n",
       "306531                                    {'amount': 3.61}\n",
       "306532                      {'amount': 3.5300000000000002}\n",
       "306533                                    {'amount': 4.05}\n",
       "Name: value, Length: 306534, dtype: object"
      ]
     },
     "execution_count": 50,
     "metadata": {},
     "output_type": "execute_result"
    }
   ],
   "source": [
    "# check value column\n",
    "p.print_comment('check value column')\n",
    "transcript.value"
   ]
  },
  {
   "cell_type": "code",
   "execution_count": 51,
   "metadata": {
    "ExecuteTime": {
     "end_time": "2021-08-19T13:57:07.208183Z",
     "start_time": "2021-08-19T13:57:07.009563Z"
    }
   },
   "outputs": [
    {
     "name": "stdout",
     "output_type": "stream",
     "text": [
      "▬▬▬▬▬▬▬▬▬▬▬▬▬▬▬▬▬▬▬▬▬▬▬▬▬ Return the keys in value column ▬▬▬▬▬▬▬▬▬▬▬▬▬▬▬▬▬▬▬▬ \n",
      "\n",
      "['offer id', 'amount', 'offer_id', 'reward']\n"
     ]
    }
   ],
   "source": [
    "# return the keys in value column\n",
    "p.print_comment('return the keys in value column')\n",
    "\n",
    "keys = []\n",
    "def get_keys(val):\n",
    "    \"\"\"return available keys\"\"\"\n",
    "    if list(val.keys()) not in keys:\n",
    "        keys.append(list(val.keys()))\n",
    "    \n",
    "    \n",
    "transcript.value.apply(get_keys)\n",
    "\n",
    "keys = [ item for elem in keys for item in elem]\n",
    "print(keys)"
   ]
  },
  {
   "cell_type": "code",
   "execution_count": 52,
   "metadata": {
    "ExecuteTime": {
     "end_time": "2021-08-19T13:57:07.217847Z",
     "start_time": "2021-08-19T13:57:07.209457Z"
    }
   },
   "outputs": [
    {
     "data": {
      "text/html": [
       "<div>\n",
       "<style scoped>\n",
       "    .dataframe tbody tr th:only-of-type {\n",
       "        vertical-align: middle;\n",
       "    }\n",
       "\n",
       "    .dataframe tbody tr th {\n",
       "        vertical-align: top;\n",
       "    }\n",
       "\n",
       "    .dataframe thead th {\n",
       "        text-align: right;\n",
       "    }\n",
       "</style>\n",
       "<table border=\"1\" class=\"dataframe\">\n",
       "  <thead>\n",
       "    <tr style=\"text-align: right;\">\n",
       "      <th></th>\n",
       "      <th>customer_id</th>\n",
       "      <th>event</th>\n",
       "      <th>value</th>\n",
       "      <th>time</th>\n",
       "      <th>days</th>\n",
       "    </tr>\n",
       "  </thead>\n",
       "  <tbody>\n",
       "    <tr>\n",
       "      <th>306524</th>\n",
       "      <td>d613ca9c59dd42f497bdbf6178da54a7</td>\n",
       "      <td>transaction</td>\n",
       "      <td>{'amount': 25.14}</td>\n",
       "      <td>714</td>\n",
       "      <td>29.75</td>\n",
       "    </tr>\n",
       "    <tr>\n",
       "      <th>306525</th>\n",
       "      <td>eec70ab28af74a22a4aeb889c0317944</td>\n",
       "      <td>transaction</td>\n",
       "      <td>{'amount': 43.58}</td>\n",
       "      <td>714</td>\n",
       "      <td>29.75</td>\n",
       "    </tr>\n",
       "    <tr>\n",
       "      <th>306526</th>\n",
       "      <td>24f56b5e1849462093931b164eb803b5</td>\n",
       "      <td>transaction</td>\n",
       "      <td>{'amount': 22.64}</td>\n",
       "      <td>714</td>\n",
       "      <td>29.75</td>\n",
       "    </tr>\n",
       "    <tr>\n",
       "      <th>306527</th>\n",
       "      <td>24f56b5e1849462093931b164eb803b5</td>\n",
       "      <td>offer completed</td>\n",
       "      <td>{'offer_id': 'fafdcd668e3743c1bb461111dcafc2a4...</td>\n",
       "      <td>714</td>\n",
       "      <td>29.75</td>\n",
       "    </tr>\n",
       "    <tr>\n",
       "      <th>306528</th>\n",
       "      <td>5ca2620962114246ab218fc648eb3934</td>\n",
       "      <td>transaction</td>\n",
       "      <td>{'amount': 2.2}</td>\n",
       "      <td>714</td>\n",
       "      <td>29.75</td>\n",
       "    </tr>\n",
       "    <tr>\n",
       "      <th>306529</th>\n",
       "      <td>b3a1272bc9904337b331bf348c3e8c17</td>\n",
       "      <td>transaction</td>\n",
       "      <td>{'amount': 1.5899999999999999}</td>\n",
       "      <td>714</td>\n",
       "      <td>29.75</td>\n",
       "    </tr>\n",
       "    <tr>\n",
       "      <th>306530</th>\n",
       "      <td>68213b08d99a4ae1b0dcb72aebd9aa35</td>\n",
       "      <td>transaction</td>\n",
       "      <td>{'amount': 9.53}</td>\n",
       "      <td>714</td>\n",
       "      <td>29.75</td>\n",
       "    </tr>\n",
       "    <tr>\n",
       "      <th>306531</th>\n",
       "      <td>a00058cf10334a308c68e7631c529907</td>\n",
       "      <td>transaction</td>\n",
       "      <td>{'amount': 3.61}</td>\n",
       "      <td>714</td>\n",
       "      <td>29.75</td>\n",
       "    </tr>\n",
       "    <tr>\n",
       "      <th>306532</th>\n",
       "      <td>76ddbd6576844afe811f1a3c0fbb5bec</td>\n",
       "      <td>transaction</td>\n",
       "      <td>{'amount': 3.5300000000000002}</td>\n",
       "      <td>714</td>\n",
       "      <td>29.75</td>\n",
       "    </tr>\n",
       "    <tr>\n",
       "      <th>306533</th>\n",
       "      <td>c02b10e8752c4d8e9b73f918558531f7</td>\n",
       "      <td>transaction</td>\n",
       "      <td>{'amount': 4.05}</td>\n",
       "      <td>714</td>\n",
       "      <td>29.75</td>\n",
       "    </tr>\n",
       "  </tbody>\n",
       "</table>\n",
       "</div>"
      ],
      "text/plain": [
       "                             customer_id            event  \\\n",
       "306524  d613ca9c59dd42f497bdbf6178da54a7      transaction   \n",
       "306525  eec70ab28af74a22a4aeb889c0317944      transaction   \n",
       "306526  24f56b5e1849462093931b164eb803b5      transaction   \n",
       "306527  24f56b5e1849462093931b164eb803b5  offer completed   \n",
       "306528  5ca2620962114246ab218fc648eb3934      transaction   \n",
       "306529  b3a1272bc9904337b331bf348c3e8c17      transaction   \n",
       "306530  68213b08d99a4ae1b0dcb72aebd9aa35      transaction   \n",
       "306531  a00058cf10334a308c68e7631c529907      transaction   \n",
       "306532  76ddbd6576844afe811f1a3c0fbb5bec      transaction   \n",
       "306533  c02b10e8752c4d8e9b73f918558531f7      transaction   \n",
       "\n",
       "                                                    value  time   days  \n",
       "306524                                  {'amount': 25.14}   714  29.75  \n",
       "306525                                  {'amount': 43.58}   714  29.75  \n",
       "306526                                  {'amount': 22.64}   714  29.75  \n",
       "306527  {'offer_id': 'fafdcd668e3743c1bb461111dcafc2a4...   714  29.75  \n",
       "306528                                    {'amount': 2.2}   714  29.75  \n",
       "306529                     {'amount': 1.5899999999999999}   714  29.75  \n",
       "306530                                   {'amount': 9.53}   714  29.75  \n",
       "306531                                   {'amount': 3.61}   714  29.75  \n",
       "306532                     {'amount': 3.5300000000000002}   714  29.75  \n",
       "306533                                   {'amount': 4.05}   714  29.75  "
      ]
     },
     "execution_count": 52,
     "metadata": {},
     "output_type": "execute_result"
    }
   ],
   "source": [
    "transcript.tail(10)"
   ]
  },
  {
   "cell_type": "code",
   "execution_count": 53,
   "metadata": {
    "ExecuteTime": {
     "end_time": "2021-08-19T13:57:07.654791Z",
     "start_time": "2021-08-19T13:57:07.219044Z"
    },
    "code_folding": [
     0,
     7
    ]
   },
   "outputs": [
    {
     "name": "stdout",
     "output_type": "stream",
     "text": [
      "▬▬▬▬▬▬▬▬▬▬▬▬▬▬▬▬▬▬▬▬▬▬▬▬▬ Code: splite value column ▬▬▬▬▬▬▬▬▬▬▬▬▬▬▬▬▬▬▬▬ \n",
      "\n",
      "Celebration: your job completed 🎉🎉🎉🎉🎉🎉🎉🎉🎉🎉🎉🎉🎉🎉🎉🎉🎉🎉🎉🎉🎉🎉🎉🎉🎉 \n",
      "\n",
      "▬▬▬▬▬▬▬▬▬▬▬▬▬▬▬▬▬▬▬▬▬▬▬▬▬ Test: splite value column ▬▬▬▬▬▬▬▬▬▬▬▬▬▬▬▬▬▬▬▬ \n",
      "\n"
     ]
    },
    {
     "data": {
      "text/html": [
       "<div>\n",
       "<style scoped>\n",
       "    .dataframe tbody tr th:only-of-type {\n",
       "        vertical-align: middle;\n",
       "    }\n",
       "\n",
       "    .dataframe tbody tr th {\n",
       "        vertical-align: top;\n",
       "    }\n",
       "\n",
       "    .dataframe thead th {\n",
       "        text-align: right;\n",
       "    }\n",
       "</style>\n",
       "<table border=\"1\" class=\"dataframe\">\n",
       "  <thead>\n",
       "    <tr style=\"text-align: right;\">\n",
       "      <th></th>\n",
       "      <th>customer_id</th>\n",
       "      <th>event</th>\n",
       "      <th>value</th>\n",
       "      <th>time</th>\n",
       "      <th>days</th>\n",
       "      <th>amount</th>\n",
       "      <th>offer_id</th>\n",
       "    </tr>\n",
       "  </thead>\n",
       "  <tbody>\n",
       "    <tr>\n",
       "      <th>306524</th>\n",
       "      <td>d613ca9c59dd42f497bdbf6178da54a7</td>\n",
       "      <td>transaction</td>\n",
       "      <td>{'amount': 25.14}</td>\n",
       "      <td>714</td>\n",
       "      <td>29.75</td>\n",
       "      <td>25.14</td>\n",
       "      <td>0</td>\n",
       "    </tr>\n",
       "    <tr>\n",
       "      <th>306525</th>\n",
       "      <td>eec70ab28af74a22a4aeb889c0317944</td>\n",
       "      <td>transaction</td>\n",
       "      <td>{'amount': 43.58}</td>\n",
       "      <td>714</td>\n",
       "      <td>29.75</td>\n",
       "      <td>43.58</td>\n",
       "      <td>0</td>\n",
       "    </tr>\n",
       "    <tr>\n",
       "      <th>306526</th>\n",
       "      <td>24f56b5e1849462093931b164eb803b5</td>\n",
       "      <td>transaction</td>\n",
       "      <td>{'amount': 22.64}</td>\n",
       "      <td>714</td>\n",
       "      <td>29.75</td>\n",
       "      <td>22.64</td>\n",
       "      <td>0</td>\n",
       "    </tr>\n",
       "    <tr>\n",
       "      <th>306527</th>\n",
       "      <td>24f56b5e1849462093931b164eb803b5</td>\n",
       "      <td>offer completed</td>\n",
       "      <td>{'offer_id': 'fafdcd668e3743c1bb461111dcafc2a4...</td>\n",
       "      <td>714</td>\n",
       "      <td>29.75</td>\n",
       "      <td>0.00</td>\n",
       "      <td>fafdcd668e3743c1bb461111dcafc2a4</td>\n",
       "    </tr>\n",
       "    <tr>\n",
       "      <th>306528</th>\n",
       "      <td>5ca2620962114246ab218fc648eb3934</td>\n",
       "      <td>transaction</td>\n",
       "      <td>{'amount': 2.2}</td>\n",
       "      <td>714</td>\n",
       "      <td>29.75</td>\n",
       "      <td>2.20</td>\n",
       "      <td>0</td>\n",
       "    </tr>\n",
       "    <tr>\n",
       "      <th>306529</th>\n",
       "      <td>b3a1272bc9904337b331bf348c3e8c17</td>\n",
       "      <td>transaction</td>\n",
       "      <td>{'amount': 1.5899999999999999}</td>\n",
       "      <td>714</td>\n",
       "      <td>29.75</td>\n",
       "      <td>1.59</td>\n",
       "      <td>0</td>\n",
       "    </tr>\n",
       "    <tr>\n",
       "      <th>306530</th>\n",
       "      <td>68213b08d99a4ae1b0dcb72aebd9aa35</td>\n",
       "      <td>transaction</td>\n",
       "      <td>{'amount': 9.53}</td>\n",
       "      <td>714</td>\n",
       "      <td>29.75</td>\n",
       "      <td>9.53</td>\n",
       "      <td>0</td>\n",
       "    </tr>\n",
       "    <tr>\n",
       "      <th>306531</th>\n",
       "      <td>a00058cf10334a308c68e7631c529907</td>\n",
       "      <td>transaction</td>\n",
       "      <td>{'amount': 3.61}</td>\n",
       "      <td>714</td>\n",
       "      <td>29.75</td>\n",
       "      <td>3.61</td>\n",
       "      <td>0</td>\n",
       "    </tr>\n",
       "    <tr>\n",
       "      <th>306532</th>\n",
       "      <td>76ddbd6576844afe811f1a3c0fbb5bec</td>\n",
       "      <td>transaction</td>\n",
       "      <td>{'amount': 3.5300000000000002}</td>\n",
       "      <td>714</td>\n",
       "      <td>29.75</td>\n",
       "      <td>3.53</td>\n",
       "      <td>0</td>\n",
       "    </tr>\n",
       "    <tr>\n",
       "      <th>306533</th>\n",
       "      <td>c02b10e8752c4d8e9b73f918558531f7</td>\n",
       "      <td>transaction</td>\n",
       "      <td>{'amount': 4.05}</td>\n",
       "      <td>714</td>\n",
       "      <td>29.75</td>\n",
       "      <td>4.05</td>\n",
       "      <td>0</td>\n",
       "    </tr>\n",
       "  </tbody>\n",
       "</table>\n",
       "</div>"
      ],
      "text/plain": [
       "                             customer_id            event  \\\n",
       "306524  d613ca9c59dd42f497bdbf6178da54a7      transaction   \n",
       "306525  eec70ab28af74a22a4aeb889c0317944      transaction   \n",
       "306526  24f56b5e1849462093931b164eb803b5      transaction   \n",
       "306527  24f56b5e1849462093931b164eb803b5  offer completed   \n",
       "306528  5ca2620962114246ab218fc648eb3934      transaction   \n",
       "306529  b3a1272bc9904337b331bf348c3e8c17      transaction   \n",
       "306530  68213b08d99a4ae1b0dcb72aebd9aa35      transaction   \n",
       "306531  a00058cf10334a308c68e7631c529907      transaction   \n",
       "306532  76ddbd6576844afe811f1a3c0fbb5bec      transaction   \n",
       "306533  c02b10e8752c4d8e9b73f918558531f7      transaction   \n",
       "\n",
       "                                                    value  time   days  \\\n",
       "306524                                  {'amount': 25.14}   714  29.75   \n",
       "306525                                  {'amount': 43.58}   714  29.75   \n",
       "306526                                  {'amount': 22.64}   714  29.75   \n",
       "306527  {'offer_id': 'fafdcd668e3743c1bb461111dcafc2a4...   714  29.75   \n",
       "306528                                    {'amount': 2.2}   714  29.75   \n",
       "306529                     {'amount': 1.5899999999999999}   714  29.75   \n",
       "306530                                   {'amount': 9.53}   714  29.75   \n",
       "306531                                   {'amount': 3.61}   714  29.75   \n",
       "306532                     {'amount': 3.5300000000000002}   714  29.75   \n",
       "306533                                   {'amount': 4.05}   714  29.75   \n",
       "\n",
       "        amount                          offer_id  \n",
       "306524   25.14                                 0  \n",
       "306525   43.58                                 0  \n",
       "306526   22.64                                 0  \n",
       "306527    0.00  fafdcd668e3743c1bb461111dcafc2a4  \n",
       "306528    2.20                                 0  \n",
       "306529    1.59                                 0  \n",
       "306530    9.53                                 0  \n",
       "306531    3.61                                 0  \n",
       "306532    3.53                                 0  \n",
       "306533    4.05                                 0  "
      ]
     },
     "execution_count": 53,
     "metadata": {},
     "output_type": "execute_result"
    }
   ],
   "source": [
    "def split_key(val):\n",
    "    \"\"\"split key column\"\"\"\n",
    "    if list(val.keys())[0].startswith(key[:2]):\n",
    "        return list(val.values())[0]\n",
    "    else:\n",
    "        return 0\n",
    "    \n",
    "try:  \n",
    "    # code: split value column\n",
    "    p.print_comment('code: splite value column')\n",
    "    \n",
    "    for key in keys[1:3]:\n",
    "        transcript[key] = transcript.value.apply(split_key)\n",
    "except: pass\n",
    "\n",
    "else: p.print_done()\n",
    "    \n",
    "# test: split value column\n",
    "p.print_comment('test: splite value column')\n",
    "transcript.tail(10)\n",
    "\n"
   ]
  },
  {
   "cell_type": "code",
   "execution_count": 54,
   "metadata": {
    "ExecuteTime": {
     "end_time": "2021-08-19T13:57:07.778889Z",
     "start_time": "2021-08-19T13:57:07.655715Z"
    }
   },
   "outputs": [
    {
     "name": "stdout",
     "output_type": "stream",
     "text": [
      "▬▬▬▬▬▬▬▬▬▬▬▬▬▬▬▬▬▬▬▬▬▬▬▬▬ Drop value column ▬▬▬▬▬▬▬▬▬▬▬▬▬▬▬▬▬▬▬▬ \n",
      "\n",
      "▬▬▬▬▬▬▬▬▬▬▬▬▬▬▬▬▬▬▬▬▬▬▬▬▬ Test ▬▬▬▬▬▬▬▬▬▬▬▬▬▬▬▬▬▬▬▬ \n",
      "\n"
     ]
    },
    {
     "data": {
      "text/plain": [
       "Index(['customer_id', 'event', 'time', 'days', 'amount', 'offer_id'], dtype='object')"
      ]
     },
     "execution_count": 54,
     "metadata": {},
     "output_type": "execute_result"
    }
   ],
   "source": [
    "# drop value column\n",
    "p.print_comment('drop value column')\n",
    "\n",
    "transcript.drop('value', axis=1, inplace=True)\n",
    "\n",
    "# test\n",
    "p.print_comment('test')\n",
    "\n",
    "transcript.columns"
   ]
  },
  {
   "cell_type": "markdown",
   "metadata": {},
   "source": [
    "### \n",
    "**Define**: `event` need to encode"
   ]
  },
  {
   "cell_type": "code",
   "execution_count": 55,
   "metadata": {
    "ExecuteTime": {
     "end_time": "2021-08-19T13:57:07.827474Z",
     "start_time": "2021-08-19T13:57:07.779822Z"
    }
   },
   "outputs": [
    {
     "name": "stdout",
     "output_type": "stream",
     "text": [
      "▬▬▬▬▬▬▬▬▬▬▬▬▬▬▬▬▬▬▬▬▬▬▬▬▬ Return unique value in event column ▬▬▬▬▬▬▬▬▬▬▬▬▬▬▬▬▬▬▬▬ \n",
      "\n"
     ]
    },
    {
     "data": {
      "text/plain": [
       "array(['offer received', 'offer viewed', 'transaction', 'offer completed'],\n",
       "      dtype=object)"
      ]
     },
     "execution_count": 55,
     "metadata": {},
     "output_type": "execute_result"
    }
   ],
   "source": [
    "# return unique value in event column\n",
    "p.print_comment('return unique value in event column')\n",
    "\n",
    "event_list = transcript.event.unique()\n",
    "event_list"
   ]
  },
  {
   "cell_type": "code",
   "execution_count": 56,
   "metadata": {
    "ExecuteTime": {
     "end_time": "2021-08-19T13:57:07.890955Z",
     "start_time": "2021-08-19T13:57:07.828663Z"
    }
   },
   "outputs": [
    {
     "data": {
      "text/html": [
       "<div>\n",
       "<style scoped>\n",
       "    .dataframe tbody tr th:only-of-type {\n",
       "        vertical-align: middle;\n",
       "    }\n",
       "\n",
       "    .dataframe tbody tr th {\n",
       "        vertical-align: top;\n",
       "    }\n",
       "\n",
       "    .dataframe thead th {\n",
       "        text-align: right;\n",
       "    }\n",
       "</style>\n",
       "<table border=\"1\" class=\"dataframe\">\n",
       "  <thead>\n",
       "    <tr style=\"text-align: right;\">\n",
       "      <th></th>\n",
       "      <th>customer_id</th>\n",
       "      <th>event</th>\n",
       "      <th>time</th>\n",
       "      <th>days</th>\n",
       "      <th>amount</th>\n",
       "      <th>offer_id</th>\n",
       "    </tr>\n",
       "  </thead>\n",
       "  <tbody>\n",
       "    <tr>\n",
       "      <th>306484</th>\n",
       "      <td>a4c2dd694269444085976f10b9b225f6</td>\n",
       "      <td>transaction</td>\n",
       "      <td>714</td>\n",
       "      <td>29.75</td>\n",
       "      <td>28.58</td>\n",
       "      <td>0</td>\n",
       "    </tr>\n",
       "    <tr>\n",
       "      <th>306485</th>\n",
       "      <td>4b59509988d34c7298119a840c946453</td>\n",
       "      <td>transaction</td>\n",
       "      <td>714</td>\n",
       "      <td>29.75</td>\n",
       "      <td>0.06</td>\n",
       "      <td>0</td>\n",
       "    </tr>\n",
       "    <tr>\n",
       "      <th>306486</th>\n",
       "      <td>92153f7cdda8486b9a2214ceb11b1a17</td>\n",
       "      <td>transaction</td>\n",
       "      <td>714</td>\n",
       "      <td>29.75</td>\n",
       "      <td>4.39</td>\n",
       "      <td>0</td>\n",
       "    </tr>\n",
       "    <tr>\n",
       "      <th>306487</th>\n",
       "      <td>3c88696ac23741cb8a709d656fe5ccdf</td>\n",
       "      <td>transaction</td>\n",
       "      <td>714</td>\n",
       "      <td>29.75</td>\n",
       "      <td>25.76</td>\n",
       "      <td>0</td>\n",
       "    </tr>\n",
       "    <tr>\n",
       "      <th>306488</th>\n",
       "      <td>1b24e887d980450497b631d8756128e6</td>\n",
       "      <td>transaction</td>\n",
       "      <td>714</td>\n",
       "      <td>29.75</td>\n",
       "      <td>0.35</td>\n",
       "      <td>0</td>\n",
       "    </tr>\n",
       "    <tr>\n",
       "      <th>306489</th>\n",
       "      <td>1c71315203b746b786c43ce12d7e97fe</td>\n",
       "      <td>transaction</td>\n",
       "      <td>714</td>\n",
       "      <td>29.75</td>\n",
       "      <td>20.84</td>\n",
       "      <td>0</td>\n",
       "    </tr>\n",
       "    <tr>\n",
       "      <th>306490</th>\n",
       "      <td>abc4359eb34e4e2ca2349da2ddf771b6</td>\n",
       "      <td>offer viewed</td>\n",
       "      <td>714</td>\n",
       "      <td>29.75</td>\n",
       "      <td>0.00</td>\n",
       "      <td>3f207df678b143eea3cee63160fa8bed</td>\n",
       "    </tr>\n",
       "    <tr>\n",
       "      <th>306491</th>\n",
       "      <td>693082e8ccf9458a88c428779cf556a6</td>\n",
       "      <td>transaction</td>\n",
       "      <td>714</td>\n",
       "      <td>29.75</td>\n",
       "      <td>2.16</td>\n",
       "      <td>0</td>\n",
       "    </tr>\n",
       "    <tr>\n",
       "      <th>306492</th>\n",
       "      <td>d4f6205a98b4420082aae16e5a93655a</td>\n",
       "      <td>transaction</td>\n",
       "      <td>714</td>\n",
       "      <td>29.75</td>\n",
       "      <td>1.22</td>\n",
       "      <td>0</td>\n",
       "    </tr>\n",
       "    <tr>\n",
       "      <th>306493</th>\n",
       "      <td>7b2939e61c324b2087328c4b6fee2632</td>\n",
       "      <td>transaction</td>\n",
       "      <td>714</td>\n",
       "      <td>29.75</td>\n",
       "      <td>26.41</td>\n",
       "      <td>0</td>\n",
       "    </tr>\n",
       "    <tr>\n",
       "      <th>306494</th>\n",
       "      <td>e110e63527c24ad1b482f76acde24a42</td>\n",
       "      <td>transaction</td>\n",
       "      <td>714</td>\n",
       "      <td>29.75</td>\n",
       "      <td>20.89</td>\n",
       "      <td>0</td>\n",
       "    </tr>\n",
       "    <tr>\n",
       "      <th>306495</th>\n",
       "      <td>5bc03149267147edbcd6a778742b708b</td>\n",
       "      <td>transaction</td>\n",
       "      <td>714</td>\n",
       "      <td>29.75</td>\n",
       "      <td>32.23</td>\n",
       "      <td>0</td>\n",
       "    </tr>\n",
       "    <tr>\n",
       "      <th>306496</th>\n",
       "      <td>a6f84f4e976f44508c358cc9aba6d2b3</td>\n",
       "      <td>transaction</td>\n",
       "      <td>714</td>\n",
       "      <td>29.75</td>\n",
       "      <td>6.49</td>\n",
       "      <td>0</td>\n",
       "    </tr>\n",
       "    <tr>\n",
       "      <th>306497</th>\n",
       "      <td>a6f84f4e976f44508c358cc9aba6d2b3</td>\n",
       "      <td>offer completed</td>\n",
       "      <td>714</td>\n",
       "      <td>29.75</td>\n",
       "      <td>0.00</td>\n",
       "      <td>2298d6c36e964ae4a3e7e9706d1fb8c2</td>\n",
       "    </tr>\n",
       "    <tr>\n",
       "      <th>306498</th>\n",
       "      <td>a62b73003f084ae4ae59c4b0e617f647</td>\n",
       "      <td>transaction</td>\n",
       "      <td>714</td>\n",
       "      <td>29.75</td>\n",
       "      <td>19.03</td>\n",
       "      <td>0</td>\n",
       "    </tr>\n",
       "    <tr>\n",
       "      <th>306499</th>\n",
       "      <td>197a4afbf77245cfa84c0a4659f47c48</td>\n",
       "      <td>transaction</td>\n",
       "      <td>714</td>\n",
       "      <td>29.75</td>\n",
       "      <td>25.65</td>\n",
       "      <td>0</td>\n",
       "    </tr>\n",
       "    <tr>\n",
       "      <th>306500</th>\n",
       "      <td>f0ffaed9279946f1bc29614a234f1ee1</td>\n",
       "      <td>transaction</td>\n",
       "      <td>714</td>\n",
       "      <td>29.75</td>\n",
       "      <td>1.43</td>\n",
       "      <td>0</td>\n",
       "    </tr>\n",
       "    <tr>\n",
       "      <th>306501</th>\n",
       "      <td>93907d06a946424ba630487fe7aeafd1</td>\n",
       "      <td>transaction</td>\n",
       "      <td>714</td>\n",
       "      <td>29.75</td>\n",
       "      <td>28.03</td>\n",
       "      <td>0</td>\n",
       "    </tr>\n",
       "    <tr>\n",
       "      <th>306502</th>\n",
       "      <td>588ceea482344c3ab6845c83aaed4ac0</td>\n",
       "      <td>transaction</td>\n",
       "      <td>714</td>\n",
       "      <td>29.75</td>\n",
       "      <td>1.08</td>\n",
       "      <td>0</td>\n",
       "    </tr>\n",
       "    <tr>\n",
       "      <th>306503</th>\n",
       "      <td>a97208c5be42445d9949e82e0f70f622</td>\n",
       "      <td>transaction</td>\n",
       "      <td>714</td>\n",
       "      <td>29.75</td>\n",
       "      <td>5.80</td>\n",
       "      <td>0</td>\n",
       "    </tr>\n",
       "    <tr>\n",
       "      <th>306504</th>\n",
       "      <td>8524d450673b4c24869b6c94380006de</td>\n",
       "      <td>transaction</td>\n",
       "      <td>714</td>\n",
       "      <td>29.75</td>\n",
       "      <td>4.89</td>\n",
       "      <td>0</td>\n",
       "    </tr>\n",
       "    <tr>\n",
       "      <th>306505</th>\n",
       "      <td>b895c57e8cd047a8872ce02aa54759d6</td>\n",
       "      <td>transaction</td>\n",
       "      <td>714</td>\n",
       "      <td>29.75</td>\n",
       "      <td>4.48</td>\n",
       "      <td>0</td>\n",
       "    </tr>\n",
       "    <tr>\n",
       "      <th>306506</th>\n",
       "      <td>b895c57e8cd047a8872ce02aa54759d6</td>\n",
       "      <td>offer completed</td>\n",
       "      <td>714</td>\n",
       "      <td>29.75</td>\n",
       "      <td>0.00</td>\n",
       "      <td>fafdcd668e3743c1bb461111dcafc2a4</td>\n",
       "    </tr>\n",
       "    <tr>\n",
       "      <th>306507</th>\n",
       "      <td>8dda575c2a1d44b9ac8e8b07b93d1f8e</td>\n",
       "      <td>offer viewed</td>\n",
       "      <td>714</td>\n",
       "      <td>29.75</td>\n",
       "      <td>0.00</td>\n",
       "      <td>0b1e1539f2cc45b7b9fa7c272da2e1d7</td>\n",
       "    </tr>\n",
       "    <tr>\n",
       "      <th>306508</th>\n",
       "      <td>8431c16f8e1d440880db371a68f82dd0</td>\n",
       "      <td>transaction</td>\n",
       "      <td>714</td>\n",
       "      <td>29.75</td>\n",
       "      <td>1.19</td>\n",
       "      <td>0</td>\n",
       "    </tr>\n",
       "    <tr>\n",
       "      <th>306509</th>\n",
       "      <td>8431c16f8e1d440880db371a68f82dd0</td>\n",
       "      <td>offer completed</td>\n",
       "      <td>714</td>\n",
       "      <td>29.75</td>\n",
       "      <td>0.00</td>\n",
       "      <td>fafdcd668e3743c1bb461111dcafc2a4</td>\n",
       "    </tr>\n",
       "    <tr>\n",
       "      <th>306510</th>\n",
       "      <td>ba620885e51c4b0ea64a4f61daad494f</td>\n",
       "      <td>transaction</td>\n",
       "      <td>714</td>\n",
       "      <td>29.75</td>\n",
       "      <td>14.31</td>\n",
       "      <td>0</td>\n",
       "    </tr>\n",
       "    <tr>\n",
       "      <th>306511</th>\n",
       "      <td>a1a8f40407c444cc848468275308958a</td>\n",
       "      <td>transaction</td>\n",
       "      <td>714</td>\n",
       "      <td>29.75</td>\n",
       "      <td>2.37</td>\n",
       "      <td>0</td>\n",
       "    </tr>\n",
       "    <tr>\n",
       "      <th>306512</th>\n",
       "      <td>8d80970192fa496f99d6b45c470a4b60</td>\n",
       "      <td>transaction</td>\n",
       "      <td>714</td>\n",
       "      <td>29.75</td>\n",
       "      <td>6.92</td>\n",
       "      <td>0</td>\n",
       "    </tr>\n",
       "    <tr>\n",
       "      <th>306513</th>\n",
       "      <td>bde275066f3c4fa0bff3093e3b866a2c</td>\n",
       "      <td>transaction</td>\n",
       "      <td>714</td>\n",
       "      <td>29.75</td>\n",
       "      <td>12.73</td>\n",
       "      <td>0</td>\n",
       "    </tr>\n",
       "    <tr>\n",
       "      <th>306514</th>\n",
       "      <td>f1e4fd36e5a0446f83861308bddf6945</td>\n",
       "      <td>transaction</td>\n",
       "      <td>714</td>\n",
       "      <td>29.75</td>\n",
       "      <td>8.20</td>\n",
       "      <td>0</td>\n",
       "    </tr>\n",
       "    <tr>\n",
       "      <th>306515</th>\n",
       "      <td>0b64be3b241c4407a5c9a71781173829</td>\n",
       "      <td>transaction</td>\n",
       "      <td>714</td>\n",
       "      <td>29.75</td>\n",
       "      <td>2.60</td>\n",
       "      <td>0</td>\n",
       "    </tr>\n",
       "    <tr>\n",
       "      <th>306516</th>\n",
       "      <td>86d03d35d7e0434b935e7743e83be3a0</td>\n",
       "      <td>transaction</td>\n",
       "      <td>714</td>\n",
       "      <td>29.75</td>\n",
       "      <td>9.20</td>\n",
       "      <td>0</td>\n",
       "    </tr>\n",
       "    <tr>\n",
       "      <th>306517</th>\n",
       "      <td>3408fd05c781401f8442fb6dbaaea9c7</td>\n",
       "      <td>transaction</td>\n",
       "      <td>714</td>\n",
       "      <td>29.75</td>\n",
       "      <td>11.70</td>\n",
       "      <td>0</td>\n",
       "    </tr>\n",
       "    <tr>\n",
       "      <th>306518</th>\n",
       "      <td>1593d617fac246ef8e50dbb0ffd77f5f</td>\n",
       "      <td>transaction</td>\n",
       "      <td>714</td>\n",
       "      <td>29.75</td>\n",
       "      <td>40.67</td>\n",
       "      <td>0</td>\n",
       "    </tr>\n",
       "    <tr>\n",
       "      <th>306519</th>\n",
       "      <td>f1b31d07b5d84f69a2d5f1d07843989e</td>\n",
       "      <td>transaction</td>\n",
       "      <td>714</td>\n",
       "      <td>29.75</td>\n",
       "      <td>31.13</td>\n",
       "      <td>0</td>\n",
       "    </tr>\n",
       "    <tr>\n",
       "      <th>306520</th>\n",
       "      <td>2ce987015ec0404a97ba333e8e814090</td>\n",
       "      <td>transaction</td>\n",
       "      <td>714</td>\n",
       "      <td>29.75</td>\n",
       "      <td>1.64</td>\n",
       "      <td>0</td>\n",
       "    </tr>\n",
       "    <tr>\n",
       "      <th>306521</th>\n",
       "      <td>2e33545f0a764d27b2ccff95fc8d72c4</td>\n",
       "      <td>transaction</td>\n",
       "      <td>714</td>\n",
       "      <td>29.75</td>\n",
       "      <td>17.35</td>\n",
       "      <td>0</td>\n",
       "    </tr>\n",
       "    <tr>\n",
       "      <th>306522</th>\n",
       "      <td>d1c4500ace2e45e9a45d3cd2fccac8d8</td>\n",
       "      <td>transaction</td>\n",
       "      <td>714</td>\n",
       "      <td>29.75</td>\n",
       "      <td>4.42</td>\n",
       "      <td>0</td>\n",
       "    </tr>\n",
       "    <tr>\n",
       "      <th>306523</th>\n",
       "      <td>b65affd9e07346a1906364a396950e3d</td>\n",
       "      <td>transaction</td>\n",
       "      <td>714</td>\n",
       "      <td>29.75</td>\n",
       "      <td>18.35</td>\n",
       "      <td>0</td>\n",
       "    </tr>\n",
       "    <tr>\n",
       "      <th>306524</th>\n",
       "      <td>d613ca9c59dd42f497bdbf6178da54a7</td>\n",
       "      <td>transaction</td>\n",
       "      <td>714</td>\n",
       "      <td>29.75</td>\n",
       "      <td>25.14</td>\n",
       "      <td>0</td>\n",
       "    </tr>\n",
       "    <tr>\n",
       "      <th>306525</th>\n",
       "      <td>eec70ab28af74a22a4aeb889c0317944</td>\n",
       "      <td>transaction</td>\n",
       "      <td>714</td>\n",
       "      <td>29.75</td>\n",
       "      <td>43.58</td>\n",
       "      <td>0</td>\n",
       "    </tr>\n",
       "    <tr>\n",
       "      <th>306526</th>\n",
       "      <td>24f56b5e1849462093931b164eb803b5</td>\n",
       "      <td>transaction</td>\n",
       "      <td>714</td>\n",
       "      <td>29.75</td>\n",
       "      <td>22.64</td>\n",
       "      <td>0</td>\n",
       "    </tr>\n",
       "    <tr>\n",
       "      <th>306527</th>\n",
       "      <td>24f56b5e1849462093931b164eb803b5</td>\n",
       "      <td>offer completed</td>\n",
       "      <td>714</td>\n",
       "      <td>29.75</td>\n",
       "      <td>0.00</td>\n",
       "      <td>fafdcd668e3743c1bb461111dcafc2a4</td>\n",
       "    </tr>\n",
       "    <tr>\n",
       "      <th>306528</th>\n",
       "      <td>5ca2620962114246ab218fc648eb3934</td>\n",
       "      <td>transaction</td>\n",
       "      <td>714</td>\n",
       "      <td>29.75</td>\n",
       "      <td>2.20</td>\n",
       "      <td>0</td>\n",
       "    </tr>\n",
       "    <tr>\n",
       "      <th>306529</th>\n",
       "      <td>b3a1272bc9904337b331bf348c3e8c17</td>\n",
       "      <td>transaction</td>\n",
       "      <td>714</td>\n",
       "      <td>29.75</td>\n",
       "      <td>1.59</td>\n",
       "      <td>0</td>\n",
       "    </tr>\n",
       "    <tr>\n",
       "      <th>306530</th>\n",
       "      <td>68213b08d99a4ae1b0dcb72aebd9aa35</td>\n",
       "      <td>transaction</td>\n",
       "      <td>714</td>\n",
       "      <td>29.75</td>\n",
       "      <td>9.53</td>\n",
       "      <td>0</td>\n",
       "    </tr>\n",
       "    <tr>\n",
       "      <th>306531</th>\n",
       "      <td>a00058cf10334a308c68e7631c529907</td>\n",
       "      <td>transaction</td>\n",
       "      <td>714</td>\n",
       "      <td>29.75</td>\n",
       "      <td>3.61</td>\n",
       "      <td>0</td>\n",
       "    </tr>\n",
       "    <tr>\n",
       "      <th>306532</th>\n",
       "      <td>76ddbd6576844afe811f1a3c0fbb5bec</td>\n",
       "      <td>transaction</td>\n",
       "      <td>714</td>\n",
       "      <td>29.75</td>\n",
       "      <td>3.53</td>\n",
       "      <td>0</td>\n",
       "    </tr>\n",
       "    <tr>\n",
       "      <th>306533</th>\n",
       "      <td>c02b10e8752c4d8e9b73f918558531f7</td>\n",
       "      <td>transaction</td>\n",
       "      <td>714</td>\n",
       "      <td>29.75</td>\n",
       "      <td>4.05</td>\n",
       "      <td>0</td>\n",
       "    </tr>\n",
       "  </tbody>\n",
       "</table>\n",
       "</div>"
      ],
      "text/plain": [
       "                             customer_id            event  time   days  \\\n",
       "306484  a4c2dd694269444085976f10b9b225f6      transaction   714  29.75   \n",
       "306485  4b59509988d34c7298119a840c946453      transaction   714  29.75   \n",
       "306486  92153f7cdda8486b9a2214ceb11b1a17      transaction   714  29.75   \n",
       "306487  3c88696ac23741cb8a709d656fe5ccdf      transaction   714  29.75   \n",
       "306488  1b24e887d980450497b631d8756128e6      transaction   714  29.75   \n",
       "306489  1c71315203b746b786c43ce12d7e97fe      transaction   714  29.75   \n",
       "306490  abc4359eb34e4e2ca2349da2ddf771b6     offer viewed   714  29.75   \n",
       "306491  693082e8ccf9458a88c428779cf556a6      transaction   714  29.75   \n",
       "306492  d4f6205a98b4420082aae16e5a93655a      transaction   714  29.75   \n",
       "306493  7b2939e61c324b2087328c4b6fee2632      transaction   714  29.75   \n",
       "306494  e110e63527c24ad1b482f76acde24a42      transaction   714  29.75   \n",
       "306495  5bc03149267147edbcd6a778742b708b      transaction   714  29.75   \n",
       "306496  a6f84f4e976f44508c358cc9aba6d2b3      transaction   714  29.75   \n",
       "306497  a6f84f4e976f44508c358cc9aba6d2b3  offer completed   714  29.75   \n",
       "306498  a62b73003f084ae4ae59c4b0e617f647      transaction   714  29.75   \n",
       "306499  197a4afbf77245cfa84c0a4659f47c48      transaction   714  29.75   \n",
       "306500  f0ffaed9279946f1bc29614a234f1ee1      transaction   714  29.75   \n",
       "306501  93907d06a946424ba630487fe7aeafd1      transaction   714  29.75   \n",
       "306502  588ceea482344c3ab6845c83aaed4ac0      transaction   714  29.75   \n",
       "306503  a97208c5be42445d9949e82e0f70f622      transaction   714  29.75   \n",
       "306504  8524d450673b4c24869b6c94380006de      transaction   714  29.75   \n",
       "306505  b895c57e8cd047a8872ce02aa54759d6      transaction   714  29.75   \n",
       "306506  b895c57e8cd047a8872ce02aa54759d6  offer completed   714  29.75   \n",
       "306507  8dda575c2a1d44b9ac8e8b07b93d1f8e     offer viewed   714  29.75   \n",
       "306508  8431c16f8e1d440880db371a68f82dd0      transaction   714  29.75   \n",
       "306509  8431c16f8e1d440880db371a68f82dd0  offer completed   714  29.75   \n",
       "306510  ba620885e51c4b0ea64a4f61daad494f      transaction   714  29.75   \n",
       "306511  a1a8f40407c444cc848468275308958a      transaction   714  29.75   \n",
       "306512  8d80970192fa496f99d6b45c470a4b60      transaction   714  29.75   \n",
       "306513  bde275066f3c4fa0bff3093e3b866a2c      transaction   714  29.75   \n",
       "306514  f1e4fd36e5a0446f83861308bddf6945      transaction   714  29.75   \n",
       "306515  0b64be3b241c4407a5c9a71781173829      transaction   714  29.75   \n",
       "306516  86d03d35d7e0434b935e7743e83be3a0      transaction   714  29.75   \n",
       "306517  3408fd05c781401f8442fb6dbaaea9c7      transaction   714  29.75   \n",
       "306518  1593d617fac246ef8e50dbb0ffd77f5f      transaction   714  29.75   \n",
       "306519  f1b31d07b5d84f69a2d5f1d07843989e      transaction   714  29.75   \n",
       "306520  2ce987015ec0404a97ba333e8e814090      transaction   714  29.75   \n",
       "306521  2e33545f0a764d27b2ccff95fc8d72c4      transaction   714  29.75   \n",
       "306522  d1c4500ace2e45e9a45d3cd2fccac8d8      transaction   714  29.75   \n",
       "306523  b65affd9e07346a1906364a396950e3d      transaction   714  29.75   \n",
       "306524  d613ca9c59dd42f497bdbf6178da54a7      transaction   714  29.75   \n",
       "306525  eec70ab28af74a22a4aeb889c0317944      transaction   714  29.75   \n",
       "306526  24f56b5e1849462093931b164eb803b5      transaction   714  29.75   \n",
       "306527  24f56b5e1849462093931b164eb803b5  offer completed   714  29.75   \n",
       "306528  5ca2620962114246ab218fc648eb3934      transaction   714  29.75   \n",
       "306529  b3a1272bc9904337b331bf348c3e8c17      transaction   714  29.75   \n",
       "306530  68213b08d99a4ae1b0dcb72aebd9aa35      transaction   714  29.75   \n",
       "306531  a00058cf10334a308c68e7631c529907      transaction   714  29.75   \n",
       "306532  76ddbd6576844afe811f1a3c0fbb5bec      transaction   714  29.75   \n",
       "306533  c02b10e8752c4d8e9b73f918558531f7      transaction   714  29.75   \n",
       "\n",
       "        amount                          offer_id  \n",
       "306484   28.58                                 0  \n",
       "306485    0.06                                 0  \n",
       "306486    4.39                                 0  \n",
       "306487   25.76                                 0  \n",
       "306488    0.35                                 0  \n",
       "306489   20.84                                 0  \n",
       "306490    0.00  3f207df678b143eea3cee63160fa8bed  \n",
       "306491    2.16                                 0  \n",
       "306492    1.22                                 0  \n",
       "306493   26.41                                 0  \n",
       "306494   20.89                                 0  \n",
       "306495   32.23                                 0  \n",
       "306496    6.49                                 0  \n",
       "306497    0.00  2298d6c36e964ae4a3e7e9706d1fb8c2  \n",
       "306498   19.03                                 0  \n",
       "306499   25.65                                 0  \n",
       "306500    1.43                                 0  \n",
       "306501   28.03                                 0  \n",
       "306502    1.08                                 0  \n",
       "306503    5.80                                 0  \n",
       "306504    4.89                                 0  \n",
       "306505    4.48                                 0  \n",
       "306506    0.00  fafdcd668e3743c1bb461111dcafc2a4  \n",
       "306507    0.00  0b1e1539f2cc45b7b9fa7c272da2e1d7  \n",
       "306508    1.19                                 0  \n",
       "306509    0.00  fafdcd668e3743c1bb461111dcafc2a4  \n",
       "306510   14.31                                 0  \n",
       "306511    2.37                                 0  \n",
       "306512    6.92                                 0  \n",
       "306513   12.73                                 0  \n",
       "306514    8.20                                 0  \n",
       "306515    2.60                                 0  \n",
       "306516    9.20                                 0  \n",
       "306517   11.70                                 0  \n",
       "306518   40.67                                 0  \n",
       "306519   31.13                                 0  \n",
       "306520    1.64                                 0  \n",
       "306521   17.35                                 0  \n",
       "306522    4.42                                 0  \n",
       "306523   18.35                                 0  \n",
       "306524   25.14                                 0  \n",
       "306525   43.58                                 0  \n",
       "306526   22.64                                 0  \n",
       "306527    0.00  fafdcd668e3743c1bb461111dcafc2a4  \n",
       "306528    2.20                                 0  \n",
       "306529    1.59                                 0  \n",
       "306530    9.53                                 0  \n",
       "306531    3.61                                 0  \n",
       "306532    3.53                                 0  \n",
       "306533    4.05                                 0  "
      ]
     },
     "execution_count": 56,
     "metadata": {},
     "output_type": "execute_result"
    }
   ],
   "source": [
    "transcript.tail(50)"
   ]
  },
  {
   "cell_type": "code",
   "execution_count": 57,
   "metadata": {
    "ExecuteTime": {
     "end_time": "2021-08-19T13:57:08.335420Z",
     "start_time": "2021-08-19T13:57:07.891864Z"
    }
   },
   "outputs": [
    {
     "name": "stdout",
     "output_type": "stream",
     "text": [
      "▬▬▬▬▬▬▬▬▬▬▬▬▬▬▬▬▬▬▬▬▬▬▬▬▬ Code: split event column ▬▬▬▬▬▬▬▬▬▬▬▬▬▬▬▬▬▬▬▬ \n",
      "\n",
      "Celebration: your job completed 🎉🎉🎉🎉🎉🎉🎉🎉🎉🎉🎉🎉🎉🎉🎉🎉🎉🎉🎉🎉🎉🎉🎉🎉🎉 \n",
      "\n",
      "▬▬▬▬▬▬▬▬▬▬▬▬▬▬▬▬▬▬▬▬▬▬▬▬▬ Test: split event column ▬▬▬▬▬▬▬▬▬▬▬▬▬▬▬▬▬▬▬▬ \n",
      "\n"
     ]
    },
    {
     "data": {
      "text/html": [
       "<div>\n",
       "<style scoped>\n",
       "    .dataframe tbody tr th:only-of-type {\n",
       "        vertical-align: middle;\n",
       "    }\n",
       "\n",
       "    .dataframe tbody tr th {\n",
       "        vertical-align: top;\n",
       "    }\n",
       "\n",
       "    .dataframe thead th {\n",
       "        text-align: right;\n",
       "    }\n",
       "</style>\n",
       "<table border=\"1\" class=\"dataframe\">\n",
       "  <thead>\n",
       "    <tr style=\"text-align: right;\">\n",
       "      <th></th>\n",
       "      <th>customer_id</th>\n",
       "      <th>event</th>\n",
       "      <th>time</th>\n",
       "      <th>days</th>\n",
       "      <th>amount</th>\n",
       "      <th>offer_id</th>\n",
       "      <th>offer received</th>\n",
       "      <th>offer viewed</th>\n",
       "      <th>transaction</th>\n",
       "      <th>offer completed</th>\n",
       "    </tr>\n",
       "  </thead>\n",
       "  <tbody>\n",
       "    <tr>\n",
       "      <th>306484</th>\n",
       "      <td>a4c2dd694269444085976f10b9b225f6</td>\n",
       "      <td>transaction</td>\n",
       "      <td>714</td>\n",
       "      <td>29.75</td>\n",
       "      <td>28.58</td>\n",
       "      <td>0</td>\n",
       "      <td>0</td>\n",
       "      <td>0</td>\n",
       "      <td>1</td>\n",
       "      <td>0</td>\n",
       "    </tr>\n",
       "    <tr>\n",
       "      <th>306485</th>\n",
       "      <td>4b59509988d34c7298119a840c946453</td>\n",
       "      <td>transaction</td>\n",
       "      <td>714</td>\n",
       "      <td>29.75</td>\n",
       "      <td>0.06</td>\n",
       "      <td>0</td>\n",
       "      <td>0</td>\n",
       "      <td>0</td>\n",
       "      <td>1</td>\n",
       "      <td>0</td>\n",
       "    </tr>\n",
       "    <tr>\n",
       "      <th>306486</th>\n",
       "      <td>92153f7cdda8486b9a2214ceb11b1a17</td>\n",
       "      <td>transaction</td>\n",
       "      <td>714</td>\n",
       "      <td>29.75</td>\n",
       "      <td>4.39</td>\n",
       "      <td>0</td>\n",
       "      <td>0</td>\n",
       "      <td>0</td>\n",
       "      <td>1</td>\n",
       "      <td>0</td>\n",
       "    </tr>\n",
       "    <tr>\n",
       "      <th>306487</th>\n",
       "      <td>3c88696ac23741cb8a709d656fe5ccdf</td>\n",
       "      <td>transaction</td>\n",
       "      <td>714</td>\n",
       "      <td>29.75</td>\n",
       "      <td>25.76</td>\n",
       "      <td>0</td>\n",
       "      <td>0</td>\n",
       "      <td>0</td>\n",
       "      <td>1</td>\n",
       "      <td>0</td>\n",
       "    </tr>\n",
       "    <tr>\n",
       "      <th>306488</th>\n",
       "      <td>1b24e887d980450497b631d8756128e6</td>\n",
       "      <td>transaction</td>\n",
       "      <td>714</td>\n",
       "      <td>29.75</td>\n",
       "      <td>0.35</td>\n",
       "      <td>0</td>\n",
       "      <td>0</td>\n",
       "      <td>0</td>\n",
       "      <td>1</td>\n",
       "      <td>0</td>\n",
       "    </tr>\n",
       "    <tr>\n",
       "      <th>306489</th>\n",
       "      <td>1c71315203b746b786c43ce12d7e97fe</td>\n",
       "      <td>transaction</td>\n",
       "      <td>714</td>\n",
       "      <td>29.75</td>\n",
       "      <td>20.84</td>\n",
       "      <td>0</td>\n",
       "      <td>0</td>\n",
       "      <td>0</td>\n",
       "      <td>1</td>\n",
       "      <td>0</td>\n",
       "    </tr>\n",
       "    <tr>\n",
       "      <th>306490</th>\n",
       "      <td>abc4359eb34e4e2ca2349da2ddf771b6</td>\n",
       "      <td>offer viewed</td>\n",
       "      <td>714</td>\n",
       "      <td>29.75</td>\n",
       "      <td>0.00</td>\n",
       "      <td>3f207df678b143eea3cee63160fa8bed</td>\n",
       "      <td>0</td>\n",
       "      <td>1</td>\n",
       "      <td>0</td>\n",
       "      <td>0</td>\n",
       "    </tr>\n",
       "    <tr>\n",
       "      <th>306491</th>\n",
       "      <td>693082e8ccf9458a88c428779cf556a6</td>\n",
       "      <td>transaction</td>\n",
       "      <td>714</td>\n",
       "      <td>29.75</td>\n",
       "      <td>2.16</td>\n",
       "      <td>0</td>\n",
       "      <td>0</td>\n",
       "      <td>0</td>\n",
       "      <td>1</td>\n",
       "      <td>0</td>\n",
       "    </tr>\n",
       "    <tr>\n",
       "      <th>306492</th>\n",
       "      <td>d4f6205a98b4420082aae16e5a93655a</td>\n",
       "      <td>transaction</td>\n",
       "      <td>714</td>\n",
       "      <td>29.75</td>\n",
       "      <td>1.22</td>\n",
       "      <td>0</td>\n",
       "      <td>0</td>\n",
       "      <td>0</td>\n",
       "      <td>1</td>\n",
       "      <td>0</td>\n",
       "    </tr>\n",
       "    <tr>\n",
       "      <th>306493</th>\n",
       "      <td>7b2939e61c324b2087328c4b6fee2632</td>\n",
       "      <td>transaction</td>\n",
       "      <td>714</td>\n",
       "      <td>29.75</td>\n",
       "      <td>26.41</td>\n",
       "      <td>0</td>\n",
       "      <td>0</td>\n",
       "      <td>0</td>\n",
       "      <td>1</td>\n",
       "      <td>0</td>\n",
       "    </tr>\n",
       "    <tr>\n",
       "      <th>306494</th>\n",
       "      <td>e110e63527c24ad1b482f76acde24a42</td>\n",
       "      <td>transaction</td>\n",
       "      <td>714</td>\n",
       "      <td>29.75</td>\n",
       "      <td>20.89</td>\n",
       "      <td>0</td>\n",
       "      <td>0</td>\n",
       "      <td>0</td>\n",
       "      <td>1</td>\n",
       "      <td>0</td>\n",
       "    </tr>\n",
       "    <tr>\n",
       "      <th>306495</th>\n",
       "      <td>5bc03149267147edbcd6a778742b708b</td>\n",
       "      <td>transaction</td>\n",
       "      <td>714</td>\n",
       "      <td>29.75</td>\n",
       "      <td>32.23</td>\n",
       "      <td>0</td>\n",
       "      <td>0</td>\n",
       "      <td>0</td>\n",
       "      <td>1</td>\n",
       "      <td>0</td>\n",
       "    </tr>\n",
       "    <tr>\n",
       "      <th>306496</th>\n",
       "      <td>a6f84f4e976f44508c358cc9aba6d2b3</td>\n",
       "      <td>transaction</td>\n",
       "      <td>714</td>\n",
       "      <td>29.75</td>\n",
       "      <td>6.49</td>\n",
       "      <td>0</td>\n",
       "      <td>0</td>\n",
       "      <td>0</td>\n",
       "      <td>1</td>\n",
       "      <td>0</td>\n",
       "    </tr>\n",
       "    <tr>\n",
       "      <th>306497</th>\n",
       "      <td>a6f84f4e976f44508c358cc9aba6d2b3</td>\n",
       "      <td>offer completed</td>\n",
       "      <td>714</td>\n",
       "      <td>29.75</td>\n",
       "      <td>0.00</td>\n",
       "      <td>2298d6c36e964ae4a3e7e9706d1fb8c2</td>\n",
       "      <td>0</td>\n",
       "      <td>0</td>\n",
       "      <td>0</td>\n",
       "      <td>1</td>\n",
       "    </tr>\n",
       "    <tr>\n",
       "      <th>306498</th>\n",
       "      <td>a62b73003f084ae4ae59c4b0e617f647</td>\n",
       "      <td>transaction</td>\n",
       "      <td>714</td>\n",
       "      <td>29.75</td>\n",
       "      <td>19.03</td>\n",
       "      <td>0</td>\n",
       "      <td>0</td>\n",
       "      <td>0</td>\n",
       "      <td>1</td>\n",
       "      <td>0</td>\n",
       "    </tr>\n",
       "    <tr>\n",
       "      <th>306499</th>\n",
       "      <td>197a4afbf77245cfa84c0a4659f47c48</td>\n",
       "      <td>transaction</td>\n",
       "      <td>714</td>\n",
       "      <td>29.75</td>\n",
       "      <td>25.65</td>\n",
       "      <td>0</td>\n",
       "      <td>0</td>\n",
       "      <td>0</td>\n",
       "      <td>1</td>\n",
       "      <td>0</td>\n",
       "    </tr>\n",
       "    <tr>\n",
       "      <th>306500</th>\n",
       "      <td>f0ffaed9279946f1bc29614a234f1ee1</td>\n",
       "      <td>transaction</td>\n",
       "      <td>714</td>\n",
       "      <td>29.75</td>\n",
       "      <td>1.43</td>\n",
       "      <td>0</td>\n",
       "      <td>0</td>\n",
       "      <td>0</td>\n",
       "      <td>1</td>\n",
       "      <td>0</td>\n",
       "    </tr>\n",
       "    <tr>\n",
       "      <th>306501</th>\n",
       "      <td>93907d06a946424ba630487fe7aeafd1</td>\n",
       "      <td>transaction</td>\n",
       "      <td>714</td>\n",
       "      <td>29.75</td>\n",
       "      <td>28.03</td>\n",
       "      <td>0</td>\n",
       "      <td>0</td>\n",
       "      <td>0</td>\n",
       "      <td>1</td>\n",
       "      <td>0</td>\n",
       "    </tr>\n",
       "    <tr>\n",
       "      <th>306502</th>\n",
       "      <td>588ceea482344c3ab6845c83aaed4ac0</td>\n",
       "      <td>transaction</td>\n",
       "      <td>714</td>\n",
       "      <td>29.75</td>\n",
       "      <td>1.08</td>\n",
       "      <td>0</td>\n",
       "      <td>0</td>\n",
       "      <td>0</td>\n",
       "      <td>1</td>\n",
       "      <td>0</td>\n",
       "    </tr>\n",
       "    <tr>\n",
       "      <th>306503</th>\n",
       "      <td>a97208c5be42445d9949e82e0f70f622</td>\n",
       "      <td>transaction</td>\n",
       "      <td>714</td>\n",
       "      <td>29.75</td>\n",
       "      <td>5.80</td>\n",
       "      <td>0</td>\n",
       "      <td>0</td>\n",
       "      <td>0</td>\n",
       "      <td>1</td>\n",
       "      <td>0</td>\n",
       "    </tr>\n",
       "    <tr>\n",
       "      <th>306504</th>\n",
       "      <td>8524d450673b4c24869b6c94380006de</td>\n",
       "      <td>transaction</td>\n",
       "      <td>714</td>\n",
       "      <td>29.75</td>\n",
       "      <td>4.89</td>\n",
       "      <td>0</td>\n",
       "      <td>0</td>\n",
       "      <td>0</td>\n",
       "      <td>1</td>\n",
       "      <td>0</td>\n",
       "    </tr>\n",
       "    <tr>\n",
       "      <th>306505</th>\n",
       "      <td>b895c57e8cd047a8872ce02aa54759d6</td>\n",
       "      <td>transaction</td>\n",
       "      <td>714</td>\n",
       "      <td>29.75</td>\n",
       "      <td>4.48</td>\n",
       "      <td>0</td>\n",
       "      <td>0</td>\n",
       "      <td>0</td>\n",
       "      <td>1</td>\n",
       "      <td>0</td>\n",
       "    </tr>\n",
       "    <tr>\n",
       "      <th>306506</th>\n",
       "      <td>b895c57e8cd047a8872ce02aa54759d6</td>\n",
       "      <td>offer completed</td>\n",
       "      <td>714</td>\n",
       "      <td>29.75</td>\n",
       "      <td>0.00</td>\n",
       "      <td>fafdcd668e3743c1bb461111dcafc2a4</td>\n",
       "      <td>0</td>\n",
       "      <td>0</td>\n",
       "      <td>0</td>\n",
       "      <td>1</td>\n",
       "    </tr>\n",
       "    <tr>\n",
       "      <th>306507</th>\n",
       "      <td>8dda575c2a1d44b9ac8e8b07b93d1f8e</td>\n",
       "      <td>offer viewed</td>\n",
       "      <td>714</td>\n",
       "      <td>29.75</td>\n",
       "      <td>0.00</td>\n",
       "      <td>0b1e1539f2cc45b7b9fa7c272da2e1d7</td>\n",
       "      <td>0</td>\n",
       "      <td>1</td>\n",
       "      <td>0</td>\n",
       "      <td>0</td>\n",
       "    </tr>\n",
       "    <tr>\n",
       "      <th>306508</th>\n",
       "      <td>8431c16f8e1d440880db371a68f82dd0</td>\n",
       "      <td>transaction</td>\n",
       "      <td>714</td>\n",
       "      <td>29.75</td>\n",
       "      <td>1.19</td>\n",
       "      <td>0</td>\n",
       "      <td>0</td>\n",
       "      <td>0</td>\n",
       "      <td>1</td>\n",
       "      <td>0</td>\n",
       "    </tr>\n",
       "    <tr>\n",
       "      <th>306509</th>\n",
       "      <td>8431c16f8e1d440880db371a68f82dd0</td>\n",
       "      <td>offer completed</td>\n",
       "      <td>714</td>\n",
       "      <td>29.75</td>\n",
       "      <td>0.00</td>\n",
       "      <td>fafdcd668e3743c1bb461111dcafc2a4</td>\n",
       "      <td>0</td>\n",
       "      <td>0</td>\n",
       "      <td>0</td>\n",
       "      <td>1</td>\n",
       "    </tr>\n",
       "    <tr>\n",
       "      <th>306510</th>\n",
       "      <td>ba620885e51c4b0ea64a4f61daad494f</td>\n",
       "      <td>transaction</td>\n",
       "      <td>714</td>\n",
       "      <td>29.75</td>\n",
       "      <td>14.31</td>\n",
       "      <td>0</td>\n",
       "      <td>0</td>\n",
       "      <td>0</td>\n",
       "      <td>1</td>\n",
       "      <td>0</td>\n",
       "    </tr>\n",
       "    <tr>\n",
       "      <th>306511</th>\n",
       "      <td>a1a8f40407c444cc848468275308958a</td>\n",
       "      <td>transaction</td>\n",
       "      <td>714</td>\n",
       "      <td>29.75</td>\n",
       "      <td>2.37</td>\n",
       "      <td>0</td>\n",
       "      <td>0</td>\n",
       "      <td>0</td>\n",
       "      <td>1</td>\n",
       "      <td>0</td>\n",
       "    </tr>\n",
       "    <tr>\n",
       "      <th>306512</th>\n",
       "      <td>8d80970192fa496f99d6b45c470a4b60</td>\n",
       "      <td>transaction</td>\n",
       "      <td>714</td>\n",
       "      <td>29.75</td>\n",
       "      <td>6.92</td>\n",
       "      <td>0</td>\n",
       "      <td>0</td>\n",
       "      <td>0</td>\n",
       "      <td>1</td>\n",
       "      <td>0</td>\n",
       "    </tr>\n",
       "    <tr>\n",
       "      <th>306513</th>\n",
       "      <td>bde275066f3c4fa0bff3093e3b866a2c</td>\n",
       "      <td>transaction</td>\n",
       "      <td>714</td>\n",
       "      <td>29.75</td>\n",
       "      <td>12.73</td>\n",
       "      <td>0</td>\n",
       "      <td>0</td>\n",
       "      <td>0</td>\n",
       "      <td>1</td>\n",
       "      <td>0</td>\n",
       "    </tr>\n",
       "    <tr>\n",
       "      <th>306514</th>\n",
       "      <td>f1e4fd36e5a0446f83861308bddf6945</td>\n",
       "      <td>transaction</td>\n",
       "      <td>714</td>\n",
       "      <td>29.75</td>\n",
       "      <td>8.20</td>\n",
       "      <td>0</td>\n",
       "      <td>0</td>\n",
       "      <td>0</td>\n",
       "      <td>1</td>\n",
       "      <td>0</td>\n",
       "    </tr>\n",
       "    <tr>\n",
       "      <th>306515</th>\n",
       "      <td>0b64be3b241c4407a5c9a71781173829</td>\n",
       "      <td>transaction</td>\n",
       "      <td>714</td>\n",
       "      <td>29.75</td>\n",
       "      <td>2.60</td>\n",
       "      <td>0</td>\n",
       "      <td>0</td>\n",
       "      <td>0</td>\n",
       "      <td>1</td>\n",
       "      <td>0</td>\n",
       "    </tr>\n",
       "    <tr>\n",
       "      <th>306516</th>\n",
       "      <td>86d03d35d7e0434b935e7743e83be3a0</td>\n",
       "      <td>transaction</td>\n",
       "      <td>714</td>\n",
       "      <td>29.75</td>\n",
       "      <td>9.20</td>\n",
       "      <td>0</td>\n",
       "      <td>0</td>\n",
       "      <td>0</td>\n",
       "      <td>1</td>\n",
       "      <td>0</td>\n",
       "    </tr>\n",
       "    <tr>\n",
       "      <th>306517</th>\n",
       "      <td>3408fd05c781401f8442fb6dbaaea9c7</td>\n",
       "      <td>transaction</td>\n",
       "      <td>714</td>\n",
       "      <td>29.75</td>\n",
       "      <td>11.70</td>\n",
       "      <td>0</td>\n",
       "      <td>0</td>\n",
       "      <td>0</td>\n",
       "      <td>1</td>\n",
       "      <td>0</td>\n",
       "    </tr>\n",
       "    <tr>\n",
       "      <th>306518</th>\n",
       "      <td>1593d617fac246ef8e50dbb0ffd77f5f</td>\n",
       "      <td>transaction</td>\n",
       "      <td>714</td>\n",
       "      <td>29.75</td>\n",
       "      <td>40.67</td>\n",
       "      <td>0</td>\n",
       "      <td>0</td>\n",
       "      <td>0</td>\n",
       "      <td>1</td>\n",
       "      <td>0</td>\n",
       "    </tr>\n",
       "    <tr>\n",
       "      <th>306519</th>\n",
       "      <td>f1b31d07b5d84f69a2d5f1d07843989e</td>\n",
       "      <td>transaction</td>\n",
       "      <td>714</td>\n",
       "      <td>29.75</td>\n",
       "      <td>31.13</td>\n",
       "      <td>0</td>\n",
       "      <td>0</td>\n",
       "      <td>0</td>\n",
       "      <td>1</td>\n",
       "      <td>0</td>\n",
       "    </tr>\n",
       "    <tr>\n",
       "      <th>306520</th>\n",
       "      <td>2ce987015ec0404a97ba333e8e814090</td>\n",
       "      <td>transaction</td>\n",
       "      <td>714</td>\n",
       "      <td>29.75</td>\n",
       "      <td>1.64</td>\n",
       "      <td>0</td>\n",
       "      <td>0</td>\n",
       "      <td>0</td>\n",
       "      <td>1</td>\n",
       "      <td>0</td>\n",
       "    </tr>\n",
       "    <tr>\n",
       "      <th>306521</th>\n",
       "      <td>2e33545f0a764d27b2ccff95fc8d72c4</td>\n",
       "      <td>transaction</td>\n",
       "      <td>714</td>\n",
       "      <td>29.75</td>\n",
       "      <td>17.35</td>\n",
       "      <td>0</td>\n",
       "      <td>0</td>\n",
       "      <td>0</td>\n",
       "      <td>1</td>\n",
       "      <td>0</td>\n",
       "    </tr>\n",
       "    <tr>\n",
       "      <th>306522</th>\n",
       "      <td>d1c4500ace2e45e9a45d3cd2fccac8d8</td>\n",
       "      <td>transaction</td>\n",
       "      <td>714</td>\n",
       "      <td>29.75</td>\n",
       "      <td>4.42</td>\n",
       "      <td>0</td>\n",
       "      <td>0</td>\n",
       "      <td>0</td>\n",
       "      <td>1</td>\n",
       "      <td>0</td>\n",
       "    </tr>\n",
       "    <tr>\n",
       "      <th>306523</th>\n",
       "      <td>b65affd9e07346a1906364a396950e3d</td>\n",
       "      <td>transaction</td>\n",
       "      <td>714</td>\n",
       "      <td>29.75</td>\n",
       "      <td>18.35</td>\n",
       "      <td>0</td>\n",
       "      <td>0</td>\n",
       "      <td>0</td>\n",
       "      <td>1</td>\n",
       "      <td>0</td>\n",
       "    </tr>\n",
       "    <tr>\n",
       "      <th>306524</th>\n",
       "      <td>d613ca9c59dd42f497bdbf6178da54a7</td>\n",
       "      <td>transaction</td>\n",
       "      <td>714</td>\n",
       "      <td>29.75</td>\n",
       "      <td>25.14</td>\n",
       "      <td>0</td>\n",
       "      <td>0</td>\n",
       "      <td>0</td>\n",
       "      <td>1</td>\n",
       "      <td>0</td>\n",
       "    </tr>\n",
       "    <tr>\n",
       "      <th>306525</th>\n",
       "      <td>eec70ab28af74a22a4aeb889c0317944</td>\n",
       "      <td>transaction</td>\n",
       "      <td>714</td>\n",
       "      <td>29.75</td>\n",
       "      <td>43.58</td>\n",
       "      <td>0</td>\n",
       "      <td>0</td>\n",
       "      <td>0</td>\n",
       "      <td>1</td>\n",
       "      <td>0</td>\n",
       "    </tr>\n",
       "    <tr>\n",
       "      <th>306526</th>\n",
       "      <td>24f56b5e1849462093931b164eb803b5</td>\n",
       "      <td>transaction</td>\n",
       "      <td>714</td>\n",
       "      <td>29.75</td>\n",
       "      <td>22.64</td>\n",
       "      <td>0</td>\n",
       "      <td>0</td>\n",
       "      <td>0</td>\n",
       "      <td>1</td>\n",
       "      <td>0</td>\n",
       "    </tr>\n",
       "    <tr>\n",
       "      <th>306527</th>\n",
       "      <td>24f56b5e1849462093931b164eb803b5</td>\n",
       "      <td>offer completed</td>\n",
       "      <td>714</td>\n",
       "      <td>29.75</td>\n",
       "      <td>0.00</td>\n",
       "      <td>fafdcd668e3743c1bb461111dcafc2a4</td>\n",
       "      <td>0</td>\n",
       "      <td>0</td>\n",
       "      <td>0</td>\n",
       "      <td>1</td>\n",
       "    </tr>\n",
       "    <tr>\n",
       "      <th>306528</th>\n",
       "      <td>5ca2620962114246ab218fc648eb3934</td>\n",
       "      <td>transaction</td>\n",
       "      <td>714</td>\n",
       "      <td>29.75</td>\n",
       "      <td>2.20</td>\n",
       "      <td>0</td>\n",
       "      <td>0</td>\n",
       "      <td>0</td>\n",
       "      <td>1</td>\n",
       "      <td>0</td>\n",
       "    </tr>\n",
       "    <tr>\n",
       "      <th>306529</th>\n",
       "      <td>b3a1272bc9904337b331bf348c3e8c17</td>\n",
       "      <td>transaction</td>\n",
       "      <td>714</td>\n",
       "      <td>29.75</td>\n",
       "      <td>1.59</td>\n",
       "      <td>0</td>\n",
       "      <td>0</td>\n",
       "      <td>0</td>\n",
       "      <td>1</td>\n",
       "      <td>0</td>\n",
       "    </tr>\n",
       "    <tr>\n",
       "      <th>306530</th>\n",
       "      <td>68213b08d99a4ae1b0dcb72aebd9aa35</td>\n",
       "      <td>transaction</td>\n",
       "      <td>714</td>\n",
       "      <td>29.75</td>\n",
       "      <td>9.53</td>\n",
       "      <td>0</td>\n",
       "      <td>0</td>\n",
       "      <td>0</td>\n",
       "      <td>1</td>\n",
       "      <td>0</td>\n",
       "    </tr>\n",
       "    <tr>\n",
       "      <th>306531</th>\n",
       "      <td>a00058cf10334a308c68e7631c529907</td>\n",
       "      <td>transaction</td>\n",
       "      <td>714</td>\n",
       "      <td>29.75</td>\n",
       "      <td>3.61</td>\n",
       "      <td>0</td>\n",
       "      <td>0</td>\n",
       "      <td>0</td>\n",
       "      <td>1</td>\n",
       "      <td>0</td>\n",
       "    </tr>\n",
       "    <tr>\n",
       "      <th>306532</th>\n",
       "      <td>76ddbd6576844afe811f1a3c0fbb5bec</td>\n",
       "      <td>transaction</td>\n",
       "      <td>714</td>\n",
       "      <td>29.75</td>\n",
       "      <td>3.53</td>\n",
       "      <td>0</td>\n",
       "      <td>0</td>\n",
       "      <td>0</td>\n",
       "      <td>1</td>\n",
       "      <td>0</td>\n",
       "    </tr>\n",
       "    <tr>\n",
       "      <th>306533</th>\n",
       "      <td>c02b10e8752c4d8e9b73f918558531f7</td>\n",
       "      <td>transaction</td>\n",
       "      <td>714</td>\n",
       "      <td>29.75</td>\n",
       "      <td>4.05</td>\n",
       "      <td>0</td>\n",
       "      <td>0</td>\n",
       "      <td>0</td>\n",
       "      <td>1</td>\n",
       "      <td>0</td>\n",
       "    </tr>\n",
       "  </tbody>\n",
       "</table>\n",
       "</div>"
      ],
      "text/plain": [
       "                             customer_id            event  time   days  \\\n",
       "306484  a4c2dd694269444085976f10b9b225f6      transaction   714  29.75   \n",
       "306485  4b59509988d34c7298119a840c946453      transaction   714  29.75   \n",
       "306486  92153f7cdda8486b9a2214ceb11b1a17      transaction   714  29.75   \n",
       "306487  3c88696ac23741cb8a709d656fe5ccdf      transaction   714  29.75   \n",
       "306488  1b24e887d980450497b631d8756128e6      transaction   714  29.75   \n",
       "306489  1c71315203b746b786c43ce12d7e97fe      transaction   714  29.75   \n",
       "306490  abc4359eb34e4e2ca2349da2ddf771b6     offer viewed   714  29.75   \n",
       "306491  693082e8ccf9458a88c428779cf556a6      transaction   714  29.75   \n",
       "306492  d4f6205a98b4420082aae16e5a93655a      transaction   714  29.75   \n",
       "306493  7b2939e61c324b2087328c4b6fee2632      transaction   714  29.75   \n",
       "306494  e110e63527c24ad1b482f76acde24a42      transaction   714  29.75   \n",
       "306495  5bc03149267147edbcd6a778742b708b      transaction   714  29.75   \n",
       "306496  a6f84f4e976f44508c358cc9aba6d2b3      transaction   714  29.75   \n",
       "306497  a6f84f4e976f44508c358cc9aba6d2b3  offer completed   714  29.75   \n",
       "306498  a62b73003f084ae4ae59c4b0e617f647      transaction   714  29.75   \n",
       "306499  197a4afbf77245cfa84c0a4659f47c48      transaction   714  29.75   \n",
       "306500  f0ffaed9279946f1bc29614a234f1ee1      transaction   714  29.75   \n",
       "306501  93907d06a946424ba630487fe7aeafd1      transaction   714  29.75   \n",
       "306502  588ceea482344c3ab6845c83aaed4ac0      transaction   714  29.75   \n",
       "306503  a97208c5be42445d9949e82e0f70f622      transaction   714  29.75   \n",
       "306504  8524d450673b4c24869b6c94380006de      transaction   714  29.75   \n",
       "306505  b895c57e8cd047a8872ce02aa54759d6      transaction   714  29.75   \n",
       "306506  b895c57e8cd047a8872ce02aa54759d6  offer completed   714  29.75   \n",
       "306507  8dda575c2a1d44b9ac8e8b07b93d1f8e     offer viewed   714  29.75   \n",
       "306508  8431c16f8e1d440880db371a68f82dd0      transaction   714  29.75   \n",
       "306509  8431c16f8e1d440880db371a68f82dd0  offer completed   714  29.75   \n",
       "306510  ba620885e51c4b0ea64a4f61daad494f      transaction   714  29.75   \n",
       "306511  a1a8f40407c444cc848468275308958a      transaction   714  29.75   \n",
       "306512  8d80970192fa496f99d6b45c470a4b60      transaction   714  29.75   \n",
       "306513  bde275066f3c4fa0bff3093e3b866a2c      transaction   714  29.75   \n",
       "306514  f1e4fd36e5a0446f83861308bddf6945      transaction   714  29.75   \n",
       "306515  0b64be3b241c4407a5c9a71781173829      transaction   714  29.75   \n",
       "306516  86d03d35d7e0434b935e7743e83be3a0      transaction   714  29.75   \n",
       "306517  3408fd05c781401f8442fb6dbaaea9c7      transaction   714  29.75   \n",
       "306518  1593d617fac246ef8e50dbb0ffd77f5f      transaction   714  29.75   \n",
       "306519  f1b31d07b5d84f69a2d5f1d07843989e      transaction   714  29.75   \n",
       "306520  2ce987015ec0404a97ba333e8e814090      transaction   714  29.75   \n",
       "306521  2e33545f0a764d27b2ccff95fc8d72c4      transaction   714  29.75   \n",
       "306522  d1c4500ace2e45e9a45d3cd2fccac8d8      transaction   714  29.75   \n",
       "306523  b65affd9e07346a1906364a396950e3d      transaction   714  29.75   \n",
       "306524  d613ca9c59dd42f497bdbf6178da54a7      transaction   714  29.75   \n",
       "306525  eec70ab28af74a22a4aeb889c0317944      transaction   714  29.75   \n",
       "306526  24f56b5e1849462093931b164eb803b5      transaction   714  29.75   \n",
       "306527  24f56b5e1849462093931b164eb803b5  offer completed   714  29.75   \n",
       "306528  5ca2620962114246ab218fc648eb3934      transaction   714  29.75   \n",
       "306529  b3a1272bc9904337b331bf348c3e8c17      transaction   714  29.75   \n",
       "306530  68213b08d99a4ae1b0dcb72aebd9aa35      transaction   714  29.75   \n",
       "306531  a00058cf10334a308c68e7631c529907      transaction   714  29.75   \n",
       "306532  76ddbd6576844afe811f1a3c0fbb5bec      transaction   714  29.75   \n",
       "306533  c02b10e8752c4d8e9b73f918558531f7      transaction   714  29.75   \n",
       "\n",
       "        amount                          offer_id  offer received  \\\n",
       "306484   28.58                                 0               0   \n",
       "306485    0.06                                 0               0   \n",
       "306486    4.39                                 0               0   \n",
       "306487   25.76                                 0               0   \n",
       "306488    0.35                                 0               0   \n",
       "306489   20.84                                 0               0   \n",
       "306490    0.00  3f207df678b143eea3cee63160fa8bed               0   \n",
       "306491    2.16                                 0               0   \n",
       "306492    1.22                                 0               0   \n",
       "306493   26.41                                 0               0   \n",
       "306494   20.89                                 0               0   \n",
       "306495   32.23                                 0               0   \n",
       "306496    6.49                                 0               0   \n",
       "306497    0.00  2298d6c36e964ae4a3e7e9706d1fb8c2               0   \n",
       "306498   19.03                                 0               0   \n",
       "306499   25.65                                 0               0   \n",
       "306500    1.43                                 0               0   \n",
       "306501   28.03                                 0               0   \n",
       "306502    1.08                                 0               0   \n",
       "306503    5.80                                 0               0   \n",
       "306504    4.89                                 0               0   \n",
       "306505    4.48                                 0               0   \n",
       "306506    0.00  fafdcd668e3743c1bb461111dcafc2a4               0   \n",
       "306507    0.00  0b1e1539f2cc45b7b9fa7c272da2e1d7               0   \n",
       "306508    1.19                                 0               0   \n",
       "306509    0.00  fafdcd668e3743c1bb461111dcafc2a4               0   \n",
       "306510   14.31                                 0               0   \n",
       "306511    2.37                                 0               0   \n",
       "306512    6.92                                 0               0   \n",
       "306513   12.73                                 0               0   \n",
       "306514    8.20                                 0               0   \n",
       "306515    2.60                                 0               0   \n",
       "306516    9.20                                 0               0   \n",
       "306517   11.70                                 0               0   \n",
       "306518   40.67                                 0               0   \n",
       "306519   31.13                                 0               0   \n",
       "306520    1.64                                 0               0   \n",
       "306521   17.35                                 0               0   \n",
       "306522    4.42                                 0               0   \n",
       "306523   18.35                                 0               0   \n",
       "306524   25.14                                 0               0   \n",
       "306525   43.58                                 0               0   \n",
       "306526   22.64                                 0               0   \n",
       "306527    0.00  fafdcd668e3743c1bb461111dcafc2a4               0   \n",
       "306528    2.20                                 0               0   \n",
       "306529    1.59                                 0               0   \n",
       "306530    9.53                                 0               0   \n",
       "306531    3.61                                 0               0   \n",
       "306532    3.53                                 0               0   \n",
       "306533    4.05                                 0               0   \n",
       "\n",
       "        offer viewed  transaction  offer completed  \n",
       "306484             0            1                0  \n",
       "306485             0            1                0  \n",
       "306486             0            1                0  \n",
       "306487             0            1                0  \n",
       "306488             0            1                0  \n",
       "306489             0            1                0  \n",
       "306490             1            0                0  \n",
       "306491             0            1                0  \n",
       "306492             0            1                0  \n",
       "306493             0            1                0  \n",
       "306494             0            1                0  \n",
       "306495             0            1                0  \n",
       "306496             0            1                0  \n",
       "306497             0            0                1  \n",
       "306498             0            1                0  \n",
       "306499             0            1                0  \n",
       "306500             0            1                0  \n",
       "306501             0            1                0  \n",
       "306502             0            1                0  \n",
       "306503             0            1                0  \n",
       "306504             0            1                0  \n",
       "306505             0            1                0  \n",
       "306506             0            0                1  \n",
       "306507             1            0                0  \n",
       "306508             0            1                0  \n",
       "306509             0            0                1  \n",
       "306510             0            1                0  \n",
       "306511             0            1                0  \n",
       "306512             0            1                0  \n",
       "306513             0            1                0  \n",
       "306514             0            1                0  \n",
       "306515             0            1                0  \n",
       "306516             0            1                0  \n",
       "306517             0            1                0  \n",
       "306518             0            1                0  \n",
       "306519             0            1                0  \n",
       "306520             0            1                0  \n",
       "306521             0            1                0  \n",
       "306522             0            1                0  \n",
       "306523             0            1                0  \n",
       "306524             0            1                0  \n",
       "306525             0            1                0  \n",
       "306526             0            1                0  \n",
       "306527             0            0                1  \n",
       "306528             0            1                0  \n",
       "306529             0            1                0  \n",
       "306530             0            1                0  \n",
       "306531             0            1                0  \n",
       "306532             0            1                0  \n",
       "306533             0            1                0  "
      ]
     },
     "execution_count": 57,
     "metadata": {},
     "output_type": "execute_result"
    }
   ],
   "source": [
    "def split_event(val):\n",
    "    \"\"\"split event column\"\"\"\n",
    "    if val == event:\n",
    "        return 1\n",
    "    else:\n",
    "        return 0\n",
    "\n",
    "try:\n",
    "    # code: split event column\n",
    "    p.print_comment('code: split event column')\n",
    "    \n",
    "    for event in event_list:\n",
    "        transcript[event] = transcript.event.apply(split_event)\n",
    "except: pass\n",
    "else: p.print_done()\n",
    "    \n",
    "\n",
    "# test: split event column\n",
    "p.print_comment('test: split event column')\n",
    "\n",
    "transcript.tail(50)"
   ]
  },
  {
   "cell_type": "code",
   "execution_count": 58,
   "metadata": {
    "ExecuteTime": {
     "end_time": "2021-08-19T13:57:08.340852Z",
     "start_time": "2021-08-19T13:57:08.336497Z"
    }
   },
   "outputs": [
    {
     "name": "stdout",
     "output_type": "stream",
     "text": [
      "▬▬▬▬▬▬▬▬▬▬▬▬▬▬▬▬▬▬▬▬▬▬▬▬▬ Rename columns ▬▬▬▬▬▬▬▬▬▬▬▬▬▬▬▬▬▬▬▬ \n",
      "\n",
      "▬▬▬▬▬▬▬▬▬▬▬▬▬▬▬▬▬▬▬▬▬▬▬▬▬ Test: rename columns ▬▬▬▬▬▬▬▬▬▬▬▬▬▬▬▬▬▬▬▬ \n",
      "\n"
     ]
    },
    {
     "data": {
      "text/plain": [
       "Index(['customer_id', 'event', 'time', 'days', 'amount', 'offer_id',\n",
       "       'offer_received', 'offer_viewed', 'transaction', 'offer_completed'],\n",
       "      dtype='object')"
      ]
     },
     "execution_count": 58,
     "metadata": {},
     "output_type": "execute_result"
    }
   ],
   "source": [
    "# rename columns\n",
    "p.print_comment('rename columns')\n",
    "\n",
    "transcript.rename(columns={ \"offer received\": \"offer_received\", \n",
    "                            \"offer viewed\": \"offer_viewed\",\n",
    "                            \"offer completed\": \"offer_completed\"},\n",
    "                 inplace=True)\n",
    "\n",
    "# test: rename columns\n",
    "p.print_comment('test: rename columns')\n",
    "transcript.columns"
   ]
  },
  {
   "cell_type": "markdown",
   "metadata": {},
   "source": [
    "## Create offer dataframe\n",
    "\n",
    "create offer dataframe from people that have offers"
   ]
  },
  {
   "cell_type": "code",
   "execution_count": 59,
   "metadata": {
    "ExecuteTime": {
     "end_time": "2021-08-19T13:57:08.480060Z",
     "start_time": "2021-08-19T13:57:08.341937Z"
    },
    "scrolled": true
   },
   "outputs": [
    {
     "data": {
      "text/html": [
       "<div>\n",
       "<style scoped>\n",
       "    .dataframe tbody tr th:only-of-type {\n",
       "        vertical-align: middle;\n",
       "    }\n",
       "\n",
       "    .dataframe tbody tr th {\n",
       "        vertical-align: top;\n",
       "    }\n",
       "\n",
       "    .dataframe thead th {\n",
       "        text-align: right;\n",
       "    }\n",
       "</style>\n",
       "<table border=\"1\" class=\"dataframe\">\n",
       "  <thead>\n",
       "    <tr style=\"text-align: right;\">\n",
       "      <th></th>\n",
       "      <th>customer_id</th>\n",
       "      <th>event</th>\n",
       "      <th>time</th>\n",
       "      <th>days</th>\n",
       "      <th>amount</th>\n",
       "      <th>offer_id</th>\n",
       "      <th>offer_received</th>\n",
       "      <th>offer_viewed</th>\n",
       "      <th>transaction</th>\n",
       "      <th>offer_completed</th>\n",
       "    </tr>\n",
       "  </thead>\n",
       "  <tbody>\n",
       "    <tr>\n",
       "      <th>0</th>\n",
       "      <td>78afa995795e4d85b5d9ceeca43f5fef</td>\n",
       "      <td>offer received</td>\n",
       "      <td>0</td>\n",
       "      <td>0.0</td>\n",
       "      <td>0.0</td>\n",
       "      <td>9b98b8c7a33c4b65b9aebfe6a799e6d9</td>\n",
       "      <td>1</td>\n",
       "      <td>0</td>\n",
       "      <td>0</td>\n",
       "      <td>0</td>\n",
       "    </tr>\n",
       "    <tr>\n",
       "      <th>1</th>\n",
       "      <td>a03223e636434f42ac4c3df47e8bac43</td>\n",
       "      <td>offer received</td>\n",
       "      <td>0</td>\n",
       "      <td>0.0</td>\n",
       "      <td>0.0</td>\n",
       "      <td>0b1e1539f2cc45b7b9fa7c272da2e1d7</td>\n",
       "      <td>1</td>\n",
       "      <td>0</td>\n",
       "      <td>0</td>\n",
       "      <td>0</td>\n",
       "    </tr>\n",
       "    <tr>\n",
       "      <th>2</th>\n",
       "      <td>e2127556f4f64592b11af22de27a7932</td>\n",
       "      <td>offer received</td>\n",
       "      <td>0</td>\n",
       "      <td>0.0</td>\n",
       "      <td>0.0</td>\n",
       "      <td>2906b810c7d4411798c6938adc9daaa5</td>\n",
       "      <td>1</td>\n",
       "      <td>0</td>\n",
       "      <td>0</td>\n",
       "      <td>0</td>\n",
       "    </tr>\n",
       "    <tr>\n",
       "      <th>3</th>\n",
       "      <td>8ec6ce2a7e7949b1bf142def7d0e0586</td>\n",
       "      <td>offer received</td>\n",
       "      <td>0</td>\n",
       "      <td>0.0</td>\n",
       "      <td>0.0</td>\n",
       "      <td>fafdcd668e3743c1bb461111dcafc2a4</td>\n",
       "      <td>1</td>\n",
       "      <td>0</td>\n",
       "      <td>0</td>\n",
       "      <td>0</td>\n",
       "    </tr>\n",
       "    <tr>\n",
       "      <th>4</th>\n",
       "      <td>68617ca6246f4fbc85e91a2a49552598</td>\n",
       "      <td>offer received</td>\n",
       "      <td>0</td>\n",
       "      <td>0.0</td>\n",
       "      <td>0.0</td>\n",
       "      <td>4d5c57ea9a6940dd891ad53e9dbe8da0</td>\n",
       "      <td>1</td>\n",
       "      <td>0</td>\n",
       "      <td>0</td>\n",
       "      <td>0</td>\n",
       "    </tr>\n",
       "  </tbody>\n",
       "</table>\n",
       "</div>"
      ],
      "text/plain": [
       "                        customer_id           event  time  days  amount  \\\n",
       "0  78afa995795e4d85b5d9ceeca43f5fef  offer received     0   0.0     0.0   \n",
       "1  a03223e636434f42ac4c3df47e8bac43  offer received     0   0.0     0.0   \n",
       "2  e2127556f4f64592b11af22de27a7932  offer received     0   0.0     0.0   \n",
       "3  8ec6ce2a7e7949b1bf142def7d0e0586  offer received     0   0.0     0.0   \n",
       "4  68617ca6246f4fbc85e91a2a49552598  offer received     0   0.0     0.0   \n",
       "\n",
       "                           offer_id  offer_received  offer_viewed  \\\n",
       "0  9b98b8c7a33c4b65b9aebfe6a799e6d9               1             0   \n",
       "1  0b1e1539f2cc45b7b9fa7c272da2e1d7               1             0   \n",
       "2  2906b810c7d4411798c6938adc9daaa5               1             0   \n",
       "3  fafdcd668e3743c1bb461111dcafc2a4               1             0   \n",
       "4  4d5c57ea9a6940dd891ad53e9dbe8da0               1             0   \n",
       "\n",
       "   transaction  offer_completed  \n",
       "0            0                0  \n",
       "1            0                0  \n",
       "2            0                0  \n",
       "3            0                0  \n",
       "4            0                0  "
      ]
     },
     "execution_count": 59,
     "metadata": {},
     "output_type": "execute_result"
    }
   ],
   "source": [
    "# create offer dataframe \n",
    "offer = transcript[transcript.event != 'transaction']\n",
    "offer.head()"
   ]
  },
  {
   "cell_type": "markdown",
   "metadata": {},
   "source": [
    "## Create successful offer column\n",
    "\n",
    "**Note**: that the offer be success if a customer completed an offer and viewed it and if not viewed the offer become not success offer"
   ]
  },
  {
   "cell_type": "code",
   "execution_count": 60,
   "metadata": {
    "ExecuteTime": {
     "end_time": "2021-08-19T13:57:08.701967Z",
     "start_time": "2021-08-19T13:57:08.480945Z"
    }
   },
   "outputs": [],
   "source": [
    "# check if the offer is success or not\n",
    "\n",
    "# Group-by value counts in event column \n",
    "offer_customer = offer.pivot_table(index=['customer_id','offer_id'],\\\n",
    "                 columns='event', aggfunc='size', fill_value=0)\n",
    "offer_customer.reset_index(level=[0,1], inplace=True)\n",
    "\n",
    "# creat successful_offer column \n",
    "offer_customer['successful_offer'] =\\\n",
    "    offer_customer['offer completed'] * offer_customer['offer viewed']\n",
    "\n",
    "offer_customer['successful_offer'] = offer_customer['successful_offer'].apply(lambda x: 1 if x > 0 else 0)"
   ]
  },
  {
   "cell_type": "markdown",
   "metadata": {},
   "source": [
    "## Merge datasets\n",
    "create overall dataset that a combination from offer_customer dataset and profile dataset and portoflio dataset"
   ]
  },
  {
   "cell_type": "code",
   "execution_count": 61,
   "metadata": {
    "ExecuteTime": {
     "end_time": "2021-08-19T13:57:08.875004Z",
     "start_time": "2021-08-19T13:57:08.702838Z"
    }
   },
   "outputs": [
    {
     "data": {
      "text/html": [
       "<div>\n",
       "<style scoped>\n",
       "    .dataframe tbody tr th:only-of-type {\n",
       "        vertical-align: middle;\n",
       "    }\n",
       "\n",
       "    .dataframe tbody tr th {\n",
       "        vertical-align: top;\n",
       "    }\n",
       "\n",
       "    .dataframe thead th {\n",
       "        text-align: right;\n",
       "    }\n",
       "</style>\n",
       "<table border=\"1\" class=\"dataframe\">\n",
       "  <thead>\n",
       "    <tr style=\"text-align: right;\">\n",
       "      <th></th>\n",
       "      <th>customer_id</th>\n",
       "      <th>offer_id</th>\n",
       "      <th>offer completed</th>\n",
       "      <th>offer received</th>\n",
       "      <th>offer viewed</th>\n",
       "      <th>successful_offer</th>\n",
       "      <th>reward</th>\n",
       "      <th>difficulty</th>\n",
       "      <th>duration</th>\n",
       "      <th>offer_type</th>\n",
       "      <th>...</th>\n",
       "      <th>offer_name</th>\n",
       "      <th>gender</th>\n",
       "      <th>age</th>\n",
       "      <th>income</th>\n",
       "      <th>Female</th>\n",
       "      <th>Male</th>\n",
       "      <th>other</th>\n",
       "      <th>become_member_on_year</th>\n",
       "      <th>become_member_on_month</th>\n",
       "      <th>become_member_on_day</th>\n",
       "    </tr>\n",
       "  </thead>\n",
       "  <tbody>\n",
       "    <tr>\n",
       "      <th>0</th>\n",
       "      <td>0009655768c64bdeb2e877511632db8f</td>\n",
       "      <td>2906b810c7d4411798c6938adc9daaa5</td>\n",
       "      <td>1</td>\n",
       "      <td>1</td>\n",
       "      <td>0</td>\n",
       "      <td>0</td>\n",
       "      <td>2</td>\n",
       "      <td>10</td>\n",
       "      <td>7</td>\n",
       "      <td>discount</td>\n",
       "      <td>...</td>\n",
       "      <td>offer_10</td>\n",
       "      <td>M</td>\n",
       "      <td>33</td>\n",
       "      <td>72000.0</td>\n",
       "      <td>0.0</td>\n",
       "      <td>1.0</td>\n",
       "      <td>0.0</td>\n",
       "      <td>2017</td>\n",
       "      <td>4</td>\n",
       "      <td>21</td>\n",
       "    </tr>\n",
       "    <tr>\n",
       "      <th>1</th>\n",
       "      <td>0009655768c64bdeb2e877511632db8f</td>\n",
       "      <td>3f207df678b143eea3cee63160fa8bed</td>\n",
       "      <td>0</td>\n",
       "      <td>1</td>\n",
       "      <td>1</td>\n",
       "      <td>0</td>\n",
       "      <td>0</td>\n",
       "      <td>0</td>\n",
       "      <td>4</td>\n",
       "      <td>informational</td>\n",
       "      <td>...</td>\n",
       "      <td>offer_3</td>\n",
       "      <td>M</td>\n",
       "      <td>33</td>\n",
       "      <td>72000.0</td>\n",
       "      <td>0.0</td>\n",
       "      <td>1.0</td>\n",
       "      <td>0.0</td>\n",
       "      <td>2017</td>\n",
       "      <td>4</td>\n",
       "      <td>21</td>\n",
       "    </tr>\n",
       "    <tr>\n",
       "      <th>2</th>\n",
       "      <td>0009655768c64bdeb2e877511632db8f</td>\n",
       "      <td>5a8bc65990b245e5a138643cd4eb9837</td>\n",
       "      <td>0</td>\n",
       "      <td>1</td>\n",
       "      <td>1</td>\n",
       "      <td>0</td>\n",
       "      <td>0</td>\n",
       "      <td>0</td>\n",
       "      <td>3</td>\n",
       "      <td>informational</td>\n",
       "      <td>...</td>\n",
       "      <td>offer_8</td>\n",
       "      <td>M</td>\n",
       "      <td>33</td>\n",
       "      <td>72000.0</td>\n",
       "      <td>0.0</td>\n",
       "      <td>1.0</td>\n",
       "      <td>0.0</td>\n",
       "      <td>2017</td>\n",
       "      <td>4</td>\n",
       "      <td>21</td>\n",
       "    </tr>\n",
       "    <tr>\n",
       "      <th>3</th>\n",
       "      <td>0009655768c64bdeb2e877511632db8f</td>\n",
       "      <td>f19421c1d4aa40978ebb69ca19b0e20d</td>\n",
       "      <td>1</td>\n",
       "      <td>1</td>\n",
       "      <td>1</td>\n",
       "      <td>1</td>\n",
       "      <td>5</td>\n",
       "      <td>5</td>\n",
       "      <td>5</td>\n",
       "      <td>bogo</td>\n",
       "      <td>...</td>\n",
       "      <td>offer_9</td>\n",
       "      <td>M</td>\n",
       "      <td>33</td>\n",
       "      <td>72000.0</td>\n",
       "      <td>0.0</td>\n",
       "      <td>1.0</td>\n",
       "      <td>0.0</td>\n",
       "      <td>2017</td>\n",
       "      <td>4</td>\n",
       "      <td>21</td>\n",
       "    </tr>\n",
       "    <tr>\n",
       "      <th>4</th>\n",
       "      <td>0009655768c64bdeb2e877511632db8f</td>\n",
       "      <td>fafdcd668e3743c1bb461111dcafc2a4</td>\n",
       "      <td>1</td>\n",
       "      <td>1</td>\n",
       "      <td>1</td>\n",
       "      <td>1</td>\n",
       "      <td>2</td>\n",
       "      <td>10</td>\n",
       "      <td>10</td>\n",
       "      <td>discount</td>\n",
       "      <td>...</td>\n",
       "      <td>offer_7</td>\n",
       "      <td>M</td>\n",
       "      <td>33</td>\n",
       "      <td>72000.0</td>\n",
       "      <td>0.0</td>\n",
       "      <td>1.0</td>\n",
       "      <td>0.0</td>\n",
       "      <td>2017</td>\n",
       "      <td>4</td>\n",
       "      <td>21</td>\n",
       "    </tr>\n",
       "    <tr>\n",
       "      <th>...</th>\n",
       "      <td>...</td>\n",
       "      <td>...</td>\n",
       "      <td>...</td>\n",
       "      <td>...</td>\n",
       "      <td>...</td>\n",
       "      <td>...</td>\n",
       "      <td>...</td>\n",
       "      <td>...</td>\n",
       "      <td>...</td>\n",
       "      <td>...</td>\n",
       "      <td>...</td>\n",
       "      <td>...</td>\n",
       "      <td>...</td>\n",
       "      <td>...</td>\n",
       "      <td>...</td>\n",
       "      <td>...</td>\n",
       "      <td>...</td>\n",
       "      <td>...</td>\n",
       "      <td>...</td>\n",
       "      <td>...</td>\n",
       "      <td>...</td>\n",
       "    </tr>\n",
       "    <tr>\n",
       "      <th>55217</th>\n",
       "      <td>fffad4f4828548d1b5583907f2e9906b</td>\n",
       "      <td>f19421c1d4aa40978ebb69ca19b0e20d</td>\n",
       "      <td>2</td>\n",
       "      <td>2</td>\n",
       "      <td>2</td>\n",
       "      <td>1</td>\n",
       "      <td>5</td>\n",
       "      <td>5</td>\n",
       "      <td>5</td>\n",
       "      <td>bogo</td>\n",
       "      <td>...</td>\n",
       "      <td>offer_9</td>\n",
       "      <td>M</td>\n",
       "      <td>34</td>\n",
       "      <td>34000.0</td>\n",
       "      <td>0.0</td>\n",
       "      <td>1.0</td>\n",
       "      <td>0.0</td>\n",
       "      <td>2017</td>\n",
       "      <td>1</td>\n",
       "      <td>23</td>\n",
       "    </tr>\n",
       "    <tr>\n",
       "      <th>55218</th>\n",
       "      <td>ffff82501cea40309d5fdd7edcca4a07</td>\n",
       "      <td>0b1e1539f2cc45b7b9fa7c272da2e1d7</td>\n",
       "      <td>1</td>\n",
       "      <td>1</td>\n",
       "      <td>1</td>\n",
       "      <td>1</td>\n",
       "      <td>5</td>\n",
       "      <td>20</td>\n",
       "      <td>10</td>\n",
       "      <td>discount</td>\n",
       "      <td>...</td>\n",
       "      <td>offer_5</td>\n",
       "      <td>F</td>\n",
       "      <td>45</td>\n",
       "      <td>62000.0</td>\n",
       "      <td>1.0</td>\n",
       "      <td>0.0</td>\n",
       "      <td>0.0</td>\n",
       "      <td>2016</td>\n",
       "      <td>11</td>\n",
       "      <td>25</td>\n",
       "    </tr>\n",
       "    <tr>\n",
       "      <th>55219</th>\n",
       "      <td>ffff82501cea40309d5fdd7edcca4a07</td>\n",
       "      <td>2906b810c7d4411798c6938adc9daaa5</td>\n",
       "      <td>3</td>\n",
       "      <td>3</td>\n",
       "      <td>3</td>\n",
       "      <td>1</td>\n",
       "      <td>2</td>\n",
       "      <td>10</td>\n",
       "      <td>7</td>\n",
       "      <td>discount</td>\n",
       "      <td>...</td>\n",
       "      <td>offer_10</td>\n",
       "      <td>F</td>\n",
       "      <td>45</td>\n",
       "      <td>62000.0</td>\n",
       "      <td>1.0</td>\n",
       "      <td>0.0</td>\n",
       "      <td>0.0</td>\n",
       "      <td>2016</td>\n",
       "      <td>11</td>\n",
       "      <td>25</td>\n",
       "    </tr>\n",
       "    <tr>\n",
       "      <th>55220</th>\n",
       "      <td>ffff82501cea40309d5fdd7edcca4a07</td>\n",
       "      <td>9b98b8c7a33c4b65b9aebfe6a799e6d9</td>\n",
       "      <td>1</td>\n",
       "      <td>1</td>\n",
       "      <td>1</td>\n",
       "      <td>1</td>\n",
       "      <td>5</td>\n",
       "      <td>5</td>\n",
       "      <td>7</td>\n",
       "      <td>bogo</td>\n",
       "      <td>...</td>\n",
       "      <td>offer_4</td>\n",
       "      <td>F</td>\n",
       "      <td>45</td>\n",
       "      <td>62000.0</td>\n",
       "      <td>1.0</td>\n",
       "      <td>0.0</td>\n",
       "      <td>0.0</td>\n",
       "      <td>2016</td>\n",
       "      <td>11</td>\n",
       "      <td>25</td>\n",
       "    </tr>\n",
       "    <tr>\n",
       "      <th>55221</th>\n",
       "      <td>ffff82501cea40309d5fdd7edcca4a07</td>\n",
       "      <td>fafdcd668e3743c1bb461111dcafc2a4</td>\n",
       "      <td>1</td>\n",
       "      <td>1</td>\n",
       "      <td>1</td>\n",
       "      <td>1</td>\n",
       "      <td>2</td>\n",
       "      <td>10</td>\n",
       "      <td>10</td>\n",
       "      <td>discount</td>\n",
       "      <td>...</td>\n",
       "      <td>offer_7</td>\n",
       "      <td>F</td>\n",
       "      <td>45</td>\n",
       "      <td>62000.0</td>\n",
       "      <td>1.0</td>\n",
       "      <td>0.0</td>\n",
       "      <td>0.0</td>\n",
       "      <td>2016</td>\n",
       "      <td>11</td>\n",
       "      <td>25</td>\n",
       "    </tr>\n",
       "  </tbody>\n",
       "</table>\n",
       "<p>55222 rows × 27 columns</p>\n",
       "</div>"
      ],
      "text/plain": [
       "                            customer_id                          offer_id  \\\n",
       "0      0009655768c64bdeb2e877511632db8f  2906b810c7d4411798c6938adc9daaa5   \n",
       "1      0009655768c64bdeb2e877511632db8f  3f207df678b143eea3cee63160fa8bed   \n",
       "2      0009655768c64bdeb2e877511632db8f  5a8bc65990b245e5a138643cd4eb9837   \n",
       "3      0009655768c64bdeb2e877511632db8f  f19421c1d4aa40978ebb69ca19b0e20d   \n",
       "4      0009655768c64bdeb2e877511632db8f  fafdcd668e3743c1bb461111dcafc2a4   \n",
       "...                                 ...                               ...   \n",
       "55217  fffad4f4828548d1b5583907f2e9906b  f19421c1d4aa40978ebb69ca19b0e20d   \n",
       "55218  ffff82501cea40309d5fdd7edcca4a07  0b1e1539f2cc45b7b9fa7c272da2e1d7   \n",
       "55219  ffff82501cea40309d5fdd7edcca4a07  2906b810c7d4411798c6938adc9daaa5   \n",
       "55220  ffff82501cea40309d5fdd7edcca4a07  9b98b8c7a33c4b65b9aebfe6a799e6d9   \n",
       "55221  ffff82501cea40309d5fdd7edcca4a07  fafdcd668e3743c1bb461111dcafc2a4   \n",
       "\n",
       "       offer completed  offer received  offer viewed  successful_offer  \\\n",
       "0                    1               1             0                 0   \n",
       "1                    0               1             1                 0   \n",
       "2                    0               1             1                 0   \n",
       "3                    1               1             1                 1   \n",
       "4                    1               1             1                 1   \n",
       "...                ...             ...           ...               ...   \n",
       "55217                2               2             2                 1   \n",
       "55218                1               1             1                 1   \n",
       "55219                3               3             3                 1   \n",
       "55220                1               1             1                 1   \n",
       "55221                1               1             1                 1   \n",
       "\n",
       "       reward  difficulty  duration     offer_type  ...  offer_name  gender  \\\n",
       "0           2          10         7       discount  ...    offer_10       M   \n",
       "1           0           0         4  informational  ...     offer_3       M   \n",
       "2           0           0         3  informational  ...     offer_8       M   \n",
       "3           5           5         5           bogo  ...     offer_9       M   \n",
       "4           2          10        10       discount  ...     offer_7       M   \n",
       "...       ...         ...       ...            ...  ...         ...     ...   \n",
       "55217       5           5         5           bogo  ...     offer_9       M   \n",
       "55218       5          20        10       discount  ...     offer_5       F   \n",
       "55219       2          10         7       discount  ...    offer_10       F   \n",
       "55220       5           5         7           bogo  ...     offer_4       F   \n",
       "55221       2          10        10       discount  ...     offer_7       F   \n",
       "\n",
       "       age   income  Female  Male  other become_member_on_year  \\\n",
       "0       33  72000.0     0.0   1.0    0.0                  2017   \n",
       "1       33  72000.0     0.0   1.0    0.0                  2017   \n",
       "2       33  72000.0     0.0   1.0    0.0                  2017   \n",
       "3       33  72000.0     0.0   1.0    0.0                  2017   \n",
       "4       33  72000.0     0.0   1.0    0.0                  2017   \n",
       "...    ...      ...     ...   ...    ...                   ...   \n",
       "55217   34  34000.0     0.0   1.0    0.0                  2017   \n",
       "55218   45  62000.0     1.0   0.0    0.0                  2016   \n",
       "55219   45  62000.0     1.0   0.0    0.0                  2016   \n",
       "55220   45  62000.0     1.0   0.0    0.0                  2016   \n",
       "55221   45  62000.0     1.0   0.0    0.0                  2016   \n",
       "\n",
       "      become_member_on_month  become_member_on_day  \n",
       "0                          4                    21  \n",
       "1                          4                    21  \n",
       "2                          4                    21  \n",
       "3                          4                    21  \n",
       "4                          4                    21  \n",
       "...                      ...                   ...  \n",
       "55217                      1                    23  \n",
       "55218                     11                    25  \n",
       "55219                     11                    25  \n",
       "55220                     11                    25  \n",
       "55221                     11                    25  \n",
       "\n",
       "[55222 rows x 27 columns]"
      ]
     },
     "execution_count": 61,
     "metadata": {},
     "output_type": "execute_result"
    }
   ],
   "source": [
    "# merge dataset profile and portolio and offer_customer\n",
    "overall_df = pd.merge(offer_customer,portfolio,on='offer_id', how='left')\n",
    "overall_df = pd.merge(overall_df,profile,on='customer_id')\n",
    "overall_df"
   ]
  },
  {
   "cell_type": "markdown",
   "metadata": {},
   "source": [
    "# Export clean data"
   ]
  },
  {
   "cell_type": "code",
   "execution_count": 62,
   "metadata": {
    "ExecuteTime": {
     "end_time": "2021-08-19T13:57:10.241390Z",
     "start_time": "2021-08-19T13:57:08.876155Z"
    }
   },
   "outputs": [
    {
     "name": "stdout",
     "output_type": "stream",
     "text": [
      "▬▬▬▬▬▬▬▬▬▬▬▬▬▬▬▬▬▬▬▬▬▬▬▬▬ Export clean data ▬▬▬▬▬▬▬▬▬▬▬▬▬▬▬▬▬▬▬▬ \n",
      "\n",
      "Celebration: your job completed 🎉🎉🎉🎉🎉🎉🎉🎉🎉🎉🎉🎉🎉🎉🎉🎉🎉🎉🎉🎉🎉🎉🎉🎉🎉 \n",
      "\n"
     ]
    }
   ],
   "source": [
    "# export clean data\n",
    "p.print_comment('export clean data')\n",
    "\n",
    "profile.to_csv('data/clean_profile.csv', index=False)\n",
    "portfolio.to_csv('data/clean_portfolio.csv', index=False)\n",
    "transcript.to_csv('data/clean_transcript.csv', index=False)\n",
    "overall_df.to_csv('data/overall_df.csv', index=False)\n",
    "\n",
    "p.print_done()"
   ]
  },
  {
   "cell_type": "markdown",
   "metadata": {},
   "source": [
    "# Exploratory analysis"
   ]
  },
  {
   "cell_type": "code",
   "execution_count": 63,
   "metadata": {
    "ExecuteTime": {
     "end_time": "2021-08-19T13:57:10.586775Z",
     "start_time": "2021-08-19T13:57:10.242384Z"
    },
    "hide_input": true
   },
   "outputs": [],
   "source": [
    "portfolio = pd.read_csv('data/clean_portfolio.csv')\n",
    "profile = pd.read_csv('data/clean_profile.csv')\n",
    "transcript = pd.read_csv('data/clean_transcript.csv')\n",
    "overall_df = pd.read_csv('data/overall_df.csv')"
   ]
  },
  {
   "cell_type": "markdown",
   "metadata": {
    "hide_input": false
   },
   "source": [
    "## Profile"
   ]
  },
  {
   "cell_type": "code",
   "execution_count": 64,
   "metadata": {
    "ExecuteTime": {
     "end_time": "2021-08-19T13:57:10.613639Z",
     "start_time": "2021-08-19T13:57:10.587772Z"
    },
    "hide_input": false
   },
   "outputs": [],
   "source": [
    "profile['become_member_on_month'] = profile.become_member_on_month.astype(str)\n",
    "profile['become_member_on_year'] = profile.become_member_on_year.astype(str)\n",
    "profile['become_member_on_day'] = profile.become_member_on_day.astype(str)"
   ]
  },
  {
   "cell_type": "markdown",
   "metadata": {
    "hide_input": false
   },
   "source": [
    "### Gender Distribution"
   ]
  },
  {
   "cell_type": "code",
   "execution_count": 65,
   "metadata": {
    "ExecuteTime": {
     "end_time": "2021-08-19T13:57:10.876788Z",
     "start_time": "2021-08-19T13:57:10.615123Z"
    },
    "hide_input": true
   },
   "outputs": [
    {
     "data": {
      "image/png": "[encoded data removed]",
      "text/plain": [
       "<Figure size 720x360 with 1 Axes>"
      ]
     },
     "metadata": {},
     "output_type": "display_data"
    }
   ],
   "source": [
    "gender_count = [profile.Female.sum(), profile.Male.sum(), profile.other.sum()]\n",
    "x_label = ['Female', 'Male', 'Other']\n",
    "sns.barplot(y = gender_count, x = x_label , color=base_color);\n",
    "plt.title('Gender Distribution', fontdict=font);\n"
   ]
  },
  {
   "cell_type": "markdown",
   "metadata": {},
   "source": [
    "> we can notice that most of users are Male"
   ]
  },
  {
   "cell_type": "markdown",
   "metadata": {},
   "source": [
    "### Income Distribution"
   ]
  },
  {
   "cell_type": "code",
   "execution_count": 66,
   "metadata": {
    "ExecuteTime": {
     "end_time": "2021-08-19T13:57:11.002630Z",
     "start_time": "2021-08-19T13:57:10.877685Z"
    },
    "hide_input": false,
    "scrolled": true
   },
   "outputs": [
    {
     "data": {
      "image/png": "[encoded data removed]",
      "text/plain": [
       "<Figure size 720x360 with 1 Axes>"
      ]
     },
     "metadata": {},
     "output_type": "display_data"
    }
   ],
   "source": [
    "bin_edges = np.arange(0, profile['income'].max()+1, 10000)\n",
    "\n",
    "sns.histplot(profile['income'],bins=10);\n",
    "plt.xticks(bin_edges)\n",
    "plt.xlim(profile.income.min()-5000, profile.income.max()+5000)\n",
    "plt.title('Income Distribution', fontdict=font);"
   ]
  },
  {
   "cell_type": "markdown",
   "metadata": {},
   "source": [
    "> We can notice that the most income between $50000 \\to 70000$"
   ]
  },
  {
   "cell_type": "markdown",
   "metadata": {},
   "source": [
    "### Age Distribution"
   ]
  },
  {
   "cell_type": "code",
   "execution_count": 67,
   "metadata": {
    "ExecuteTime": {
     "end_time": "2021-08-19T13:57:11.126458Z",
     "start_time": "2021-08-19T13:57:11.003631Z"
    },
    "hide_input": false,
    "scrolled": true
   },
   "outputs": [
    {
     "data": {
      "image/png": "[encoded data removed]",
      "text/plain": [
       "<Figure size 720x360 with 1 Axes>"
      ]
     },
     "metadata": {},
     "output_type": "display_data"
    }
   ],
   "source": [
    "bin_edges = np.arange(0, profile['age'].max()+10, 10)\n",
    "sns.histplot(profile['age'],bins=10);\n",
    "plt.xticks(bin_edges)\n",
    "plt.xlim(profile.age.min()-5, profile.age.max()+10)\n",
    "plt.title('Age Distribution', fontdict=font);"
   ]
  },
  {
   "cell_type": "markdown",
   "metadata": {},
   "source": [
    "> We can notice that the most age is between 40 to 75"
   ]
  },
  {
   "cell_type": "markdown",
   "metadata": {},
   "source": [
    "### New Member based of Year"
   ]
  },
  {
   "cell_type": "code",
   "execution_count": 68,
   "metadata": {
    "ExecuteTime": {
     "end_time": "2021-08-19T13:57:11.381162Z",
     "start_time": "2021-08-19T13:57:11.127450Z"
    },
    "hide_input": false,
    "scrolled": true
   },
   "outputs": [
    {
     "data": {
      "image/png": "[encoded data removed]",
      "text/plain": [
       "<Figure size 720x360 with 1 Axes>"
      ]
     },
     "metadata": {},
     "output_type": "display_data"
    }
   ],
   "source": [
    "cat_order = profile['become_member_on_year'].value_counts().index\n",
    "sns.countplot(data = profile, x = 'become_member_on_year', color=base_color, \n",
    "              order=cat_order)\n",
    "plt.title('New Member based of Year', fontdict=font)\n",
    "\n",
    "# add annotations\n",
    "n_points = profile.shape[0]\n",
    "cat_counts = profile['become_member_on_year'].value_counts()\n",
    "locs, labels = plt.xticks() # get the current tick locations and labels\n",
    "\n",
    "# loop through each pair of locations and labels\n",
    "for loc, label in zip(locs, labels):\n",
    "\n",
    "    # get the text property for the label to get the correct count\n",
    "    count = cat_counts[label.get_text()]\n",
    "    pct_string = '{:0.1f}%'.format(100*count/n_points)\n",
    "\n",
    "    # print the annotation just below the top of the bar\n",
    "    plt.text(loc, count-8, pct_string, ha = 'center', color = 'k')\n"
   ]
  },
  {
   "cell_type": "markdown",
   "metadata": {},
   "source": [
    "> 2017 has the highest number of new members."
   ]
  },
  {
   "cell_type": "markdown",
   "metadata": {},
   "source": [
    "### New Member based of Month"
   ]
  },
  {
   "cell_type": "code",
   "execution_count": 69,
   "metadata": {
    "ExecuteTime": {
     "end_time": "2021-08-19T13:57:11.523413Z",
     "start_time": "2021-08-19T13:57:11.384520Z"
    },
    "code_folding": [
     10
    ],
    "hide_input": false,
    "scrolled": true
   },
   "outputs": [
    {
     "data": {
      "image/png": "[encoded data removed]",
      "text/plain": [
       "<Figure size 720x360 with 1 Axes>"
      ]
     },
     "metadata": {},
     "output_type": "display_data"
    }
   ],
   "source": [
    "cat_order = profile['become_member_on_month'].value_counts().index\n",
    "sns.countplot(data = profile, x = 'become_member_on_month', color=base_color, \n",
    "              order=cat_order)\n",
    "plt.title('New Member based of Month', fontdict=font)\n",
    "\n",
    "# add annotations\n",
    "n_points = profile.shape[0]\n",
    "cat_counts = profile['become_member_on_month'].value_counts()\n",
    "locs, labels = plt.xticks() # get the current tick locations and labels\n",
    "\n",
    "# loop through each pair of locations and labels\n",
    "for loc, label in zip(locs, labels):\n",
    "\n",
    "    # get the text property for the label to get the correct count\n",
    "    count = cat_counts[label.get_text()]\n",
    "    pct_string = '{:0.1f}%'.format(100*count/n_points)\n",
    "\n",
    "    # print the annotation just below the top of the bar\n",
    "    plt.text(loc, count-8, pct_string, ha = 'center', color = 'k')\n"
   ]
  },
  {
   "cell_type": "markdown",
   "metadata": {},
   "source": [
    "> We can notice grow in member based on month is almost equal"
   ]
  },
  {
   "cell_type": "markdown",
   "metadata": {},
   "source": [
    "### New Memeber based on Year and Gender"
   ]
  },
  {
   "cell_type": "code",
   "execution_count": 70,
   "metadata": {
    "ExecuteTime": {
     "end_time": "2021-08-19T13:57:11.670304Z",
     "start_time": "2021-08-19T13:57:11.524761Z"
    },
    "hide_input": false,
    "scrolled": true
   },
   "outputs": [
    {
     "data": {
      "image/png": "[encoded data removed]",
      "text/plain": [
       "<Figure size 720x360 with 1 Axes>"
      ]
     },
     "metadata": {},
     "output_type": "display_data"
    }
   ],
   "source": [
    "sns.countplot(data = profile, x = 'become_member_on_year', hue = 'gender')\n",
    "plt.title('New Member based of Year and Gender', fontdict=font);"
   ]
  },
  {
   "cell_type": "markdown",
   "metadata": {},
   "source": [
    "> We can notice that most new member are Male"
   ]
  },
  {
   "cell_type": "markdown",
   "metadata": {},
   "source": [
    "### Income based on Gender"
   ]
  },
  {
   "cell_type": "code",
   "execution_count": 71,
   "metadata": {
    "ExecuteTime": {
     "end_time": "2021-08-19T13:57:12.002649Z",
     "start_time": "2021-08-19T13:57:11.671259Z"
    },
    "hide_input": false,
    "scrolled": true
   },
   "outputs": [
    {
     "data": {
      "image/png": "[encoded data removed]",
      "text/plain": [
       "<Figure size 720x360 with 1 Axes>"
      ]
     },
     "metadata": {},
     "output_type": "display_data"
    }
   ],
   "source": [
    "sns.violinplot(data = profile, y = 'income', x = 'gender');\n",
    "plt.title('Income based on Gender', fontdict=font);"
   ]
  },
  {
   "cell_type": "code",
   "execution_count": 72,
   "metadata": {
    "ExecuteTime": {
     "end_time": "2021-08-19T13:57:12.194727Z",
     "start_time": "2021-08-19T13:57:12.003676Z"
    },
    "hide_input": false
   },
   "outputs": [
    {
     "data": {
      "image/png": "[encoded data removed]",
      "text/plain": [
       "<Figure size 720x360 with 1 Axes>"
      ]
     },
     "metadata": {},
     "output_type": "display_data"
    }
   ],
   "source": [
    "sns.histplot(data=profile, x=\"income\", hue=\"gender\", multiple=\"stack\", \n",
    "            bins=10);\n",
    "\n",
    "bin_edges = np.arange(0, profile['income'].max()+1, 10000)\n",
    "\n",
    "plt.xticks(bin_edges)\n",
    "plt.xlim(profile.income.min()-5000, profile.income.max()+5000)\n",
    "plt.title('Income Distribution Based on Gender', fontdict=font);"
   ]
  },
  {
   "cell_type": "markdown",
   "metadata": {},
   "source": [
    "> We can notice that the count Female gender is the highest one"
   ]
  },
  {
   "cell_type": "markdown",
   "metadata": {},
   "source": [
    "## transcript"
   ]
  },
  {
   "cell_type": "markdown",
   "metadata": {},
   "source": [
    "### Event Distribution"
   ]
  },
  {
   "cell_type": "code",
   "execution_count": 73,
   "metadata": {
    "ExecuteTime": {
     "end_time": "2021-08-19T13:57:12.284661Z",
     "start_time": "2021-08-19T13:57:12.195826Z"
    },
    "hide_input": false,
    "scrolled": true
   },
   "outputs": [
    {
     "data": {
      "image/png": "[encoded data removed]",
      "text/plain": [
       "<Figure size 720x360 with 1 Axes>"
      ]
     },
     "metadata": {},
     "output_type": "display_data"
    }
   ],
   "source": [
    "# create event list\n",
    "x_value = ['Offer received','Offer viewed','Transaction','Offer completed']\n",
    "y_value = [transcript.offer_received.sum(), transcript.offer_viewed.sum(),\n",
    "    transcript.transaction.sum(), transcript.offer_completed.sum()]\n",
    "\n",
    "# sort values\n",
    "x_value = [x for _,x in sorted(zip(y_value,x_value), reverse=True)]\n",
    "y_value.sort(reverse=True)\n",
    "\n",
    "# show graph\n",
    "sns.barplot(y = y_value, x = x_value , color=base_color);\n",
    "plt.title('Event Distribution', fontdict=font);"
   ]
  },
  {
   "cell_type": "markdown",
   "metadata": {},
   "source": [
    "> We can notice that most of offers are just received and viewed"
   ]
  },
  {
   "cell_type": "markdown",
   "metadata": {},
   "source": [
    "### Offers Distribution"
   ]
  },
  {
   "cell_type": "code",
   "execution_count": 74,
   "metadata": {
    "ExecuteTime": {
     "end_time": "2021-08-19T13:57:12.377613Z",
     "start_time": "2021-08-19T13:57:12.285564Z"
    },
    "code_folding": [
     0
    ],
    "hide_input": false
   },
   "outputs": [
    {
     "name": "stdout",
     "output_type": "stream",
     "text": [
      "Notice                                           Number  Percentage\n",
      "---------------------------------------------  --------  ------------\n",
      "Number of customer made transaction              138953  100%\n",
      "Number of unique customers made transaction       16578  11.93%\n",
      "Number of customers who recived offers           167581  100%\n",
      "Number of unique customers who recived offers     16994  10.14%\n"
     ]
    }
   ],
   "source": [
    "table = [\n",
    "    ['Number of customer made transaction' ,\n",
    "         transcript[transcript.transaction == 1].customer_id.count(),\n",
    "    '100%'],\n",
    "    \n",
    "    \n",
    "    ['Number of unique customers made transaction',\n",
    "        transcript[transcript.transaction == 1].customer_id.nunique(),\n",
    "    f\"{round((16578/138953)*100, 2)}%\"],\n",
    "    \n",
    "    \n",
    "    ['Number of customers who recived offers', \n",
    "        transcript[transcript.transaction != 1].customer_id.count(),\n",
    "    '100%'],\n",
    "    \n",
    "    \n",
    "    ['Number of unique customers who recived offers',\n",
    "        transcript[transcript.transaction != 1].customer_id.nunique(),\n",
    "    f\"{round((16994/167581)*100, 2)}%\"]\n",
    "        \n",
    "        ]\n",
    "\n",
    "header = ['Notice', 'Number', 'Percentage']\n",
    "\n",
    "print(tabulate(table,header, tablefmt=\"simple\"))"
   ]
  },
  {
   "cell_type": "markdown",
   "metadata": {},
   "source": [
    "> We can notice that there are alot of repeated offers to the same customer\n",
    "also we can notice that the customers who made transaction mostly are the same customers no new customer come"
   ]
  },
  {
   "cell_type": "markdown",
   "metadata": {},
   "source": [
    "## Overall dataframe"
   ]
  },
  {
   "cell_type": "markdown",
   "metadata": {},
   "source": [
    "### Distribution of Successfule offers"
   ]
  },
  {
   "cell_type": "code",
   "execution_count": 75,
   "metadata": {
    "ExecuteTime": {
     "end_time": "2021-08-19T13:57:12.521640Z",
     "start_time": "2021-08-19T13:57:12.378427Z"
    },
    "hide_input": true,
    "scrolled": true
   },
   "outputs": [
    {
     "data": {
      "image/png": "[encoded data removed]",
      "text/plain": [
       "<Figure size 720x360 with 1 Axes>"
      ]
     },
     "metadata": {},
     "output_type": "display_data"
    }
   ],
   "source": [
    "x = overall_df['successful_offer'].value_counts()\n",
    "x.index = ['Failure', 'Success']\n",
    "\n",
    "ax = sns.countplot(data = offer_customer, x = 'successful_offer', color = base_color)\n",
    "plt.title('Distribution of Successfule offers', fontdict=font);\n",
    "ax.set_xticklabels(['Failure', 'Success']);\n",
    "ax.set_xlabel('Successfule Offers');\n",
    "\n",
    "# add annotations\n",
    "n_points = overall_df.shape[0]\n",
    "cat_counts = x\n",
    "locs, labels = plt.xticks() # get the current tick locations and labels\n",
    "\n",
    "# loop through each pair of locations and labels\n",
    "for loc, label in zip(locs, labels):\n",
    "\n",
    "    # get the text property for the label to get the correct count\n",
    "    count = cat_counts[label.get_text()]\n",
    "    pct_string = '{:0.1f}%'.format(100*count/n_points)\n",
    "\n",
    "    # print the annotation just below the top of the bar\n",
    "    plt.text(loc, count-8, pct_string, ha = 'center', color = 'k')"
   ]
  },
  {
   "cell_type": "markdown",
   "metadata": {},
   "source": [
    "> The Percentage of failure offers greater than success offers"
   ]
  },
  {
   "cell_type": "markdown",
   "metadata": {},
   "source": [
    "### Distribution of Success based on offer type"
   ]
  },
  {
   "cell_type": "code",
   "execution_count": 76,
   "metadata": {
    "ExecuteTime": {
     "end_time": "2021-08-19T13:57:12.748424Z",
     "start_time": "2021-08-19T13:57:12.522672Z"
    },
    "hide_input": false,
    "scrolled": true
   },
   "outputs": [
    {
     "data": {
      "image/png": "[encoded data removed]",
      "text/plain": [
       "<Figure size 1080x360 with 1 Axes>"
      ]
     },
     "metadata": {},
     "output_type": "display_data"
    }
   ],
   "source": [
    "plt.subplots(figsize=(15,5))\n",
    "ax = sns.countplot(data = overall_df, x = 'offer_name', hue = 'successful_offer', \n",
    "                  palette=['#AAB7B8', '#5DADE2'])\n",
    "ax.legend(['Failure', 'Success'], title = 'Offer', );\n",
    "plt.title('Distribution of Success based on offer type', fontdict=font);\n",
    "plt.xticks(rotation=20);\n",
    "plt.xlabel('Offer Name');"
   ]
  },
  {
   "cell_type": "markdown",
   "metadata": {},
   "source": [
    "> There are alot of offers need to review because is not success like offer_8. <br>\n",
    "offer_7, offer_9, offer_6 have a successeful story"
   ]
  },
  {
   "cell_type": "markdown",
   "metadata": {},
   "source": [
    "### Distribution of Offers based on Gender"
   ]
  },
  {
   "cell_type": "code",
   "execution_count": 77,
   "metadata": {
    "ExecuteTime": {
     "end_time": "2021-08-19T13:57:12.957563Z",
     "start_time": "2021-08-19T13:57:12.749370Z"
    },
    "hide_input": false,
    "scrolled": false
   },
   "outputs": [
    {
     "data": {
      "image/png": "[encoded data removed]",
      "text/plain": [
       "<Figure size 1080x360 with 1 Axes>"
      ]
     },
     "metadata": {},
     "output_type": "display_data"
    }
   ],
   "source": [
    "plt.subplots(figsize=(15,5))\n",
    "ax = sns.countplot(data = overall_df, x = 'offer_name', hue = 'gender', \n",
    "                   )\n",
    "plt.title('Distribution of Offers based on Gender', fontdict=font);\n",
    "plt.xticks(rotation=20);\n",
    "plt.xlabel('Offers Name');"
   ]
  },
  {
   "cell_type": "markdown",
   "metadata": {},
   "source": [
    "> We can notice that male have more offers then female and that is normal because the count of male is more than female"
   ]
  },
  {
   "cell_type": "markdown",
   "metadata": {},
   "source": [
    "### Distribution of Success based on Gender"
   ]
  },
  {
   "cell_type": "code",
   "execution_count": 78,
   "metadata": {
    "ExecuteTime": {
     "end_time": "2021-08-19T13:57:13.092538Z",
     "start_time": "2021-08-19T13:57:12.958917Z"
    },
    "hide_input": false,
    "scrolled": true
   },
   "outputs": [
    {
     "data": {
      "image/png": "[encoded data removed]",
      "text/plain": [
       "<Figure size 720x360 with 1 Axes>"
      ]
     },
     "metadata": {},
     "output_type": "display_data"
    }
   ],
   "source": [
    "ax = sns.countplot(data = overall_df, x = 'gender', hue = 'successful_offer', \n",
    "                   palette=['#AAB7B8', '#5DADE2'])\n",
    "ax.legend(['Failure', 'Success'], title = 'Offer', );\n",
    "plt.title('Distribution of Success based on gender', fontdict=font);\n",
    "plt.xlabel('Gender');"
   ]
  },
  {
   "cell_type": "markdown",
   "metadata": {},
   "source": [
    "> The offers is failed with male more than female"
   ]
  },
  {
   "cell_type": "markdown",
   "metadata": {},
   "source": [
    "### Distribution of of Success offers based on Gender"
   ]
  },
  {
   "cell_type": "code",
   "execution_count": 79,
   "metadata": {
    "ExecuteTime": {
     "end_time": "2021-08-19T13:57:13.261605Z",
     "start_time": "2021-08-19T13:57:13.093437Z"
    },
    "hide_input": false,
    "scrolled": true
   },
   "outputs": [
    {
     "data": {
      "image/png": "[encoded data removed]",
      "text/plain": [
       "<Figure size 1080x360 with 1 Axes>"
      ]
     },
     "metadata": {},
     "output_type": "display_data"
    }
   ],
   "source": [
    "succes_offer = overall_df[overall_df.successful_offer == 1]\n",
    "plt.subplots(figsize=(15,5))\n",
    "ax = sns.countplot(data = succes_offer, x = 'offer_name', hue = 'gender', \n",
    "                   )\n",
    "plt.title('Distribution of of Success offers based on Gender', fontdict=font);\n",
    "plt.xticks(rotation=20);\n",
    "plt.xlabel('Offers Name');"
   ]
  },
  {
   "cell_type": "markdown",
   "metadata": {},
   "source": [
    "> We can notice that the success offer in female is more than the other despite of the male in data set is more than female"
   ]
  },
  {
   "cell_type": "markdown",
   "metadata": {},
   "source": [
    "### Income Distribution Based on Success"
   ]
  },
  {
   "cell_type": "code",
   "execution_count": 80,
   "metadata": {
    "ExecuteTime": {
     "end_time": "2021-08-19T13:57:13.487460Z",
     "start_time": "2021-08-19T13:57:13.262505Z"
    },
    "hide_input": false,
    "scrolled": true
   },
   "outputs": [
    {
     "data": {
      "image/png": "[encoded data removed]",
      "text/plain": [
       "<Figure size 720x360 with 1 Axes>"
      ]
     },
     "metadata": {},
     "output_type": "display_data"
    }
   ],
   "source": [
    "ax = sns.histplot(data=overall_df, x=\"income\", hue=\"successful_offer\", multiple=\"stack\", \n",
    "            bins=10);\n",
    "\n",
    "bin_edges = np.arange(0, profile['income'].max()+1, 10000)\n",
    "\n",
    "plt.xticks(bin_edges)\n",
    "plt.xlim(profile.income.min()-5000, profile.income.max()+5000)\n",
    "plt.title('Income Distribution Based on Success', fontdict=font);"
   ]
  },
  {
   "cell_type": "markdown",
   "metadata": {},
   "source": [
    "> We can notice that the income does not have any role in the reject offers"
   ]
  },
  {
   "cell_type": "markdown",
   "metadata": {
    "cell_style": "center"
   },
   "source": [
    "# Modeling\n",
    "\n",
    "I will build a model that **predicts whether or not someone will respond to an offer**. "
   ]
  },
  {
   "cell_type": "code",
   "execution_count": 81,
   "metadata": {
    "ExecuteTime": {
     "end_time": "2021-08-19T13:57:13.592834Z",
     "start_time": "2021-08-19T13:57:13.488484Z"
    }
   },
   "outputs": [],
   "source": [
    "overall_df = pd.read_csv('data/overall_df.csv')"
   ]
  },
  {
   "cell_type": "markdown",
   "metadata": {},
   "source": [
    "## Data Preparation"
   ]
  },
  {
   "cell_type": "code",
   "execution_count": 82,
   "metadata": {
    "ExecuteTime": {
     "end_time": "2021-08-19T13:57:13.606234Z",
     "start_time": "2021-08-19T13:57:13.593742Z"
    }
   },
   "outputs": [
    {
     "data": {
      "text/html": [
       "<div>\n",
       "<style scoped>\n",
       "    .dataframe tbody tr th:only-of-type {\n",
       "        vertical-align: middle;\n",
       "    }\n",
       "\n",
       "    .dataframe tbody tr th {\n",
       "        vertical-align: top;\n",
       "    }\n",
       "\n",
       "    .dataframe thead th {\n",
       "        text-align: right;\n",
       "    }\n",
       "</style>\n",
       "<table border=\"1\" class=\"dataframe\">\n",
       "  <thead>\n",
       "    <tr style=\"text-align: right;\">\n",
       "      <th></th>\n",
       "      <th>customer_id</th>\n",
       "      <th>offer_id</th>\n",
       "      <th>offer completed</th>\n",
       "      <th>offer received</th>\n",
       "      <th>offer viewed</th>\n",
       "      <th>successful_offer</th>\n",
       "      <th>reward</th>\n",
       "      <th>difficulty</th>\n",
       "      <th>duration</th>\n",
       "      <th>offer_type</th>\n",
       "      <th>...</th>\n",
       "      <th>offer_name</th>\n",
       "      <th>gender</th>\n",
       "      <th>age</th>\n",
       "      <th>income</th>\n",
       "      <th>Female</th>\n",
       "      <th>Male</th>\n",
       "      <th>other</th>\n",
       "      <th>become_member_on_year</th>\n",
       "      <th>become_member_on_month</th>\n",
       "      <th>become_member_on_day</th>\n",
       "    </tr>\n",
       "  </thead>\n",
       "  <tbody>\n",
       "    <tr>\n",
       "      <th>0</th>\n",
       "      <td>0009655768c64bdeb2e877511632db8f</td>\n",
       "      <td>2906b810c7d4411798c6938adc9daaa5</td>\n",
       "      <td>1</td>\n",
       "      <td>1</td>\n",
       "      <td>0</td>\n",
       "      <td>0</td>\n",
       "      <td>2</td>\n",
       "      <td>10</td>\n",
       "      <td>7</td>\n",
       "      <td>discount</td>\n",
       "      <td>...</td>\n",
       "      <td>offer_10</td>\n",
       "      <td>M</td>\n",
       "      <td>33</td>\n",
       "      <td>72000.0</td>\n",
       "      <td>0.0</td>\n",
       "      <td>1.0</td>\n",
       "      <td>0.0</td>\n",
       "      <td>2017</td>\n",
       "      <td>4</td>\n",
       "      <td>21</td>\n",
       "    </tr>\n",
       "    <tr>\n",
       "      <th>1</th>\n",
       "      <td>0009655768c64bdeb2e877511632db8f</td>\n",
       "      <td>3f207df678b143eea3cee63160fa8bed</td>\n",
       "      <td>0</td>\n",
       "      <td>1</td>\n",
       "      <td>1</td>\n",
       "      <td>0</td>\n",
       "      <td>0</td>\n",
       "      <td>0</td>\n",
       "      <td>4</td>\n",
       "      <td>informational</td>\n",
       "      <td>...</td>\n",
       "      <td>offer_3</td>\n",
       "      <td>M</td>\n",
       "      <td>33</td>\n",
       "      <td>72000.0</td>\n",
       "      <td>0.0</td>\n",
       "      <td>1.0</td>\n",
       "      <td>0.0</td>\n",
       "      <td>2017</td>\n",
       "      <td>4</td>\n",
       "      <td>21</td>\n",
       "    </tr>\n",
       "    <tr>\n",
       "      <th>2</th>\n",
       "      <td>0009655768c64bdeb2e877511632db8f</td>\n",
       "      <td>5a8bc65990b245e5a138643cd4eb9837</td>\n",
       "      <td>0</td>\n",
       "      <td>1</td>\n",
       "      <td>1</td>\n",
       "      <td>0</td>\n",
       "      <td>0</td>\n",
       "      <td>0</td>\n",
       "      <td>3</td>\n",
       "      <td>informational</td>\n",
       "      <td>...</td>\n",
       "      <td>offer_8</td>\n",
       "      <td>M</td>\n",
       "      <td>33</td>\n",
       "      <td>72000.0</td>\n",
       "      <td>0.0</td>\n",
       "      <td>1.0</td>\n",
       "      <td>0.0</td>\n",
       "      <td>2017</td>\n",
       "      <td>4</td>\n",
       "      <td>21</td>\n",
       "    </tr>\n",
       "    <tr>\n",
       "      <th>3</th>\n",
       "      <td>0009655768c64bdeb2e877511632db8f</td>\n",
       "      <td>f19421c1d4aa40978ebb69ca19b0e20d</td>\n",
       "      <td>1</td>\n",
       "      <td>1</td>\n",
       "      <td>1</td>\n",
       "      <td>1</td>\n",
       "      <td>5</td>\n",
       "      <td>5</td>\n",
       "      <td>5</td>\n",
       "      <td>bogo</td>\n",
       "      <td>...</td>\n",
       "      <td>offer_9</td>\n",
       "      <td>M</td>\n",
       "      <td>33</td>\n",
       "      <td>72000.0</td>\n",
       "      <td>0.0</td>\n",
       "      <td>1.0</td>\n",
       "      <td>0.0</td>\n",
       "      <td>2017</td>\n",
       "      <td>4</td>\n",
       "      <td>21</td>\n",
       "    </tr>\n",
       "    <tr>\n",
       "      <th>4</th>\n",
       "      <td>0009655768c64bdeb2e877511632db8f</td>\n",
       "      <td>fafdcd668e3743c1bb461111dcafc2a4</td>\n",
       "      <td>1</td>\n",
       "      <td>1</td>\n",
       "      <td>1</td>\n",
       "      <td>1</td>\n",
       "      <td>2</td>\n",
       "      <td>10</td>\n",
       "      <td>10</td>\n",
       "      <td>discount</td>\n",
       "      <td>...</td>\n",
       "      <td>offer_7</td>\n",
       "      <td>M</td>\n",
       "      <td>33</td>\n",
       "      <td>72000.0</td>\n",
       "      <td>0.0</td>\n",
       "      <td>1.0</td>\n",
       "      <td>0.0</td>\n",
       "      <td>2017</td>\n",
       "      <td>4</td>\n",
       "      <td>21</td>\n",
       "    </tr>\n",
       "  </tbody>\n",
       "</table>\n",
       "<p>5 rows × 27 columns</p>\n",
       "</div>"
      ],
      "text/plain": [
       "                        customer_id                          offer_id  \\\n",
       "0  0009655768c64bdeb2e877511632db8f  2906b810c7d4411798c6938adc9daaa5   \n",
       "1  0009655768c64bdeb2e877511632db8f  3f207df678b143eea3cee63160fa8bed   \n",
       "2  0009655768c64bdeb2e877511632db8f  5a8bc65990b245e5a138643cd4eb9837   \n",
       "3  0009655768c64bdeb2e877511632db8f  f19421c1d4aa40978ebb69ca19b0e20d   \n",
       "4  0009655768c64bdeb2e877511632db8f  fafdcd668e3743c1bb461111dcafc2a4   \n",
       "\n",
       "   offer completed  offer received  offer viewed  successful_offer  reward  \\\n",
       "0                1               1             0                 0       2   \n",
       "1                0               1             1                 0       0   \n",
       "2                0               1             1                 0       0   \n",
       "3                1               1             1                 1       5   \n",
       "4                1               1             1                 1       2   \n",
       "\n",
       "   difficulty  duration     offer_type  ...  offer_name  gender  age   income  \\\n",
       "0          10         7       discount  ...    offer_10       M   33  72000.0   \n",
       "1           0         4  informational  ...     offer_3       M   33  72000.0   \n",
       "2           0         3  informational  ...     offer_8       M   33  72000.0   \n",
       "3           5         5           bogo  ...     offer_9       M   33  72000.0   \n",
       "4          10        10       discount  ...     offer_7       M   33  72000.0   \n",
       "\n",
       "   Female  Male  other become_member_on_year become_member_on_month  \\\n",
       "0     0.0   1.0    0.0                  2017                      4   \n",
       "1     0.0   1.0    0.0                  2017                      4   \n",
       "2     0.0   1.0    0.0                  2017                      4   \n",
       "3     0.0   1.0    0.0                  2017                      4   \n",
       "4     0.0   1.0    0.0                  2017                      4   \n",
       "\n",
       "   become_member_on_day  \n",
       "0                    21  \n",
       "1                    21  \n",
       "2                    21  \n",
       "3                    21  \n",
       "4                    21  \n",
       "\n",
       "[5 rows x 27 columns]"
      ]
     },
     "execution_count": 82,
     "metadata": {},
     "output_type": "execute_result"
    }
   ],
   "source": [
    "overall_df.head()"
   ]
  },
  {
   "cell_type": "code",
   "execution_count": 83,
   "metadata": {
    "ExecuteTime": {
     "end_time": "2021-08-19T13:57:13.719591Z",
     "start_time": "2021-08-19T13:57:13.607222Z"
    }
   },
   "outputs": [],
   "source": [
    "# create x and y data\n",
    "X = overall_df.drop(['customer_id', 'offer_id', \n",
    "                     'offer_type', 'gender', 'offer_name', 'successful_offer', \n",
    "                    'offer received', 'social', 'discount', 'other', # remove C-1 binary variables\n",
    "                     'become_member_on_year', 'become_member_on_month',\n",
    "                     'become_member_on_day'], axis=1)\n",
    "y = overall_df.loc[:, 'successful_offer']"
   ]
  },
  {
   "cell_type": "markdown",
   "metadata": {},
   "source": [
    "## ML Pipline"
   ]
  },
  {
   "cell_type": "code",
   "execution_count": 84,
   "metadata": {
    "ExecuteTime": {
     "end_time": "2021-08-19T13:57:13.803546Z",
     "start_time": "2021-08-19T13:57:13.720910Z"
    }
   },
   "outputs": [
    {
     "data": {
      "text/html": [
       "<div>\n",
       "<style scoped>\n",
       "    .dataframe tbody tr th:only-of-type {\n",
       "        vertical-align: middle;\n",
       "    }\n",
       "\n",
       "    .dataframe tbody tr th {\n",
       "        vertical-align: top;\n",
       "    }\n",
       "\n",
       "    .dataframe thead th {\n",
       "        text-align: right;\n",
       "    }\n",
       "</style>\n",
       "<table border=\"1\" class=\"dataframe\">\n",
       "  <thead>\n",
       "    <tr style=\"text-align: right;\">\n",
       "      <th></th>\n",
       "      <th>offer completed</th>\n",
       "      <th>offer viewed</th>\n",
       "      <th>reward</th>\n",
       "      <th>difficulty</th>\n",
       "      <th>duration</th>\n",
       "      <th>web</th>\n",
       "      <th>email</th>\n",
       "      <th>mobile</th>\n",
       "      <th>bogo</th>\n",
       "      <th>informational</th>\n",
       "      <th>age</th>\n",
       "      <th>income</th>\n",
       "      <th>Female</th>\n",
       "      <th>Male</th>\n",
       "    </tr>\n",
       "  </thead>\n",
       "  <tbody>\n",
       "    <tr>\n",
       "      <th>0</th>\n",
       "      <td>1</td>\n",
       "      <td>0</td>\n",
       "      <td>2</td>\n",
       "      <td>10</td>\n",
       "      <td>7</td>\n",
       "      <td>1</td>\n",
       "      <td>1</td>\n",
       "      <td>1</td>\n",
       "      <td>0</td>\n",
       "      <td>0</td>\n",
       "      <td>33</td>\n",
       "      <td>72000.0</td>\n",
       "      <td>0.0</td>\n",
       "      <td>1.0</td>\n",
       "    </tr>\n",
       "    <tr>\n",
       "      <th>1</th>\n",
       "      <td>0</td>\n",
       "      <td>1</td>\n",
       "      <td>0</td>\n",
       "      <td>0</td>\n",
       "      <td>4</td>\n",
       "      <td>1</td>\n",
       "      <td>1</td>\n",
       "      <td>1</td>\n",
       "      <td>0</td>\n",
       "      <td>1</td>\n",
       "      <td>33</td>\n",
       "      <td>72000.0</td>\n",
       "      <td>0.0</td>\n",
       "      <td>1.0</td>\n",
       "    </tr>\n",
       "    <tr>\n",
       "      <th>2</th>\n",
       "      <td>0</td>\n",
       "      <td>1</td>\n",
       "      <td>0</td>\n",
       "      <td>0</td>\n",
       "      <td>3</td>\n",
       "      <td>0</td>\n",
       "      <td>1</td>\n",
       "      <td>1</td>\n",
       "      <td>0</td>\n",
       "      <td>1</td>\n",
       "      <td>33</td>\n",
       "      <td>72000.0</td>\n",
       "      <td>0.0</td>\n",
       "      <td>1.0</td>\n",
       "    </tr>\n",
       "    <tr>\n",
       "      <th>3</th>\n",
       "      <td>1</td>\n",
       "      <td>1</td>\n",
       "      <td>5</td>\n",
       "      <td>5</td>\n",
       "      <td>5</td>\n",
       "      <td>1</td>\n",
       "      <td>1</td>\n",
       "      <td>1</td>\n",
       "      <td>1</td>\n",
       "      <td>0</td>\n",
       "      <td>33</td>\n",
       "      <td>72000.0</td>\n",
       "      <td>0.0</td>\n",
       "      <td>1.0</td>\n",
       "    </tr>\n",
       "    <tr>\n",
       "      <th>4</th>\n",
       "      <td>1</td>\n",
       "      <td>1</td>\n",
       "      <td>2</td>\n",
       "      <td>10</td>\n",
       "      <td>10</td>\n",
       "      <td>1</td>\n",
       "      <td>1</td>\n",
       "      <td>1</td>\n",
       "      <td>0</td>\n",
       "      <td>0</td>\n",
       "      <td>33</td>\n",
       "      <td>72000.0</td>\n",
       "      <td>0.0</td>\n",
       "      <td>1.0</td>\n",
       "    </tr>\n",
       "  </tbody>\n",
       "</table>\n",
       "</div>"
      ],
      "text/plain": [
       "   offer completed  offer viewed  reward  difficulty  duration  web  email  \\\n",
       "0                1             0       2          10         7    1      1   \n",
       "1                0             1       0           0         4    1      1   \n",
       "2                0             1       0           0         3    0      1   \n",
       "3                1             1       5           5         5    1      1   \n",
       "4                1             1       2          10        10    1      1   \n",
       "\n",
       "   mobile  bogo  informational  age   income  Female  Male  \n",
       "0       1     0              0   33  72000.0     0.0   1.0  \n",
       "1       1     0              1   33  72000.0     0.0   1.0  \n",
       "2       1     0              1   33  72000.0     0.0   1.0  \n",
       "3       1     1              0   33  72000.0     0.0   1.0  \n",
       "4       1     0              0   33  72000.0     0.0   1.0  "
      ]
     },
     "execution_count": 84,
     "metadata": {},
     "output_type": "execute_result"
    }
   ],
   "source": [
    "X.iloc[:5]"
   ]
  },
  {
   "cell_type": "code",
   "execution_count": 85,
   "metadata": {
    "ExecuteTime": {
     "end_time": "2021-08-19T13:57:13.875030Z",
     "start_time": "2021-08-19T13:57:13.805375Z"
    }
   },
   "outputs": [
    {
     "data": {
      "text/plain": [
       "(55222, 14)"
      ]
     },
     "execution_count": 85,
     "metadata": {},
     "output_type": "execute_result"
    }
   ],
   "source": [
    "X.shape"
   ]
  },
  {
   "cell_type": "markdown",
   "metadata": {},
   "source": [
    "### Train Test Split"
   ]
  },
  {
   "cell_type": "code",
   "execution_count": 86,
   "metadata": {
    "ExecuteTime": {
     "end_time": "2021-08-19T13:57:13.962446Z",
     "start_time": "2021-08-19T13:57:13.876210Z"
    }
   },
   "outputs": [],
   "source": [
    "X_train,X_test,y_train,y_test =\\\n",
    "    train_test_split(X, y, \n",
    "                     test_size=0.3, random_state=42)\n"
   ]
  },
  {
   "cell_type": "markdown",
   "metadata": {},
   "source": [
    "### Create Transformers"
   ]
  },
  {
   "cell_type": "code",
   "execution_count": 87,
   "metadata": {
    "ExecuteTime": {
     "end_time": "2021-08-19T13:57:14.032321Z",
     "start_time": "2021-08-19T13:57:13.963357Z"
    }
   },
   "outputs": [],
   "source": [
    "all_column = X.columns\n",
    "\n",
    "# feature scaling\n",
    "trf1 = ColumnTransformer([\n",
    "    ('scale', MinMaxScaler(), all_column)\n",
    "])\n",
    "\n",
    "trf2 = LogisticRegression(solver='liblinear',random_state=42)"
   ]
  },
  {
   "cell_type": "markdown",
   "metadata": {},
   "source": [
    "### Create Pipeline"
   ]
  },
  {
   "cell_type": "code",
   "execution_count": 88,
   "metadata": {
    "ExecuteTime": {
     "end_time": "2021-08-19T13:57:14.245581Z",
     "start_time": "2021-08-19T13:57:14.033659Z"
    }
   },
   "outputs": [],
   "source": [
    "pipe = Pipeline([\n",
    "    ('trf1', trf1),\n",
    "    ('trf2', trf2),\n",
    "])\n",
    "\n",
    "#fit data\n",
    "pipe.fit(X_train, y_train);"
   ]
  },
  {
   "cell_type": "code",
   "execution_count": 89,
   "metadata": {
    "ExecuteTime": {
     "end_time": "2021-08-19T13:57:16.283545Z",
     "start_time": "2021-08-19T13:57:14.246448Z"
    }
   },
   "outputs": [],
   "source": [
    "# check cross validation \n",
    "scoring = ['accuracy', 'precision', 'recall']\n",
    "\n",
    "cross_val = cross_validate(pipe, X, y, cv=10, scoring=scoring)"
   ]
  },
  {
   "cell_type": "markdown",
   "metadata": {},
   "source": [
    "### Check the Accurecy"
   ]
  },
  {
   "cell_type": "code",
   "execution_count": 90,
   "metadata": {
    "ExecuteTime": {
     "end_time": "2021-08-19T13:57:16.288557Z",
     "start_time": "2021-08-19T13:57:16.284460Z"
    }
   },
   "outputs": [
    {
     "name": "stdout",
     "output_type": "stream",
     "text": [
      "╒════════════╤════════════════════════════════════════════════════════════════════╕\n",
      "│ Matrices   │ Score                                                              │\n",
      "╞════════════╪════════════════════════════════════════════════════════════════════╡\n",
      "│ Accuracy   │ [0.99203332 0.99311968 0.99348062 0.99257515 0.99329953 0.99094531 │\n",
      "│            │  0.9913075  0.99456719 0.99166968 0.9913075 ]                      │\n",
      "├────────────┼────────────────────────────────────────────────────────────────────┤\n",
      "│ Precision  │ [0.98162072 0.9840871  0.98490566 0.98285236 0.98449937 0.97916667 │\n",
      "│            │  0.97998332 0.98739496 0.98080134 0.97998332]                      │\n",
      "├────────────┼────────────────────────────────────────────────────────────────────┤\n",
      "│ Recall     │ [1. 1. 1. 1. 1. 1. 1. 1. 1. 1.]                                    │\n",
      "╘════════════╧════════════════════════════════════════════════════════════════════╛\n"
     ]
    }
   ],
   "source": [
    "# cross validation accurecy\n",
    "table = []\n",
    "header = [\"Matrices\", 'Score']\n",
    "table.append(['Accuracy', cross_val['test_accuracy']])\n",
    "table.append(['Precision', cross_val['test_precision']])\n",
    "table.append(['Recall', cross_val['test_recall']])\n",
    "\n",
    "print(tabulate(table, header, tablefmt=\"fancy_grid\"))"
   ]
  },
  {
   "cell_type": "markdown",
   "metadata": {},
   "source": [
    "---"
   ]
  },
  {
   "cell_type": "code",
   "execution_count": 91,
   "metadata": {
    "ExecuteTime": {
     "end_time": "2021-08-19T13:57:16.377960Z",
     "start_time": "2021-08-19T13:57:16.289809Z"
    }
   },
   "outputs": [
    {
     "data": {
      "text/plain": [
       "0.991609826764049"
      ]
     },
     "execution_count": 91,
     "metadata": {},
     "output_type": "execute_result"
    }
   ],
   "source": [
    "# pipeline accurecy\n",
    "pipe.score(X_test, y_test)"
   ]
  },
  {
   "cell_type": "code",
   "execution_count": 92,
   "metadata": {
    "ExecuteTime": {
     "end_time": "2021-08-19T13:57:16.595343Z",
     "start_time": "2021-08-19T13:57:16.378838Z"
    }
   },
   "outputs": [
    {
     "data": {
      "image/png": "[encoded data removed]",
      "text/plain": [
       "<Figure size 720x360 with 1 Axes>"
      ]
     },
     "metadata": {},
     "output_type": "display_data"
    }
   ],
   "source": [
    "y_pred = pipe.predict(X_test)\n",
    "cf_matrix = confusion_matrix(y_test, y_pred)\n",
    "\n",
    "group_names =  ['True Neg','False Pos','False Neg','True Pos']\n",
    "categories = ['Zero', 'One']\n",
    "\n",
    "make_confusion_matrix(cf_matrix, group_names,categories, cbar=False)"
   ]
  }
 ],
 "metadata": {
  "gist": {
   "data": {
    "description": "Projects/Starbucks Capstone/Starbucks_Capstone_notebook.ipynb",
    "public": true
   },
   "id": ""
  },
  "hide_input": false,
  "kernelspec": {
   "display_name": "Python 3",
   "language": "python",
   "name": "python3"
  },
  "language_info": {
   "codemirror_mode": {
    "name": "ipython",
    "version": 3
   },
   "file_extension": ".py",
   "mimetype": "text/x-python",
   "name": "python",
   "nbconvert_exporter": "python",
   "pygments_lexer": "ipython3",
   "version": "3.8.10"
  },
  "toc": {
   "base_numbering": 1,
   "nav_menu": {
    "height": "12px",
    "width": "160px"
   },
   "number_sections": true,
   "sideBar": true,
   "skip_h1_title": false,
   "title_cell": "Table of Contents",
   "title_sidebar": "Contents",
   "toc_cell": false,
   "toc_position": {
    "height": "calc(100% - 180px)",
    "left": "10px",
    "top": "150px",
    "width": "256px"
   },
   "toc_section_display": true,
   "toc_window_display": true
  }
 },
 "nbformat": 4,
 "nbformat_minor": 2
}
